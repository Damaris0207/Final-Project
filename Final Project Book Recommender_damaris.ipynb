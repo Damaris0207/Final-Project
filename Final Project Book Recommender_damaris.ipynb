{
 "cells": [
  {
   "cell_type": "markdown",
   "id": "723201a5",
   "metadata": {},
   "source": [
    "# Book recommender project"
   ]
  },
  {
   "cell_type": "markdown",
   "id": "5d7bacb5",
   "metadata": {},
   "source": [
    "### Importing libraries "
   ]
  },
  {
   "cell_type": "code",
   "execution_count": 1,
   "id": "eec4b008",
   "metadata": {},
   "outputs": [],
   "source": [
    "# data cleaning and EDA\n",
    "import pandas as pd\n",
    "import numpy as np\n",
    "import seaborn as sns\n",
    "import matplotlib.pyplot as plt\n",
    "# build a model\n",
    "from sklearn.preprocessing import OneHotEncoder\n",
    "from sklearn.cluster import KMeans\n",
    "from sklearn.preprocessing import StandardScaler\n",
    "# text analysis\n",
    "import nltk \n",
    "from nltk.corpus import stopwords\n",
    "from nltk.tokenize import word_tokenize\n",
    "#from textblob import TextBlob"
   ]
  },
  {
   "cell_type": "markdown",
   "id": "4ff9549e",
   "metadata": {
    "heading_collapsed": true
   },
   "source": [
    "### Reading the data "
   ]
  },
  {
   "cell_type": "code",
   "execution_count": 2,
   "id": "2624a86c",
   "metadata": {
    "hidden": true
   },
   "outputs": [],
   "source": [
    "data=pd.read_excel('survey_answers.xlsx')"
   ]
  },
  {
   "cell_type": "code",
   "execution_count": 4,
   "id": "ff944b06",
   "metadata": {
    "hidden": true
   },
   "outputs": [
    {
     "data": {
      "text/html": [
       "<div>\n",
       "<style scoped>\n",
       "    .dataframe tbody tr th:only-of-type {\n",
       "        vertical-align: middle;\n",
       "    }\n",
       "\n",
       "    .dataframe tbody tr th {\n",
       "        vertical-align: top;\n",
       "    }\n",
       "\n",
       "    .dataframe thead th {\n",
       "        text-align: right;\n",
       "    }\n",
       "</style>\n",
       "<table border=\"1\" class=\"dataframe\">\n",
       "  <thead>\n",
       "    <tr style=\"text-align: right;\">\n",
       "      <th></th>\n",
       "      <th>Unnamed: 0</th>\n",
       "      <th>CHECKING TIME</th>\n",
       "      <th>Book title</th>\n",
       "      <th>Author</th>\n",
       "      <th>Publishing house</th>\n",
       "      <th>Literary genre:</th>\n",
       "      <th>Subgenre (only if it is necessary)</th>\n",
       "      <th>Publication date ONLY YEAR</th>\n",
       "      <th>TOTAL number of pages</th>\n",
       "      <th>In which kind of edition can we find this book?</th>\n",
       "      <th>...</th>\n",
       "      <th>How many MAIN characters has this book?</th>\n",
       "      <th>MAIN character gender:</th>\n",
       "      <th>MAIN character age:</th>\n",
       "      <th>Describe the main character. How do you feel about him/her?</th>\n",
       "      <th>POINT OF VIEW. Who tells the story?</th>\n",
       "      <th>Does the book have a film/tv adaptation?</th>\n",
       "      <th>REVIEW / KEYWORDS. How would you refer to this book?</th>\n",
       "      <th>How the book made you feel?</th>\n",
       "      <th>Write here your favourite quote of the book or the first quote the book starts with:</th>\n",
       "      <th>Marca temporal</th>\n",
       "    </tr>\n",
       "  </thead>\n",
       "  <tbody>\n",
       "    <tr>\n",
       "      <th>0</th>\n",
       "      <td>0</td>\n",
       "      <td>2021-07-16 22:46:47.301</td>\n",
       "      <td>Nosotros en la luna</td>\n",
       "      <td>Alice kellen</td>\n",
       "      <td>Planeta</td>\n",
       "      <td>romance</td>\n",
       "      <td>new adult</td>\n",
       "      <td>2020</td>\n",
       "      <td>477</td>\n",
       "      <td>paperback, pocket</td>\n",
       "      <td>...</td>\n",
       "      <td>1 - 3</td>\n",
       "      <td>female</td>\n",
       "      <td>18-30</td>\n",
       "      <td>Ginger empieza siendo una chica insegura, está...</td>\n",
       "      <td>1st multiple</td>\n",
       "      <td>no</td>\n",
       "      <td>i recommend, favourite one, easy to read, cohe...</td>\n",
       "      <td>reflexive, escape from reality, intense emotio...</td>\n",
       "      <td>Es imposible saber cuando conocerás a esa pers...</td>\n",
       "      <td>NaT</td>\n",
       "    </tr>\n",
       "    <tr>\n",
       "      <th>1</th>\n",
       "      <td>1</td>\n",
       "      <td>2021-07-16 23:57:20.942</td>\n",
       "      <td>El día que se perdio la cordura</td>\n",
       "      <td>Javier Castillo</td>\n",
       "      <td>Debolsillo</td>\n",
       "      <td>thriller</td>\n",
       "      <td>psychological</td>\n",
       "      <td>2017</td>\n",
       "      <td>456</td>\n",
       "      <td>paperback, pocket</td>\n",
       "      <td>...</td>\n",
       "      <td>4 - 6</td>\n",
       "      <td>male</td>\n",
       "      <td>41-50</td>\n",
       "      <td>Una persona adulta</td>\n",
       "      <td>1st multiple</td>\n",
       "      <td>no</td>\n",
       "      <td>i recommend, favourite one</td>\n",
       "      <td>intense emotions, nervousness, empathy</td>\n",
       "      <td>Todavía no me puedo creer lo que hice anoche, ...</td>\n",
       "      <td>NaT</td>\n",
       "    </tr>\n",
       "    <tr>\n",
       "      <th>2</th>\n",
       "      <td>2</td>\n",
       "      <td>2021-07-17 00:03:47.992</td>\n",
       "      <td>Dime quién soy</td>\n",
       "      <td>Julia Navarro</td>\n",
       "      <td>Plaza Janes</td>\n",
       "      <td>historical</td>\n",
       "      <td>NaN</td>\n",
       "      <td>2010</td>\n",
       "      <td>1097</td>\n",
       "      <td>paperback, pocket</td>\n",
       "      <td>...</td>\n",
       "      <td>1 - 3</td>\n",
       "      <td>female</td>\n",
       "      <td>18-30</td>\n",
       "      <td>Valiente pero a la vez insegura. Inmadura en m...</td>\n",
       "      <td>external narrator</td>\n",
       "      <td>yes</td>\n",
       "      <td>i recommend, favourite one, addictive, wonderf...</td>\n",
       "      <td>reflexive, intense emotions, overall good feel...</td>\n",
       "      <td>El despacho de mi tía resultaba agobiante. En ...</td>\n",
       "      <td>NaT</td>\n",
       "    </tr>\n",
       "  </tbody>\n",
       "</table>\n",
       "<p>3 rows × 26 columns</p>\n",
       "</div>"
      ],
      "text/plain": [
       "   Unnamed: 0           CHECKING TIME                       Book title  \\\n",
       "0           0 2021-07-16 22:46:47.301              Nosotros en la luna   \n",
       "1           1 2021-07-16 23:57:20.942  El día que se perdio la cordura   \n",
       "2           2 2021-07-17 00:03:47.992                   Dime quién soy   \n",
       "\n",
       "             Author Publishing house Literary genre:  \\\n",
       "0      Alice kellen          Planeta         romance   \n",
       "1  Javier Castillo        Debolsillo        thriller   \n",
       "2     Julia Navarro      Plaza Janes      historical   \n",
       "\n",
       "  Subgenre (only if it is necessary)  Publication date ONLY YEAR   \\\n",
       "0                          new adult                         2020   \n",
       "1                      psychological                         2017   \n",
       "2                                NaN                         2010   \n",
       "\n",
       "   TOTAL number of pages  In which kind of edition can we find this book?  \\\n",
       "0                     477                               paperback, pocket   \n",
       "1                     456                               paperback, pocket   \n",
       "2                    1097                               paperback, pocket   \n",
       "\n",
       "   ... How many MAIN characters has this book? MAIN character gender:  \\\n",
       "0  ...                                   1 - 3                 female   \n",
       "1  ...                                   4 - 6                   male   \n",
       "2  ...                                   1 - 3                 female   \n",
       "\n",
       "  MAIN character age:  \\\n",
       "0               18-30   \n",
       "1               41-50   \n",
       "2               18-30   \n",
       "\n",
       "  Describe the main character. How do you feel about him/her?  \\\n",
       "0  Ginger empieza siendo una chica insegura, está...            \n",
       "1                                 Una persona adulta            \n",
       "2  Valiente pero a la vez insegura. Inmadura en m...            \n",
       "\n",
       "  POINT OF VIEW. Who tells the story?  \\\n",
       "0                        1st multiple   \n",
       "1                        1st multiple   \n",
       "2                   external narrator   \n",
       "\n",
       "  Does the book have a film/tv adaptation?  \\\n",
       "0                                       no   \n",
       "1                                       no   \n",
       "2                                      yes   \n",
       "\n",
       "  REVIEW / KEYWORDS. How would you refer to this book?  \\\n",
       "0  i recommend, favourite one, easy to read, cohe...     \n",
       "1                         i recommend, favourite one     \n",
       "2  i recommend, favourite one, addictive, wonderf...     \n",
       "\n",
       "                         How the book made you feel?  \\\n",
       "0  reflexive, escape from reality, intense emotio...   \n",
       "1             intense emotions, nervousness, empathy   \n",
       "2  reflexive, intense emotions, overall good feel...   \n",
       "\n",
       "  Write here your favourite quote of the book or the first quote the book starts with:  \\\n",
       "0  Es imposible saber cuando conocerás a esa pers...                                     \n",
       "1  Todavía no me puedo creer lo que hice anoche, ...                                     \n",
       "2  El despacho de mi tía resultaba agobiante. En ...                                     \n",
       "\n",
       "  Marca temporal  \n",
       "0            NaT  \n",
       "1            NaT  \n",
       "2            NaT  \n",
       "\n",
       "[3 rows x 26 columns]"
      ]
     },
     "execution_count": 4,
     "metadata": {},
     "output_type": "execute_result"
    }
   ],
   "source": [
    "data.head(3)"
   ]
  },
  {
   "cell_type": "markdown",
   "id": "5e3f4573",
   "metadata": {
    "heading_collapsed": true
   },
   "source": [
    "### Standardising column names "
   ]
  },
  {
   "cell_type": "code",
   "execution_count": 5,
   "id": "4b3c7783",
   "metadata": {
    "hidden": true
   },
   "outputs": [
    {
     "data": {
      "text/plain": [
       "Index(['unnamed: 0', 'checking time', 'book title', 'author',\n",
       "       'publishing house', 'literary genre:',\n",
       "       'subgenre (only if it is necessary)', 'publication date only year ',\n",
       "       'total number of pages ',\n",
       "       'in which kind of edition can we find this book?',\n",
       "       'is it part of a series/saga, or is it a standalone book?',\n",
       "       'original language in which it was written',\n",
       "       'theme. can you tell me in 2-3 lines which is the starting point of the book?',\n",
       "       'what are the main topics of the book? think only about those that define it. ',\n",
       "       'setting time. in what year does this story take place?',\n",
       "       'setting place. in what country, city or town, does this story take place?',\n",
       "       'how many main characters has this book?', 'main character gender:',\n",
       "       'main character age:',\n",
       "       'describe the main character. how do you feel about him/her?',\n",
       "       'point of view. who tells the story?',\n",
       "       'does the book have a film/tv adaptation?',\n",
       "       'review / keywords. how would you refer to this book?',\n",
       "       'how the book made you feel?',\n",
       "       'write here your favourite quote of the book or the first quote the book starts with:',\n",
       "       'marca temporal'],\n",
       "      dtype='object')"
      ]
     },
     "execution_count": 5,
     "metadata": {},
     "output_type": "execute_result"
    }
   ],
   "source": [
    "# converting to lowercase and filling the gaps\n",
    "data.columns.str.lower()"
   ]
  },
  {
   "cell_type": "code",
   "execution_count": 6,
   "id": "b9a0022a",
   "metadata": {
    "hidden": true
   },
   "outputs": [],
   "source": [
    "data.columns = [col.lower().replace(' ','_') for col in data.columns]"
   ]
  },
  {
   "cell_type": "code",
   "execution_count": 7,
   "id": "49a5f593",
   "metadata": {
    "hidden": true
   },
   "outputs": [
    {
     "data": {
      "text/html": [
       "<div>\n",
       "<style scoped>\n",
       "    .dataframe tbody tr th:only-of-type {\n",
       "        vertical-align: middle;\n",
       "    }\n",
       "\n",
       "    .dataframe tbody tr th {\n",
       "        vertical-align: top;\n",
       "    }\n",
       "\n",
       "    .dataframe thead th {\n",
       "        text-align: right;\n",
       "    }\n",
       "</style>\n",
       "<table border=\"1\" class=\"dataframe\">\n",
       "  <thead>\n",
       "    <tr style=\"text-align: right;\">\n",
       "      <th></th>\n",
       "      <th>unnamed:_0</th>\n",
       "      <th>checking_time</th>\n",
       "      <th>book_title</th>\n",
       "      <th>author</th>\n",
       "      <th>publishing_house</th>\n",
       "      <th>literary_genre:</th>\n",
       "      <th>subgenre_(only_if_it_is_necessary)</th>\n",
       "      <th>publication_date_only_year_</th>\n",
       "      <th>total_number_of_pages_</th>\n",
       "      <th>in_which_kind_of_edition_can_we_find_this_book?</th>\n",
       "      <th>...</th>\n",
       "      <th>how_many_main_characters_has_this_book?</th>\n",
       "      <th>main_character_gender:</th>\n",
       "      <th>main_character_age:</th>\n",
       "      <th>describe_the_main_character._how_do_you_feel_about_him/her?</th>\n",
       "      <th>point_of_view._who_tells_the_story?</th>\n",
       "      <th>does_the_book_have_a_film/tv_adaptation?</th>\n",
       "      <th>review_/_keywords._how_would_you_refer_to_this_book?</th>\n",
       "      <th>how_the_book_made_you_feel?</th>\n",
       "      <th>write_here_your_favourite_quote_of_the_book_or_the_first_quote_the_book_starts_with:</th>\n",
       "      <th>marca_temporal</th>\n",
       "    </tr>\n",
       "  </thead>\n",
       "  <tbody>\n",
       "    <tr>\n",
       "      <th>0</th>\n",
       "      <td>0</td>\n",
       "      <td>2021-07-16 22:46:47.301</td>\n",
       "      <td>Nosotros en la luna</td>\n",
       "      <td>Alice kellen</td>\n",
       "      <td>Planeta</td>\n",
       "      <td>romance</td>\n",
       "      <td>new adult</td>\n",
       "      <td>2020</td>\n",
       "      <td>477</td>\n",
       "      <td>paperback, pocket</td>\n",
       "      <td>...</td>\n",
       "      <td>1 - 3</td>\n",
       "      <td>female</td>\n",
       "      <td>18-30</td>\n",
       "      <td>Ginger empieza siendo una chica insegura, está...</td>\n",
       "      <td>1st multiple</td>\n",
       "      <td>no</td>\n",
       "      <td>i recommend, favourite one, easy to read, cohe...</td>\n",
       "      <td>reflexive, escape from reality, intense emotio...</td>\n",
       "      <td>Es imposible saber cuando conocerás a esa pers...</td>\n",
       "      <td>NaT</td>\n",
       "    </tr>\n",
       "    <tr>\n",
       "      <th>1</th>\n",
       "      <td>1</td>\n",
       "      <td>2021-07-16 23:57:20.942</td>\n",
       "      <td>El día que se perdio la cordura</td>\n",
       "      <td>Javier Castillo</td>\n",
       "      <td>Debolsillo</td>\n",
       "      <td>thriller</td>\n",
       "      <td>psychological</td>\n",
       "      <td>2017</td>\n",
       "      <td>456</td>\n",
       "      <td>paperback, pocket</td>\n",
       "      <td>...</td>\n",
       "      <td>4 - 6</td>\n",
       "      <td>male</td>\n",
       "      <td>41-50</td>\n",
       "      <td>Una persona adulta</td>\n",
       "      <td>1st multiple</td>\n",
       "      <td>no</td>\n",
       "      <td>i recommend, favourite one</td>\n",
       "      <td>intense emotions, nervousness, empathy</td>\n",
       "      <td>Todavía no me puedo creer lo que hice anoche, ...</td>\n",
       "      <td>NaT</td>\n",
       "    </tr>\n",
       "    <tr>\n",
       "      <th>2</th>\n",
       "      <td>2</td>\n",
       "      <td>2021-07-17 00:03:47.992</td>\n",
       "      <td>Dime quién soy</td>\n",
       "      <td>Julia Navarro</td>\n",
       "      <td>Plaza Janes</td>\n",
       "      <td>historical</td>\n",
       "      <td>NaN</td>\n",
       "      <td>2010</td>\n",
       "      <td>1097</td>\n",
       "      <td>paperback, pocket</td>\n",
       "      <td>...</td>\n",
       "      <td>1 - 3</td>\n",
       "      <td>female</td>\n",
       "      <td>18-30</td>\n",
       "      <td>Valiente pero a la vez insegura. Inmadura en m...</td>\n",
       "      <td>external narrator</td>\n",
       "      <td>yes</td>\n",
       "      <td>i recommend, favourite one, addictive, wonderf...</td>\n",
       "      <td>reflexive, intense emotions, overall good feel...</td>\n",
       "      <td>El despacho de mi tía resultaba agobiante. En ...</td>\n",
       "      <td>NaT</td>\n",
       "    </tr>\n",
       "    <tr>\n",
       "      <th>3</th>\n",
       "      <td>3</td>\n",
       "      <td>2021-07-17 00:07:02.386</td>\n",
       "      <td>Una corte de rosas y espinas</td>\n",
       "      <td>Sarah J Maas</td>\n",
       "      <td>Planeta</td>\n",
       "      <td>fantasy</td>\n",
       "      <td>romance</td>\n",
       "      <td>2016</td>\n",
       "      <td>463</td>\n",
       "      <td>paperback</td>\n",
       "      <td>...</td>\n",
       "      <td>4 - 6</td>\n",
       "      <td>female</td>\n",
       "      <td>18-30</td>\n",
       "      <td>Fuerte pero con cierta vulnerabilidad</td>\n",
       "      <td>1st unique</td>\n",
       "      <td>no</td>\n",
       "      <td>favourite one</td>\n",
       "      <td>intense emotions, love</td>\n",
       "      <td>Por las estrellas que escuchan y los sueños qu...</td>\n",
       "      <td>NaT</td>\n",
       "    </tr>\n",
       "    <tr>\n",
       "      <th>4</th>\n",
       "      <td>4</td>\n",
       "      <td>2021-07-17 00:17:33.531</td>\n",
       "      <td>Frankenstein o El Moderno Prometeo</td>\n",
       "      <td>Mary Shelley</td>\n",
       "      <td>Edimat</td>\n",
       "      <td>science fiction</td>\n",
       "      <td>classic, gothic, victorian</td>\n",
       "      <td>1818</td>\n",
       "      <td>250</td>\n",
       "      <td>hardback</td>\n",
       "      <td>...</td>\n",
       "      <td>1 - 3</td>\n",
       "      <td>male</td>\n",
       "      <td>18-30</td>\n",
       "      <td>Hombre joven de la clase aristocrática de Gine...</td>\n",
       "      <td>1st multiple</td>\n",
       "      <td>yes</td>\n",
       "      <td>i recommend, favourite one, wonderful characte...</td>\n",
       "      <td>fun/laughing, reflexive, empathy, sadness, ten...</td>\n",
       "      <td>Aprende de mí, sino por mis preceptos, al meno...</td>\n",
       "      <td>NaT</td>\n",
       "    </tr>\n",
       "  </tbody>\n",
       "</table>\n",
       "<p>5 rows × 26 columns</p>\n",
       "</div>"
      ],
      "text/plain": [
       "   unnamed:_0           checking_time                          book_title  \\\n",
       "0           0 2021-07-16 22:46:47.301                 Nosotros en la luna   \n",
       "1           1 2021-07-16 23:57:20.942     El día que se perdio la cordura   \n",
       "2           2 2021-07-17 00:03:47.992                      Dime quién soy   \n",
       "3           3 2021-07-17 00:07:02.386        Una corte de rosas y espinas   \n",
       "4           4 2021-07-17 00:17:33.531  Frankenstein o El Moderno Prometeo   \n",
       "\n",
       "             author publishing_house  literary_genre:  \\\n",
       "0      Alice kellen          Planeta          romance   \n",
       "1  Javier Castillo        Debolsillo         thriller   \n",
       "2     Julia Navarro      Plaza Janes       historical   \n",
       "3      Sarah J Maas          Planeta          fantasy   \n",
       "4      Mary Shelley           Edimat  science fiction   \n",
       "\n",
       "  subgenre_(only_if_it_is_necessary)  publication_date_only_year_  \\\n",
       "0                          new adult                         2020   \n",
       "1                      psychological                         2017   \n",
       "2                                NaN                         2010   \n",
       "3                            romance                         2016   \n",
       "4         classic, gothic, victorian                         1818   \n",
       "\n",
       "   total_number_of_pages_ in_which_kind_of_edition_can_we_find_this_book?  \\\n",
       "0                     477                               paperback, pocket   \n",
       "1                     456                               paperback, pocket   \n",
       "2                    1097                               paperback, pocket   \n",
       "3                     463                                       paperback   \n",
       "4                     250                                        hardback   \n",
       "\n",
       "   ... how_many_main_characters_has_this_book? main_character_gender:  \\\n",
       "0  ...                                   1 - 3                 female   \n",
       "1  ...                                   4 - 6                   male   \n",
       "2  ...                                   1 - 3                 female   \n",
       "3  ...                                   4 - 6                 female   \n",
       "4  ...                                   1 - 3                   male   \n",
       "\n",
       "  main_character_age:  \\\n",
       "0               18-30   \n",
       "1               41-50   \n",
       "2               18-30   \n",
       "3               18-30   \n",
       "4               18-30   \n",
       "\n",
       "  describe_the_main_character._how_do_you_feel_about_him/her?  \\\n",
       "0  Ginger empieza siendo una chica insegura, está...            \n",
       "1                                 Una persona adulta            \n",
       "2  Valiente pero a la vez insegura. Inmadura en m...            \n",
       "3             Fuerte pero con cierta vulnerabilidad             \n",
       "4  Hombre joven de la clase aristocrática de Gine...            \n",
       "\n",
       "  point_of_view._who_tells_the_story?  \\\n",
       "0                        1st multiple   \n",
       "1                        1st multiple   \n",
       "2                   external narrator   \n",
       "3                          1st unique   \n",
       "4                        1st multiple   \n",
       "\n",
       "  does_the_book_have_a_film/tv_adaptation?  \\\n",
       "0                                       no   \n",
       "1                                       no   \n",
       "2                                      yes   \n",
       "3                                       no   \n",
       "4                                      yes   \n",
       "\n",
       "  review_/_keywords._how_would_you_refer_to_this_book?  \\\n",
       "0  i recommend, favourite one, easy to read, cohe...     \n",
       "1                         i recommend, favourite one     \n",
       "2  i recommend, favourite one, addictive, wonderf...     \n",
       "3                                      favourite one     \n",
       "4  i recommend, favourite one, wonderful characte...     \n",
       "\n",
       "                         how_the_book_made_you_feel?  \\\n",
       "0  reflexive, escape from reality, intense emotio...   \n",
       "1             intense emotions, nervousness, empathy   \n",
       "2  reflexive, intense emotions, overall good feel...   \n",
       "3                             intense emotions, love   \n",
       "4  fun/laughing, reflexive, empathy, sadness, ten...   \n",
       "\n",
       "  write_here_your_favourite_quote_of_the_book_or_the_first_quote_the_book_starts_with:  \\\n",
       "0  Es imposible saber cuando conocerás a esa pers...                                     \n",
       "1  Todavía no me puedo creer lo que hice anoche, ...                                     \n",
       "2  El despacho de mi tía resultaba agobiante. En ...                                     \n",
       "3  Por las estrellas que escuchan y los sueños qu...                                     \n",
       "4  Aprende de mí, sino por mis preceptos, al meno...                                     \n",
       "\n",
       "  marca_temporal  \n",
       "0            NaT  \n",
       "1            NaT  \n",
       "2            NaT  \n",
       "3            NaT  \n",
       "4            NaT  \n",
       "\n",
       "[5 rows x 26 columns]"
      ]
     },
     "execution_count": 7,
     "metadata": {},
     "output_type": "execute_result"
    }
   ],
   "source": [
    "data.head(5)"
   ]
  },
  {
   "cell_type": "code",
   "execution_count": 8,
   "id": "e0129d04",
   "metadata": {
    "hidden": true
   },
   "outputs": [],
   "source": [
    "# renaming the headers, they are too long\n",
    "data_renamed=data.rename(columns={'book_title': 'title',\n",
    "            'literary_genre:': 'genre',\n",
    "            'subgenre_(only_if_it_is_necessary)': 'subgenre',\n",
    "            'publication_date_only_year_': 'publication_date',\n",
    "            'total_number_of_pages_': 'pages',\n",
    "            'in_which_kind_of_edition_can_we_find_this_book?': 'edition',\n",
    "            'is_it_part_of_a_series/saga,_or_is_it_a_standalone_book?': 'story_length',\n",
    "            'original_language_in_which_it_was_written': 'original_language',\n",
    "            'theme._can_you_tell_me_in_2-3_lines_which_is_the_starting_point_of_the_book?': 'theme',\n",
    "            'what_are_the_main_topics_of_the_book?_think_only_about_those_that_define_it._': 'main_topics',\n",
    "            'setting_time._in_what_year_does_this_story_take_place?': 'setting_time',\n",
    "            'setting_place._in_what_country,_city_or_town,_does_this_story_take_place?': 'setting_place',\n",
    "            'how_many_main_characters_has_this_book?': 'character_number',\n",
    "            'main_character_gender:': 'character_gender',\n",
    "            'main_character_age:': 'character_age',\n",
    "            'describe_the_main_character._how_do_you_feel_about_him/her?': 'character_description',\n",
    "            'point_of_view._who_tells_the_story?': 'pov',\n",
    "            'does_the_book_have_a_film/tv_adaptation?': 'adaptation',\n",
    "            'review_/_keywords._how_would_you_refer_to_this_book?': 'review',\n",
    "            'how_the_book_made_you_feel?': 'feelings',\n",
    "            'write_here_your_favourite_quote_of_the_book_or_the_first_quote_the_book_starts_with:': 'quote'\n",
    "             }, inplace=False)"
   ]
  },
  {
   "cell_type": "code",
   "execution_count": 9,
   "id": "820ee50a",
   "metadata": {
    "hidden": true
   },
   "outputs": [
    {
     "data": {
      "text/html": [
       "<div>\n",
       "<style scoped>\n",
       "    .dataframe tbody tr th:only-of-type {\n",
       "        vertical-align: middle;\n",
       "    }\n",
       "\n",
       "    .dataframe tbody tr th {\n",
       "        vertical-align: top;\n",
       "    }\n",
       "\n",
       "    .dataframe thead th {\n",
       "        text-align: right;\n",
       "    }\n",
       "</style>\n",
       "<table border=\"1\" class=\"dataframe\">\n",
       "  <thead>\n",
       "    <tr style=\"text-align: right;\">\n",
       "      <th></th>\n",
       "      <th>unnamed:_0</th>\n",
       "      <th>checking_time</th>\n",
       "      <th>title</th>\n",
       "      <th>author</th>\n",
       "      <th>publishing_house</th>\n",
       "      <th>genre</th>\n",
       "      <th>subgenre</th>\n",
       "      <th>publication_date</th>\n",
       "      <th>pages</th>\n",
       "      <th>edition</th>\n",
       "      <th>...</th>\n",
       "      <th>character_number</th>\n",
       "      <th>character_gender</th>\n",
       "      <th>character_age</th>\n",
       "      <th>character_description</th>\n",
       "      <th>pov</th>\n",
       "      <th>adaptation</th>\n",
       "      <th>review</th>\n",
       "      <th>feelings</th>\n",
       "      <th>quote</th>\n",
       "      <th>marca_temporal</th>\n",
       "    </tr>\n",
       "  </thead>\n",
       "  <tbody>\n",
       "    <tr>\n",
       "      <th>0</th>\n",
       "      <td>0</td>\n",
       "      <td>2021-07-16 22:46:47.301</td>\n",
       "      <td>Nosotros en la luna</td>\n",
       "      <td>Alice kellen</td>\n",
       "      <td>Planeta</td>\n",
       "      <td>romance</td>\n",
       "      <td>new adult</td>\n",
       "      <td>2020</td>\n",
       "      <td>477</td>\n",
       "      <td>paperback, pocket</td>\n",
       "      <td>...</td>\n",
       "      <td>1 - 3</td>\n",
       "      <td>female</td>\n",
       "      <td>18-30</td>\n",
       "      <td>Ginger empieza siendo una chica insegura, está...</td>\n",
       "      <td>1st multiple</td>\n",
       "      <td>no</td>\n",
       "      <td>i recommend, favourite one, easy to read, cohe...</td>\n",
       "      <td>reflexive, escape from reality, intense emotio...</td>\n",
       "      <td>Es imposible saber cuando conocerás a esa pers...</td>\n",
       "      <td>NaT</td>\n",
       "    </tr>\n",
       "    <tr>\n",
       "      <th>1</th>\n",
       "      <td>1</td>\n",
       "      <td>2021-07-16 23:57:20.942</td>\n",
       "      <td>El día que se perdio la cordura</td>\n",
       "      <td>Javier Castillo</td>\n",
       "      <td>Debolsillo</td>\n",
       "      <td>thriller</td>\n",
       "      <td>psychological</td>\n",
       "      <td>2017</td>\n",
       "      <td>456</td>\n",
       "      <td>paperback, pocket</td>\n",
       "      <td>...</td>\n",
       "      <td>4 - 6</td>\n",
       "      <td>male</td>\n",
       "      <td>41-50</td>\n",
       "      <td>Una persona adulta</td>\n",
       "      <td>1st multiple</td>\n",
       "      <td>no</td>\n",
       "      <td>i recommend, favourite one</td>\n",
       "      <td>intense emotions, nervousness, empathy</td>\n",
       "      <td>Todavía no me puedo creer lo que hice anoche, ...</td>\n",
       "      <td>NaT</td>\n",
       "    </tr>\n",
       "    <tr>\n",
       "      <th>2</th>\n",
       "      <td>2</td>\n",
       "      <td>2021-07-17 00:03:47.992</td>\n",
       "      <td>Dime quién soy</td>\n",
       "      <td>Julia Navarro</td>\n",
       "      <td>Plaza Janes</td>\n",
       "      <td>historical</td>\n",
       "      <td>NaN</td>\n",
       "      <td>2010</td>\n",
       "      <td>1097</td>\n",
       "      <td>paperback, pocket</td>\n",
       "      <td>...</td>\n",
       "      <td>1 - 3</td>\n",
       "      <td>female</td>\n",
       "      <td>18-30</td>\n",
       "      <td>Valiente pero a la vez insegura. Inmadura en m...</td>\n",
       "      <td>external narrator</td>\n",
       "      <td>yes</td>\n",
       "      <td>i recommend, favourite one, addictive, wonderf...</td>\n",
       "      <td>reflexive, intense emotions, overall good feel...</td>\n",
       "      <td>El despacho de mi tía resultaba agobiante. En ...</td>\n",
       "      <td>NaT</td>\n",
       "    </tr>\n",
       "    <tr>\n",
       "      <th>3</th>\n",
       "      <td>3</td>\n",
       "      <td>2021-07-17 00:07:02.386</td>\n",
       "      <td>Una corte de rosas y espinas</td>\n",
       "      <td>Sarah J Maas</td>\n",
       "      <td>Planeta</td>\n",
       "      <td>fantasy</td>\n",
       "      <td>romance</td>\n",
       "      <td>2016</td>\n",
       "      <td>463</td>\n",
       "      <td>paperback</td>\n",
       "      <td>...</td>\n",
       "      <td>4 - 6</td>\n",
       "      <td>female</td>\n",
       "      <td>18-30</td>\n",
       "      <td>Fuerte pero con cierta vulnerabilidad</td>\n",
       "      <td>1st unique</td>\n",
       "      <td>no</td>\n",
       "      <td>favourite one</td>\n",
       "      <td>intense emotions, love</td>\n",
       "      <td>Por las estrellas que escuchan y los sueños qu...</td>\n",
       "      <td>NaT</td>\n",
       "    </tr>\n",
       "    <tr>\n",
       "      <th>4</th>\n",
       "      <td>4</td>\n",
       "      <td>2021-07-17 00:17:33.531</td>\n",
       "      <td>Frankenstein o El Moderno Prometeo</td>\n",
       "      <td>Mary Shelley</td>\n",
       "      <td>Edimat</td>\n",
       "      <td>science fiction</td>\n",
       "      <td>classic, gothic, victorian</td>\n",
       "      <td>1818</td>\n",
       "      <td>250</td>\n",
       "      <td>hardback</td>\n",
       "      <td>...</td>\n",
       "      <td>1 - 3</td>\n",
       "      <td>male</td>\n",
       "      <td>18-30</td>\n",
       "      <td>Hombre joven de la clase aristocrática de Gine...</td>\n",
       "      <td>1st multiple</td>\n",
       "      <td>yes</td>\n",
       "      <td>i recommend, favourite one, wonderful characte...</td>\n",
       "      <td>fun/laughing, reflexive, empathy, sadness, ten...</td>\n",
       "      <td>Aprende de mí, sino por mis preceptos, al meno...</td>\n",
       "      <td>NaT</td>\n",
       "    </tr>\n",
       "  </tbody>\n",
       "</table>\n",
       "<p>5 rows × 26 columns</p>\n",
       "</div>"
      ],
      "text/plain": [
       "   unnamed:_0           checking_time                               title  \\\n",
       "0           0 2021-07-16 22:46:47.301                 Nosotros en la luna   \n",
       "1           1 2021-07-16 23:57:20.942     El día que se perdio la cordura   \n",
       "2           2 2021-07-17 00:03:47.992                      Dime quién soy   \n",
       "3           3 2021-07-17 00:07:02.386        Una corte de rosas y espinas   \n",
       "4           4 2021-07-17 00:17:33.531  Frankenstein o El Moderno Prometeo   \n",
       "\n",
       "             author publishing_house            genre  \\\n",
       "0      Alice kellen          Planeta          romance   \n",
       "1  Javier Castillo        Debolsillo         thriller   \n",
       "2     Julia Navarro      Plaza Janes       historical   \n",
       "3      Sarah J Maas          Planeta          fantasy   \n",
       "4      Mary Shelley           Edimat  science fiction   \n",
       "\n",
       "                     subgenre  publication_date  pages            edition  \\\n",
       "0                   new adult              2020    477  paperback, pocket   \n",
       "1               psychological              2017    456  paperback, pocket   \n",
       "2                         NaN              2010   1097  paperback, pocket   \n",
       "3                     romance              2016    463          paperback   \n",
       "4  classic, gothic, victorian              1818    250           hardback   \n",
       "\n",
       "   ... character_number character_gender character_age  \\\n",
       "0  ...            1 - 3           female         18-30   \n",
       "1  ...            4 - 6             male         41-50   \n",
       "2  ...            1 - 3           female         18-30   \n",
       "3  ...            4 - 6           female         18-30   \n",
       "4  ...            1 - 3             male         18-30   \n",
       "\n",
       "                               character_description                pov  \\\n",
       "0  Ginger empieza siendo una chica insegura, está...       1st multiple   \n",
       "1                                 Una persona adulta       1st multiple   \n",
       "2  Valiente pero a la vez insegura. Inmadura en m...  external narrator   \n",
       "3             Fuerte pero con cierta vulnerabilidad          1st unique   \n",
       "4  Hombre joven de la clase aristocrática de Gine...       1st multiple   \n",
       "\n",
       "  adaptation                                             review  \\\n",
       "0         no  i recommend, favourite one, easy to read, cohe...   \n",
       "1         no                         i recommend, favourite one   \n",
       "2        yes  i recommend, favourite one, addictive, wonderf...   \n",
       "3         no                                      favourite one   \n",
       "4        yes  i recommend, favourite one, wonderful characte...   \n",
       "\n",
       "                                            feelings  \\\n",
       "0  reflexive, escape from reality, intense emotio...   \n",
       "1             intense emotions, nervousness, empathy   \n",
       "2  reflexive, intense emotions, overall good feel...   \n",
       "3                             intense emotions, love   \n",
       "4  fun/laughing, reflexive, empathy, sadness, ten...   \n",
       "\n",
       "                                               quote marca_temporal  \n",
       "0  Es imposible saber cuando conocerás a esa pers...            NaT  \n",
       "1  Todavía no me puedo creer lo que hice anoche, ...            NaT  \n",
       "2  El despacho de mi tía resultaba agobiante. En ...            NaT  \n",
       "3  Por las estrellas que escuchan y los sueños qu...            NaT  \n",
       "4  Aprende de mí, sino por mis preceptos, al meno...            NaT  \n",
       "\n",
       "[5 rows x 26 columns]"
      ]
     },
     "execution_count": 9,
     "metadata": {},
     "output_type": "execute_result"
    }
   ],
   "source": [
    "data_renamed.head()"
   ]
  },
  {
   "cell_type": "markdown",
   "id": "6293cad5",
   "metadata": {
    "heading_collapsed": true
   },
   "source": [
    "### Dropping unrelevant columns "
   ]
  },
  {
   "cell_type": "code",
   "execution_count": 10,
   "id": "fc49fc34",
   "metadata": {
    "hidden": true
   },
   "outputs": [],
   "source": [
    "data_books=data_renamed.drop(['unnamed:_0', 'checking_time', 'marca_temporal'], axis=1)"
   ]
  },
  {
   "cell_type": "code",
   "execution_count": 14,
   "id": "c5bdce5a",
   "metadata": {
    "hidden": true
   },
   "outputs": [
    {
     "data": {
      "text/html": [
       "<div>\n",
       "<style scoped>\n",
       "    .dataframe tbody tr th:only-of-type {\n",
       "        vertical-align: middle;\n",
       "    }\n",
       "\n",
       "    .dataframe tbody tr th {\n",
       "        vertical-align: top;\n",
       "    }\n",
       "\n",
       "    .dataframe thead th {\n",
       "        text-align: right;\n",
       "    }\n",
       "</style>\n",
       "<table border=\"1\" class=\"dataframe\">\n",
       "  <thead>\n",
       "    <tr style=\"text-align: right;\">\n",
       "      <th></th>\n",
       "      <th>title</th>\n",
       "      <th>author</th>\n",
       "      <th>publishing_house</th>\n",
       "      <th>genre</th>\n",
       "      <th>subgenre</th>\n",
       "      <th>publication_date</th>\n",
       "      <th>pages</th>\n",
       "      <th>edition</th>\n",
       "      <th>story_length</th>\n",
       "      <th>original_language</th>\n",
       "      <th>theme</th>\n",
       "      <th>main_topics</th>\n",
       "      <th>setting_time</th>\n",
       "      <th>setting_place</th>\n",
       "      <th>character_number</th>\n",
       "      <th>character_gender</th>\n",
       "      <th>character_age</th>\n",
       "      <th>character_description</th>\n",
       "      <th>pov</th>\n",
       "      <th>adaptation</th>\n",
       "      <th>review</th>\n",
       "      <th>feelings</th>\n",
       "      <th>quote</th>\n",
       "    </tr>\n",
       "  </thead>\n",
       "  <tbody>\n",
       "    <tr>\n",
       "      <th>0</th>\n",
       "      <td>Nosotros en la luna</td>\n",
       "      <td>Alice kellen</td>\n",
       "      <td>Planeta</td>\n",
       "      <td>romance</td>\n",
       "      <td>new adult</td>\n",
       "      <td>2020</td>\n",
       "      <td>477</td>\n",
       "      <td>paperback, pocket</td>\n",
       "      <td>standalone</td>\n",
       "      <td>spanish</td>\n",
       "      <td>Una chica que acaba de romper con su novio de ...</td>\n",
       "      <td>friendship, love, goals/dreams, personal growt...</td>\n",
       "      <td>current time</td>\n",
       "      <td>paris, london, ibiza, australia, usa</td>\n",
       "      <td>1 - 3</td>\n",
       "      <td>female</td>\n",
       "      <td>18-30</td>\n",
       "      <td>Ginger empieza siendo una chica insegura, está...</td>\n",
       "      <td>1st multiple</td>\n",
       "      <td>no</td>\n",
       "      <td>i recommend, favourite one, easy to read, cohe...</td>\n",
       "      <td>reflexive, escape from reality, intense emotio...</td>\n",
       "      <td>Es imposible saber cuando conocerás a esa pers...</td>\n",
       "    </tr>\n",
       "    <tr>\n",
       "      <th>1</th>\n",
       "      <td>El día que se perdio la cordura</td>\n",
       "      <td>Javier Castillo</td>\n",
       "      <td>Debolsillo</td>\n",
       "      <td>thriller</td>\n",
       "      <td>psychological</td>\n",
       "      <td>2017</td>\n",
       "      <td>456</td>\n",
       "      <td>paperback, pocket</td>\n",
       "      <td>series/saga</td>\n",
       "      <td>spanish</td>\n",
       "      <td>Amor, odio, extrañas prácticas, intriga y acci...</td>\n",
       "      <td>love</td>\n",
       "      <td>1892</td>\n",
       "      <td>uk</td>\n",
       "      <td>4 - 6</td>\n",
       "      <td>male</td>\n",
       "      <td>41-50</td>\n",
       "      <td>Una persona adulta</td>\n",
       "      <td>1st multiple</td>\n",
       "      <td>no</td>\n",
       "      <td>i recommend, favourite one</td>\n",
       "      <td>intense emotions, nervousness, empathy</td>\n",
       "      <td>Todavía no me puedo creer lo que hice anoche, ...</td>\n",
       "    </tr>\n",
       "    <tr>\n",
       "      <th>2</th>\n",
       "      <td>Dime quién soy</td>\n",
       "      <td>Julia Navarro</td>\n",
       "      <td>Plaza Janes</td>\n",
       "      <td>historical</td>\n",
       "      <td>NaN</td>\n",
       "      <td>2010</td>\n",
       "      <td>1097</td>\n",
       "      <td>paperback, pocket</td>\n",
       "      <td>standalone</td>\n",
       "      <td>spanish</td>\n",
       "      <td>La familia de Amelia Garayoa (bisabuela) quier...</td>\n",
       "      <td>family, love, revenge, pain/trauma, personal g...</td>\n",
       "      <td>1960</td>\n",
       "      <td>spain, paris, buenos aires, moscow, rome, lond...</td>\n",
       "      <td>1 - 3</td>\n",
       "      <td>female</td>\n",
       "      <td>18-30</td>\n",
       "      <td>Valiente pero a la vez insegura. Inmadura en m...</td>\n",
       "      <td>external narrator</td>\n",
       "      <td>yes</td>\n",
       "      <td>i recommend, favourite one, addictive, wonderf...</td>\n",
       "      <td>reflexive, intense emotions, overall good feel...</td>\n",
       "      <td>El despacho de mi tía resultaba agobiante. En ...</td>\n",
       "    </tr>\n",
       "    <tr>\n",
       "      <th>3</th>\n",
       "      <td>Una corte de rosas y espinas</td>\n",
       "      <td>Sarah J Maas</td>\n",
       "      <td>Planeta</td>\n",
       "      <td>fantasy</td>\n",
       "      <td>romance</td>\n",
       "      <td>2016</td>\n",
       "      <td>463</td>\n",
       "      <td>paperback</td>\n",
       "      <td>series/saga</td>\n",
       "      <td>english</td>\n",
       "      <td>Una chica humana que vive en un mundo donde se...</td>\n",
       "      <td>family, friendship, love, feminism</td>\n",
       "      <td>ficticious time</td>\n",
       "      <td>ficticious world</td>\n",
       "      <td>4 - 6</td>\n",
       "      <td>female</td>\n",
       "      <td>18-30</td>\n",
       "      <td>Fuerte pero con cierta vulnerabilidad</td>\n",
       "      <td>1st unique</td>\n",
       "      <td>no</td>\n",
       "      <td>favourite one</td>\n",
       "      <td>intense emotions, love</td>\n",
       "      <td>Por las estrellas que escuchan y los sueños qu...</td>\n",
       "    </tr>\n",
       "    <tr>\n",
       "      <th>4</th>\n",
       "      <td>Frankenstein o El Moderno Prometeo</td>\n",
       "      <td>Mary Shelley</td>\n",
       "      <td>Edimat</td>\n",
       "      <td>science fiction</td>\n",
       "      <td>classic, gothic, victorian</td>\n",
       "      <td>1818</td>\n",
       "      <td>250</td>\n",
       "      <td>hardback</td>\n",
       "      <td>standalone</td>\n",
       "      <td>english</td>\n",
       "      <td>Un científico descubre cómo darle vida a una c...</td>\n",
       "      <td>goals/dreams, good and evil forces , nature, g...</td>\n",
       "      <td>1700</td>\n",
       "      <td>geneva, london, germany</td>\n",
       "      <td>1 - 3</td>\n",
       "      <td>male</td>\n",
       "      <td>18-30</td>\n",
       "      <td>Hombre joven de la clase aristocrática de Gine...</td>\n",
       "      <td>1st multiple</td>\n",
       "      <td>yes</td>\n",
       "      <td>i recommend, favourite one, wonderful characte...</td>\n",
       "      <td>fun/laughing, reflexive, empathy, sadness, ten...</td>\n",
       "      <td>Aprende de mí, sino por mis preceptos, al meno...</td>\n",
       "    </tr>\n",
       "  </tbody>\n",
       "</table>\n",
       "</div>"
      ],
      "text/plain": [
       "                                title            author publishing_house  \\\n",
       "0                 Nosotros en la luna      Alice kellen          Planeta   \n",
       "1     El día que se perdio la cordura  Javier Castillo        Debolsillo   \n",
       "2                      Dime quién soy     Julia Navarro      Plaza Janes   \n",
       "3        Una corte de rosas y espinas      Sarah J Maas          Planeta   \n",
       "4  Frankenstein o El Moderno Prometeo      Mary Shelley           Edimat   \n",
       "\n",
       "             genre                    subgenre  publication_date  pages  \\\n",
       "0          romance                   new adult              2020    477   \n",
       "1         thriller               psychological              2017    456   \n",
       "2       historical                         NaN              2010   1097   \n",
       "3          fantasy                     romance              2016    463   \n",
       "4  science fiction  classic, gothic, victorian              1818    250   \n",
       "\n",
       "             edition story_length original_language  \\\n",
       "0  paperback, pocket   standalone           spanish   \n",
       "1  paperback, pocket  series/saga           spanish   \n",
       "2  paperback, pocket   standalone           spanish   \n",
       "3          paperback  series/saga           english   \n",
       "4           hardback   standalone           english   \n",
       "\n",
       "                                               theme  \\\n",
       "0  Una chica que acaba de romper con su novio de ...   \n",
       "1  Amor, odio, extrañas prácticas, intriga y acci...   \n",
       "2  La familia de Amelia Garayoa (bisabuela) quier...   \n",
       "3  Una chica humana que vive en un mundo donde se...   \n",
       "4  Un científico descubre cómo darle vida a una c...   \n",
       "\n",
       "                                         main_topics     setting_time  \\\n",
       "0  friendship, love, goals/dreams, personal growt...     current time   \n",
       "1                                               love             1892   \n",
       "2  family, love, revenge, pain/trauma, personal g...             1960   \n",
       "3                 family, friendship, love, feminism  ficticious time   \n",
       "4  goals/dreams, good and evil forces , nature, g...             1700   \n",
       "\n",
       "                                       setting_place character_number  \\\n",
       "0               paris, london, ibiza, australia, usa            1 - 3   \n",
       "1                                                 uk            4 - 6   \n",
       "2  spain, paris, buenos aires, moscow, rome, lond...            1 - 3   \n",
       "3                                   ficticious world            4 - 6   \n",
       "4                            geneva, london, germany            1 - 3   \n",
       "\n",
       "  character_gender character_age  \\\n",
       "0           female         18-30   \n",
       "1             male         41-50   \n",
       "2           female         18-30   \n",
       "3           female         18-30   \n",
       "4             male         18-30   \n",
       "\n",
       "                               character_description                pov  \\\n",
       "0  Ginger empieza siendo una chica insegura, está...       1st multiple   \n",
       "1                                 Una persona adulta       1st multiple   \n",
       "2  Valiente pero a la vez insegura. Inmadura en m...  external narrator   \n",
       "3             Fuerte pero con cierta vulnerabilidad          1st unique   \n",
       "4  Hombre joven de la clase aristocrática de Gine...       1st multiple   \n",
       "\n",
       "  adaptation                                             review  \\\n",
       "0         no  i recommend, favourite one, easy to read, cohe...   \n",
       "1         no                         i recommend, favourite one   \n",
       "2        yes  i recommend, favourite one, addictive, wonderf...   \n",
       "3         no                                      favourite one   \n",
       "4        yes  i recommend, favourite one, wonderful characte...   \n",
       "\n",
       "                                            feelings  \\\n",
       "0  reflexive, escape from reality, intense emotio...   \n",
       "1             intense emotions, nervousness, empathy   \n",
       "2  reflexive, intense emotions, overall good feel...   \n",
       "3                             intense emotions, love   \n",
       "4  fun/laughing, reflexive, empathy, sadness, ten...   \n",
       "\n",
       "                                               quote  \n",
       "0  Es imposible saber cuando conocerás a esa pers...  \n",
       "1  Todavía no me puedo creer lo que hice anoche, ...  \n",
       "2  El despacho de mi tía resultaba agobiante. En ...  \n",
       "3  Por las estrellas que escuchan y los sueños qu...  \n",
       "4  Aprende de mí, sino por mis preceptos, al meno...  "
      ]
     },
     "execution_count": 14,
     "metadata": {},
     "output_type": "execute_result"
    }
   ],
   "source": [
    "data_books.head()"
   ]
  },
  {
   "cell_type": "code",
   "execution_count": 12,
   "id": "f4b7ffd1",
   "metadata": {
    "hidden": true
   },
   "outputs": [],
   "source": [
    "#data_books.to_excel('data_books.xlsx')"
   ]
  },
  {
   "cell_type": "code",
   "execution_count": 13,
   "id": "f4f484ee",
   "metadata": {
    "hidden": true
   },
   "outputs": [],
   "source": [
    "pd.set_option('display.max_columns', None)"
   ]
  },
  {
   "cell_type": "markdown",
   "id": "0841cc23",
   "metadata": {
    "heading_collapsed": true
   },
   "source": [
    "### Exploring the data "
   ]
  },
  {
   "cell_type": "code",
   "execution_count": 15,
   "id": "5805f544",
   "metadata": {
    "hidden": true
   },
   "outputs": [
    {
     "data": {
      "text/plain": [
       "(425, 23)"
      ]
     },
     "execution_count": 15,
     "metadata": {},
     "output_type": "execute_result"
    }
   ],
   "source": [
    "data_books.shape"
   ]
  },
  {
   "cell_type": "code",
   "execution_count": 16,
   "id": "c852f64e",
   "metadata": {
    "hidden": true
   },
   "outputs": [
    {
     "name": "stdout",
     "output_type": "stream",
     "text": [
      "<class 'pandas.core.frame.DataFrame'>\n",
      "RangeIndex: 425 entries, 0 to 424\n",
      "Data columns (total 23 columns):\n",
      " #   Column                 Non-Null Count  Dtype \n",
      "---  ------                 --------------  ----- \n",
      " 0   title                  425 non-null    object\n",
      " 1   author                 425 non-null    object\n",
      " 2   publishing_house       425 non-null    object\n",
      " 3   genre                  425 non-null    object\n",
      " 4   subgenre               326 non-null    object\n",
      " 5   publication_date       425 non-null    int64 \n",
      " 6   pages                  425 non-null    int64 \n",
      " 7   edition                425 non-null    object\n",
      " 8   story_length           425 non-null    object\n",
      " 9   original_language      425 non-null    object\n",
      " 10  theme                  425 non-null    object\n",
      " 11  main_topics            425 non-null    object\n",
      " 12  setting_time           425 non-null    object\n",
      " 13  setting_place          425 non-null    object\n",
      " 14  character_number       425 non-null    object\n",
      " 15  character_gender       425 non-null    object\n",
      " 16  character_age          425 non-null    object\n",
      " 17  character_description  425 non-null    object\n",
      " 18  pov                    425 non-null    object\n",
      " 19  adaptation             425 non-null    object\n",
      " 20  review                 425 non-null    object\n",
      " 21  feelings               425 non-null    object\n",
      " 22  quote                  425 non-null    object\n",
      "dtypes: int64(2), object(21)\n",
      "memory usage: 76.5+ KB\n"
     ]
    }
   ],
   "source": [
    "data_books.info() # only nulls in subgenre"
   ]
  },
  {
   "cell_type": "code",
   "execution_count": 17,
   "id": "750f9a96",
   "metadata": {
    "hidden": true
   },
   "outputs": [
    {
     "data": {
      "text/html": [
       "<div>\n",
       "<style scoped>\n",
       "    .dataframe tbody tr th:only-of-type {\n",
       "        vertical-align: middle;\n",
       "    }\n",
       "\n",
       "    .dataframe tbody tr th {\n",
       "        vertical-align: top;\n",
       "    }\n",
       "\n",
       "    .dataframe thead th {\n",
       "        text-align: right;\n",
       "    }\n",
       "</style>\n",
       "<table border=\"1\" class=\"dataframe\">\n",
       "  <thead>\n",
       "    <tr style=\"text-align: right;\">\n",
       "      <th></th>\n",
       "      <th>publication_date</th>\n",
       "      <th>pages</th>\n",
       "    </tr>\n",
       "  </thead>\n",
       "  <tbody>\n",
       "    <tr>\n",
       "      <th>count</th>\n",
       "      <td>425.000000</td>\n",
       "      <td>425.000000</td>\n",
       "    </tr>\n",
       "    <tr>\n",
       "      <th>mean</th>\n",
       "      <td>1996.032941</td>\n",
       "      <td>438.644706</td>\n",
       "    </tr>\n",
       "    <tr>\n",
       "      <th>std</th>\n",
       "      <td>56.704496</td>\n",
       "      <td>188.674119</td>\n",
       "    </tr>\n",
       "    <tr>\n",
       "      <th>min</th>\n",
       "      <td>1287.000000</td>\n",
       "      <td>60.000000</td>\n",
       "    </tr>\n",
       "    <tr>\n",
       "      <th>25%</th>\n",
       "      <td>2005.000000</td>\n",
       "      <td>318.000000</td>\n",
       "    </tr>\n",
       "    <tr>\n",
       "      <th>50%</th>\n",
       "      <td>2016.000000</td>\n",
       "      <td>416.000000</td>\n",
       "    </tr>\n",
       "    <tr>\n",
       "      <th>75%</th>\n",
       "      <td>2019.000000</td>\n",
       "      <td>528.000000</td>\n",
       "    </tr>\n",
       "    <tr>\n",
       "      <th>max</th>\n",
       "      <td>2022.000000</td>\n",
       "      <td>1608.000000</td>\n",
       "    </tr>\n",
       "  </tbody>\n",
       "</table>\n",
       "</div>"
      ],
      "text/plain": [
       "       publication_date        pages\n",
       "count        425.000000   425.000000\n",
       "mean        1996.032941   438.644706\n",
       "std           56.704496   188.674119\n",
       "min         1287.000000    60.000000\n",
       "25%         2005.000000   318.000000\n",
       "50%         2016.000000   416.000000\n",
       "75%         2019.000000   528.000000\n",
       "max         2022.000000  1608.000000"
      ]
     },
     "execution_count": 17,
     "metadata": {},
     "output_type": "execute_result"
    }
   ],
   "source": [
    "data_books.describe()"
   ]
  },
  {
   "cell_type": "code",
   "execution_count": 18,
   "id": "e8774a90",
   "metadata": {
    "hidden": true
   },
   "outputs": [
    {
     "data": {
      "text/plain": [
       "english      200\n",
       "spanish      160\n",
       "french        14\n",
       "german        13\n",
       "japanese      11\n",
       "swedish        6\n",
       "italian        5\n",
       "russian        4\n",
       "catalan        3\n",
       "norwegian      2\n",
       "romanian       2\n",
       "finnish        1\n",
       "polish         1\n",
       "occitan        1\n",
       "chinese        1\n",
       "danish         1\n",
       "Name: original_language, dtype: int64"
      ]
     },
     "execution_count": 18,
     "metadata": {},
     "output_type": "execute_result"
    }
   ],
   "source": [
    "data_books['original_language'].value_counts()"
   ]
  },
  {
   "cell_type": "code",
   "execution_count": 19,
   "id": "f7b96cb0",
   "metadata": {
    "hidden": true
   },
   "outputs": [
    {
     "data": {
      "text/plain": [
       "<AxesSubplot:>"
      ]
     },
     "execution_count": 19,
     "metadata": {},
     "output_type": "execute_result"
    },
    {
     "data": {
      "image/png": "[encoded data removed]",
      "text/plain": [
       "<Figure size 432x288 with 1 Axes>"
      ]
     },
     "metadata": {
      "needs_background": "light"
     },
     "output_type": "display_data"
    }
   ],
   "source": [
    "# visualising the genres\n",
    "data_books['genre'].value_counts().plot(kind='bar') "
   ]
  },
  {
   "cell_type": "code",
   "execution_count": 20,
   "id": "3397d263",
   "metadata": {
    "hidden": true
   },
   "outputs": [
    {
     "data": {
      "text/plain": [
       "<AxesSubplot:>"
      ]
     },
     "execution_count": 20,
     "metadata": {},
     "output_type": "execute_result"
    },
    {
     "data": {
      "image/png": "[encoded data removed]",
      "text/plain": [
       "<Figure size 432x288 with 1 Axes>"
      ]
     },
     "metadata": {
      "needs_background": "light"
     },
     "output_type": "display_data"
    }
   ],
   "source": [
    "# visualising the original languages\n",
    "data_books['original_language'].value_counts().plot(kind='bar') "
   ]
  },
  {
   "cell_type": "code",
   "execution_count": 21,
   "id": "09726d18",
   "metadata": {
    "hidden": true
   },
   "outputs": [
    {
     "data": {
      "text/plain": [
       "<AxesSubplot:>"
      ]
     },
     "execution_count": 21,
     "metadata": {},
     "output_type": "execute_result"
    },
    {
     "data": {
      "image/png": "[encoded data removed]",
      "text/plain": [
       "<Figure size 432x288 with 1 Axes>"
      ]
     },
     "metadata": {
      "needs_background": "light"
     },
     "output_type": "display_data"
    }
   ],
   "source": [
    "# number of characters\n",
    "data_books['character_number'].value_counts().plot(kind='bar') "
   ]
  },
  {
   "cell_type": "code",
   "execution_count": 22,
   "id": "24f50573",
   "metadata": {
    "hidden": true
   },
   "outputs": [
    {
     "data": {
      "text/plain": [
       "<AxesSubplot:>"
      ]
     },
     "execution_count": 22,
     "metadata": {},
     "output_type": "execute_result"
    },
    {
     "data": {
      "image/png": "[encoded data removed]",
      "text/plain": [
       "<Figure size 432x288 with 1 Axes>"
      ]
     },
     "metadata": {
      "needs_background": "light"
     },
     "output_type": "display_data"
    }
   ],
   "source": [
    "# gender of the main character\n",
    "data_books['character_gender'].value_counts().plot(kind='bar') "
   ]
  },
  {
   "cell_type": "code",
   "execution_count": 23,
   "id": "6136d4e9",
   "metadata": {
    "hidden": true
   },
   "outputs": [
    {
     "data": {
      "text/plain": [
       "<AxesSubplot:>"
      ]
     },
     "execution_count": 23,
     "metadata": {},
     "output_type": "execute_result"
    },
    {
     "data": {
      "image/png": "[encoded data removed]",
      "text/plain": [
       "<Figure size 432x288 with 1 Axes>"
      ]
     },
     "metadata": {
      "needs_background": "light"
     },
     "output_type": "display_data"
    }
   ],
   "source": [
    "# ages of the main characters \n",
    "data_books['character_age'].value_counts().plot(kind='bar') "
   ]
  },
  {
   "cell_type": "code",
   "execution_count": 24,
   "id": "9f87aeec",
   "metadata": {
    "hidden": true
   },
   "outputs": [
    {
     "data": {
      "text/plain": [
       "<AxesSubplot:>"
      ]
     },
     "execution_count": 24,
     "metadata": {},
     "output_type": "execute_result"
    },
    {
     "data": {
      "image/png": "[encoded data removed]",
      "text/plain": [
       "<Figure size 432x288 with 1 Axes>"
      ]
     },
     "metadata": {
      "needs_background": "light"
     },
     "output_type": "display_data"
    }
   ],
   "source": [
    "# point of views\n",
    "data_books['pov'].value_counts().plot(kind='bar') "
   ]
  },
  {
   "cell_type": "code",
   "execution_count": 25,
   "id": "c7303227",
   "metadata": {
    "hidden": true
   },
   "outputs": [
    {
     "data": {
      "text/plain": [
       "<AxesSubplot:>"
      ]
     },
     "execution_count": 25,
     "metadata": {},
     "output_type": "execute_result"
    },
    {
     "data": {
      "image/png": "[encoded data removed]",
      "text/plain": [
       "<Figure size 432x288 with 1 Axes>"
      ]
     },
     "metadata": {
      "needs_background": "light"
     },
     "output_type": "display_data"
    }
   ],
   "source": [
    "# film adaptation yes or no\n",
    "data_books['adaptation'].value_counts().plot(kind='bar') "
   ]
  },
  {
   "cell_type": "code",
   "execution_count": 26,
   "id": "8af4877f",
   "metadata": {
    "hidden": true
   },
   "outputs": [],
   "source": [
    "# need to explore more when manage to translate (heavy text columns: theme, character_description, quote). \n",
    "# review and feelings too??) "
   ]
  },
  {
   "cell_type": "markdown",
   "id": "4c15c7f7",
   "metadata": {
    "heading_collapsed": true
   },
   "source": [
    "### Text Analysis "
   ]
  },
  {
   "cell_type": "code",
   "execution_count": 27,
   "id": "825635be",
   "metadata": {
    "hidden": true
   },
   "outputs": [],
   "source": [
    "textanalysis=data_books[['title', 'genre', 'quote']]"
   ]
  },
  {
   "cell_type": "code",
   "execution_count": 28,
   "id": "fc916b9f",
   "metadata": {
    "hidden": true
   },
   "outputs": [
    {
     "data": {
      "text/html": [
       "<div>\n",
       "<style scoped>\n",
       "    .dataframe tbody tr th:only-of-type {\n",
       "        vertical-align: middle;\n",
       "    }\n",
       "\n",
       "    .dataframe tbody tr th {\n",
       "        vertical-align: top;\n",
       "    }\n",
       "\n",
       "    .dataframe thead th {\n",
       "        text-align: right;\n",
       "    }\n",
       "</style>\n",
       "<table border=\"1\" class=\"dataframe\">\n",
       "  <thead>\n",
       "    <tr style=\"text-align: right;\">\n",
       "      <th></th>\n",
       "      <th>title</th>\n",
       "      <th>genre</th>\n",
       "      <th>quote</th>\n",
       "    </tr>\n",
       "  </thead>\n",
       "  <tbody>\n",
       "    <tr>\n",
       "      <th>0</th>\n",
       "      <td>Nosotros en la luna</td>\n",
       "      <td>romance</td>\n",
       "      <td>Es imposible saber cuando conocerás a esa pers...</td>\n",
       "    </tr>\n",
       "    <tr>\n",
       "      <th>1</th>\n",
       "      <td>El día que se perdio la cordura</td>\n",
       "      <td>thriller</td>\n",
       "      <td>Todavía no me puedo creer lo que hice anoche, ...</td>\n",
       "    </tr>\n",
       "    <tr>\n",
       "      <th>2</th>\n",
       "      <td>Dime quién soy</td>\n",
       "      <td>historical</td>\n",
       "      <td>El despacho de mi tía resultaba agobiante. En ...</td>\n",
       "    </tr>\n",
       "    <tr>\n",
       "      <th>3</th>\n",
       "      <td>Una corte de rosas y espinas</td>\n",
       "      <td>fantasy</td>\n",
       "      <td>Por las estrellas que escuchan y los sueños qu...</td>\n",
       "    </tr>\n",
       "    <tr>\n",
       "      <th>4</th>\n",
       "      <td>Frankenstein o El Moderno Prometeo</td>\n",
       "      <td>science fiction</td>\n",
       "      <td>Aprende de mí, sino por mis preceptos, al meno...</td>\n",
       "    </tr>\n",
       "    <tr>\n",
       "      <th>...</th>\n",
       "      <td>...</td>\n",
       "      <td>...</td>\n",
       "      <td>...</td>\n",
       "    </tr>\n",
       "    <tr>\n",
       "      <th>420</th>\n",
       "      <td>The Picture of Dorian Gray</td>\n",
       "      <td>mystery</td>\n",
       "      <td>“You will always be fond of me. I represent to...</td>\n",
       "    </tr>\n",
       "    <tr>\n",
       "      <th>421</th>\n",
       "      <td>Das Parfum</td>\n",
       "      <td>historical</td>\n",
       "      <td>“He who ruled scent ruled the hearts of men.”</td>\n",
       "    </tr>\n",
       "    <tr>\n",
       "      <th>422</th>\n",
       "      <td>the brief wondrous life of oscar wao</td>\n",
       "      <td>generic fiction</td>\n",
       "      <td>But if these years have taught me anything it ...</td>\n",
       "    </tr>\n",
       "    <tr>\n",
       "      <th>423</th>\n",
       "      <td>Sapiens</td>\n",
       "      <td>non fiction</td>\n",
       "      <td>Hace unos 14000 millones de años, materia, ene...</td>\n",
       "    </tr>\n",
       "    <tr>\n",
       "      <th>424</th>\n",
       "      <td>Perfume</td>\n",
       "      <td>mystery</td>\n",
       "      <td>“He who ruled scent ruled the hearts of men.”</td>\n",
       "    </tr>\n",
       "  </tbody>\n",
       "</table>\n",
       "<p>425 rows × 3 columns</p>\n",
       "</div>"
      ],
      "text/plain": [
       "                                    title            genre  \\\n",
       "0                     Nosotros en la luna          romance   \n",
       "1         El día que se perdio la cordura         thriller   \n",
       "2                          Dime quién soy       historical   \n",
       "3            Una corte de rosas y espinas          fantasy   \n",
       "4      Frankenstein o El Moderno Prometeo  science fiction   \n",
       "..                                    ...              ...   \n",
       "420            The Picture of Dorian Gray          mystery   \n",
       "421                            Das Parfum       historical   \n",
       "422  the brief wondrous life of oscar wao  generic fiction   \n",
       "423                               Sapiens      non fiction   \n",
       "424                               Perfume          mystery   \n",
       "\n",
       "                                                 quote  \n",
       "0    Es imposible saber cuando conocerás a esa pers...  \n",
       "1    Todavía no me puedo creer lo que hice anoche, ...  \n",
       "2    El despacho de mi tía resultaba agobiante. En ...  \n",
       "3    Por las estrellas que escuchan y los sueños qu...  \n",
       "4    Aprende de mí, sino por mis preceptos, al meno...  \n",
       "..                                                 ...  \n",
       "420  “You will always be fond of me. I represent to...  \n",
       "421      “He who ruled scent ruled the hearts of men.”  \n",
       "422  But if these years have taught me anything it ...  \n",
       "423  Hace unos 14000 millones de años, materia, ene...  \n",
       "424      “He who ruled scent ruled the hearts of men.”  \n",
       "\n",
       "[425 rows x 3 columns]"
      ]
     },
     "execution_count": 28,
     "metadata": {},
     "output_type": "execute_result"
    }
   ],
   "source": [
    "textanalysis"
   ]
  },
  {
   "cell_type": "code",
   "execution_count": 29,
   "id": "78371afb",
   "metadata": {
    "hidden": true
   },
   "outputs": [],
   "source": [
    "# calculate the length of the quotes\n",
    "def get_len(x):\n",
    "    if x==x:\n",
    "        return len(x)\n",
    "    else:\n",
    "        return 0"
   ]
  },
  {
   "cell_type": "code",
   "execution_count": 30,
   "id": "e1c5228b",
   "metadata": {
    "hidden": true
   },
   "outputs": [
    {
     "data": {
      "text/plain": [
       "0      183\n",
       "1      281\n",
       "2      226\n",
       "3       66\n",
       "4      116\n",
       "      ... \n",
       "420    101\n",
       "421     45\n",
       "422    111\n",
       "423    119\n",
       "424     45\n",
       "Name: quote, Length: 425, dtype: int64"
      ]
     },
     "execution_count": 30,
     "metadata": {},
     "output_type": "execute_result"
    }
   ],
   "source": [
    "textanalysis['quote'].apply(get_len)"
   ]
  },
  {
   "cell_type": "code",
   "execution_count": 31,
   "id": "0d07f57b",
   "metadata": {
    "hidden": true
   },
   "outputs": [
    {
     "name": "stderr",
     "output_type": "stream",
     "text": [
      "<ipython-input-31-ed18a636eadc>:2: SettingWithCopyWarning: \n",
      "A value is trying to be set on a copy of a slice from a DataFrame.\n",
      "Try using .loc[row_indexer,col_indexer] = value instead\n",
      "\n",
      "See the caveats in the documentation: https://pandas.pydata.org/pandas-docs/stable/user_guide/indexing.html#returning-a-view-versus-a-copy\n",
      "  textanalysis['quote_length'] = textanalysis['quote'].apply(get_len)\n"
     ]
    }
   ],
   "source": [
    "# adding the length of the reviews as a column in the dataframe\n",
    "textanalysis['quote_length'] = textanalysis['quote'].apply(get_len)"
   ]
  },
  {
   "cell_type": "code",
   "execution_count": 32,
   "id": "fb34b816",
   "metadata": {
    "hidden": true
   },
   "outputs": [
    {
     "data": {
      "text/html": [
       "<div>\n",
       "<style scoped>\n",
       "    .dataframe tbody tr th:only-of-type {\n",
       "        vertical-align: middle;\n",
       "    }\n",
       "\n",
       "    .dataframe tbody tr th {\n",
       "        vertical-align: top;\n",
       "    }\n",
       "\n",
       "    .dataframe thead th {\n",
       "        text-align: right;\n",
       "    }\n",
       "</style>\n",
       "<table border=\"1\" class=\"dataframe\">\n",
       "  <thead>\n",
       "    <tr style=\"text-align: right;\">\n",
       "      <th></th>\n",
       "      <th>title</th>\n",
       "      <th>genre</th>\n",
       "      <th>quote</th>\n",
       "      <th>quote_length</th>\n",
       "    </tr>\n",
       "  </thead>\n",
       "  <tbody>\n",
       "    <tr>\n",
       "      <th>0</th>\n",
       "      <td>Nosotros en la luna</td>\n",
       "      <td>romance</td>\n",
       "      <td>Es imposible saber cuando conocerás a esa pers...</td>\n",
       "      <td>183</td>\n",
       "    </tr>\n",
       "    <tr>\n",
       "      <th>1</th>\n",
       "      <td>El día que se perdio la cordura</td>\n",
       "      <td>thriller</td>\n",
       "      <td>Todavía no me puedo creer lo que hice anoche, ...</td>\n",
       "      <td>281</td>\n",
       "    </tr>\n",
       "    <tr>\n",
       "      <th>2</th>\n",
       "      <td>Dime quién soy</td>\n",
       "      <td>historical</td>\n",
       "      <td>El despacho de mi tía resultaba agobiante. En ...</td>\n",
       "      <td>226</td>\n",
       "    </tr>\n",
       "    <tr>\n",
       "      <th>3</th>\n",
       "      <td>Una corte de rosas y espinas</td>\n",
       "      <td>fantasy</td>\n",
       "      <td>Por las estrellas que escuchan y los sueños qu...</td>\n",
       "      <td>66</td>\n",
       "    </tr>\n",
       "    <tr>\n",
       "      <th>4</th>\n",
       "      <td>Frankenstein o El Moderno Prometeo</td>\n",
       "      <td>science fiction</td>\n",
       "      <td>Aprende de mí, sino por mis preceptos, al meno...</td>\n",
       "      <td>116</td>\n",
       "    </tr>\n",
       "    <tr>\n",
       "      <th>...</th>\n",
       "      <td>...</td>\n",
       "      <td>...</td>\n",
       "      <td>...</td>\n",
       "      <td>...</td>\n",
       "    </tr>\n",
       "    <tr>\n",
       "      <th>420</th>\n",
       "      <td>The Picture of Dorian Gray</td>\n",
       "      <td>mystery</td>\n",
       "      <td>“You will always be fond of me. I represent to...</td>\n",
       "      <td>101</td>\n",
       "    </tr>\n",
       "    <tr>\n",
       "      <th>421</th>\n",
       "      <td>Das Parfum</td>\n",
       "      <td>historical</td>\n",
       "      <td>“He who ruled scent ruled the hearts of men.”</td>\n",
       "      <td>45</td>\n",
       "    </tr>\n",
       "    <tr>\n",
       "      <th>422</th>\n",
       "      <td>the brief wondrous life of oscar wao</td>\n",
       "      <td>generic fiction</td>\n",
       "      <td>But if these years have taught me anything it ...</td>\n",
       "      <td>111</td>\n",
       "    </tr>\n",
       "    <tr>\n",
       "      <th>423</th>\n",
       "      <td>Sapiens</td>\n",
       "      <td>non fiction</td>\n",
       "      <td>Hace unos 14000 millones de años, materia, ene...</td>\n",
       "      <td>119</td>\n",
       "    </tr>\n",
       "    <tr>\n",
       "      <th>424</th>\n",
       "      <td>Perfume</td>\n",
       "      <td>mystery</td>\n",
       "      <td>“He who ruled scent ruled the hearts of men.”</td>\n",
       "      <td>45</td>\n",
       "    </tr>\n",
       "  </tbody>\n",
       "</table>\n",
       "<p>425 rows × 4 columns</p>\n",
       "</div>"
      ],
      "text/plain": [
       "                                    title            genre  \\\n",
       "0                     Nosotros en la luna          romance   \n",
       "1         El día que se perdio la cordura         thriller   \n",
       "2                          Dime quién soy       historical   \n",
       "3            Una corte de rosas y espinas          fantasy   \n",
       "4      Frankenstein o El Moderno Prometeo  science fiction   \n",
       "..                                    ...              ...   \n",
       "420            The Picture of Dorian Gray          mystery   \n",
       "421                            Das Parfum       historical   \n",
       "422  the brief wondrous life of oscar wao  generic fiction   \n",
       "423                               Sapiens      non fiction   \n",
       "424                               Perfume          mystery   \n",
       "\n",
       "                                                 quote  quote_length  \n",
       "0    Es imposible saber cuando conocerás a esa pers...           183  \n",
       "1    Todavía no me puedo creer lo que hice anoche, ...           281  \n",
       "2    El despacho de mi tía resultaba agobiante. En ...           226  \n",
       "3    Por las estrellas que escuchan y los sueños qu...            66  \n",
       "4    Aprende de mí, sino por mis preceptos, al meno...           116  \n",
       "..                                                 ...           ...  \n",
       "420  “You will always be fond of me. I represent to...           101  \n",
       "421      “He who ruled scent ruled the hearts of men.”            45  \n",
       "422  But if these years have taught me anything it ...           111  \n",
       "423  Hace unos 14000 millones de años, materia, ene...           119  \n",
       "424      “He who ruled scent ruled the hearts of men.”            45  \n",
       "\n",
       "[425 rows x 4 columns]"
      ]
     },
     "execution_count": 32,
     "metadata": {},
     "output_type": "execute_result"
    }
   ],
   "source": [
    "textanalysis"
   ]
  },
  {
   "cell_type": "code",
   "execution_count": 33,
   "id": "ef1fe7e8",
   "metadata": {
    "hidden": true
   },
   "outputs": [
    {
     "data": {
      "text/plain": [
       "2"
      ]
     },
     "execution_count": 33,
     "metadata": {},
     "output_type": "execute_result"
    }
   ],
   "source": [
    "#check if any unreadable or unuseful quote and drop\n",
    "textanalysis['quote_length'].min()"
   ]
  },
  {
   "cell_type": "code",
   "execution_count": 34,
   "id": "61b4331b",
   "metadata": {
    "hidden": true
   },
   "outputs": [
    {
     "data": {
      "text/html": [
       "<div>\n",
       "<style scoped>\n",
       "    .dataframe tbody tr th:only-of-type {\n",
       "        vertical-align: middle;\n",
       "    }\n",
       "\n",
       "    .dataframe tbody tr th {\n",
       "        vertical-align: top;\n",
       "    }\n",
       "\n",
       "    .dataframe thead th {\n",
       "        text-align: right;\n",
       "    }\n",
       "</style>\n",
       "<table border=\"1\" class=\"dataframe\">\n",
       "  <thead>\n",
       "    <tr style=\"text-align: right;\">\n",
       "      <th></th>\n",
       "      <th>title</th>\n",
       "      <th>genre</th>\n",
       "      <th>quote</th>\n",
       "      <th>quote_length</th>\n",
       "    </tr>\n",
       "  </thead>\n",
       "  <tbody>\n",
       "    <tr>\n",
       "      <th>193</th>\n",
       "      <td>Ciudad de ladrones</td>\n",
       "      <td>historical</td>\n",
       "      <td>__</td>\n",
       "      <td>2</td>\n",
       "    </tr>\n",
       "  </tbody>\n",
       "</table>\n",
       "</div>"
      ],
      "text/plain": [
       "                  title       genre quote  quote_length\n",
       "193  Ciudad de ladrones  historical    __             2"
      ]
     },
     "execution_count": 34,
     "metadata": {},
     "output_type": "execute_result"
    }
   ],
   "source": [
    "textanalysis.loc[textanalysis['quote_length']==2]"
   ]
  },
  {
   "cell_type": "code",
   "execution_count": 35,
   "id": "342e2205",
   "metadata": {
    "hidden": true
   },
   "outputs": [],
   "source": [
    "textanalysis=textanalysis.drop([193])"
   ]
  },
  {
   "cell_type": "markdown",
   "id": "c8a70f19",
   "metadata": {
    "hidden": true
   },
   "source": [
    "##### Remove meaningless words "
   ]
  },
  {
   "cell_type": "markdown",
   "id": "5c2e7820",
   "metadata": {
    "hidden": true
   },
   "source": [
    "First, check stopwords for each language in the dataframe."
   ]
  },
  {
   "cell_type": "code",
   "execution_count": 36,
   "id": "7e60c67e",
   "metadata": {
    "hidden": true
   },
   "outputs": [],
   "source": [
    "stop_words = set(stopwords.words('spanish'))"
   ]
  },
  {
   "cell_type": "code",
   "execution_count": 37,
   "id": "696b3bcc",
   "metadata": {
    "hidden": true
   },
   "outputs": [
    {
     "data": {
      "text/plain": [
       "313"
      ]
     },
     "execution_count": 37,
     "metadata": {},
     "output_type": "execute_result"
    }
   ],
   "source": [
    "len(stop_words)"
   ]
  },
  {
   "cell_type": "code",
   "execution_count": 38,
   "id": "685c18eb",
   "metadata": {
    "hidden": true
   },
   "outputs": [],
   "source": [
    "stop_words_eng=set(stopwords.words('english'))"
   ]
  },
  {
   "cell_type": "code",
   "execution_count": 39,
   "id": "b1c9c102",
   "metadata": {
    "hidden": true
   },
   "outputs": [
    {
     "data": {
      "text/plain": [
       "179"
      ]
     },
     "execution_count": 39,
     "metadata": {},
     "output_type": "execute_result"
    }
   ],
   "source": [
    "len(stop_words_eng)"
   ]
  },
  {
   "cell_type": "code",
   "execution_count": 40,
   "id": "11b49ea2",
   "metadata": {
    "hidden": true
   },
   "outputs": [],
   "source": [
    "stop_words_fr=set(stopwords.words('french'))"
   ]
  },
  {
   "cell_type": "code",
   "execution_count": 41,
   "id": "5fb97279",
   "metadata": {
    "hidden": true
   },
   "outputs": [
    {
     "data": {
      "text/plain": [
       "157"
      ]
     },
     "execution_count": 41,
     "metadata": {},
     "output_type": "execute_result"
    }
   ],
   "source": [
    "len(stop_words_fr)"
   ]
  },
  {
   "cell_type": "code",
   "execution_count": 42,
   "id": "27dd4279",
   "metadata": {
    "hidden": true
   },
   "outputs": [],
   "source": [
    "stop_words_pt=set(stopwords.words('portuguese'))"
   ]
  },
  {
   "cell_type": "code",
   "execution_count": 43,
   "id": "61d01c31",
   "metadata": {
    "hidden": true
   },
   "outputs": [
    {
     "data": {
      "text/plain": [
       "204"
      ]
     },
     "execution_count": 43,
     "metadata": {},
     "output_type": "execute_result"
    }
   ],
   "source": [
    "len(stop_words_pt)"
   ]
  },
  {
   "cell_type": "code",
   "execution_count": 44,
   "id": "718b40c7",
   "metadata": {
    "hidden": true
   },
   "outputs": [],
   "source": [
    "# stop_words_cat=set(stopwords.words('catalan'))\n",
    "\n",
    "# I also want to check for catalan, since I know there are some rows, \n",
    "# but looks like there is no language detection for catalan because I get an error. "
   ]
  },
  {
   "cell_type": "code",
   "execution_count": 45,
   "id": "62223a4d",
   "metadata": {
    "hidden": true
   },
   "outputs": [],
   "source": [
    "stop_words_all=stop_words.union(stop_words_eng, stop_words_fr, stop_words_pt)"
   ]
  },
  {
   "cell_type": "code",
   "execution_count": 46,
   "id": "2f58cf9f",
   "metadata": {
    "hidden": true
   },
   "outputs": [
    {
     "data": {
      "text/plain": [
       "787"
      ]
     },
     "execution_count": 46,
     "metadata": {},
     "output_type": "execute_result"
    }
   ],
   "source": [
    "len(stop_words_all)"
   ]
  },
  {
   "cell_type": "code",
   "execution_count": 47,
   "id": "f013b97a",
   "metadata": {
    "hidden": true
   },
   "outputs": [],
   "source": [
    "#remove stopwords from quote \n",
    "textanalysis['cleanwords']=textanalysis['quote'].apply(lambda x: ' '.join([word for word in x.split() if word not in (stop_words_all)]))"
   ]
  },
  {
   "cell_type": "code",
   "execution_count": 48,
   "id": "67615393",
   "metadata": {
    "hidden": true
   },
   "outputs": [
    {
     "name": "stderr",
     "output_type": "stream",
     "text": [
      "<ipython-input-48-28a892f863fb>:2: FutureWarning: The default value of regex will change from True to False in a future version.\n",
      "  textanalysis['cleanwords']=textanalysis['cleanwords'].str.replace(r'[^\\w\\s]','')\n"
     ]
    }
   ],
   "source": [
    "#remove punctuation from quote \n",
    "textanalysis['cleanwords']=textanalysis['cleanwords'].str.replace(r'[^\\w\\s]','')"
   ]
  },
  {
   "cell_type": "code",
   "execution_count": 49,
   "id": "8b09d754",
   "metadata": {
    "hidden": true
   },
   "outputs": [
    {
     "data": {
      "text/html": [
       "<div>\n",
       "<style scoped>\n",
       "    .dataframe tbody tr th:only-of-type {\n",
       "        vertical-align: middle;\n",
       "    }\n",
       "\n",
       "    .dataframe tbody tr th {\n",
       "        vertical-align: top;\n",
       "    }\n",
       "\n",
       "    .dataframe thead th {\n",
       "        text-align: right;\n",
       "    }\n",
       "</style>\n",
       "<table border=\"1\" class=\"dataframe\">\n",
       "  <thead>\n",
       "    <tr style=\"text-align: right;\">\n",
       "      <th></th>\n",
       "      <th>title</th>\n",
       "      <th>genre</th>\n",
       "      <th>quote</th>\n",
       "      <th>quote_length</th>\n",
       "      <th>cleanwords</th>\n",
       "    </tr>\n",
       "  </thead>\n",
       "  <tbody>\n",
       "    <tr>\n",
       "      <th>0</th>\n",
       "      <td>Nosotros en la luna</td>\n",
       "      <td>romance</td>\n",
       "      <td>Es imposible saber cuando conocerás a esa pers...</td>\n",
       "      <td>183</td>\n",
       "      <td>Es imposible saber conocerás persona pondrá go...</td>\n",
       "    </tr>\n",
       "    <tr>\n",
       "      <th>1</th>\n",
       "      <td>El día que se perdio la cordura</td>\n",
       "      <td>thriller</td>\n",
       "      <td>Todavía no me puedo creer lo que hice anoche, ...</td>\n",
       "      <td>281</td>\n",
       "      <td>Todavía puedo creer hice anoche aunque fondo s...</td>\n",
       "    </tr>\n",
       "    <tr>\n",
       "      <th>2</th>\n",
       "      <td>Dime quién soy</td>\n",
       "      <td>historical</td>\n",
       "      <td>El despacho de mi tía resultaba agobiante. En ...</td>\n",
       "      <td>226</td>\n",
       "      <td>El despacho tía resultaba agobiante En realida...</td>\n",
       "    </tr>\n",
       "    <tr>\n",
       "      <th>3</th>\n",
       "      <td>Una corte de rosas y espinas</td>\n",
       "      <td>fantasy</td>\n",
       "      <td>Por las estrellas que escuchan y los sueños qu...</td>\n",
       "      <td>66</td>\n",
       "      <td>Por estrellas escuchan sueños hacen realidad</td>\n",
       "    </tr>\n",
       "    <tr>\n",
       "      <th>4</th>\n",
       "      <td>Frankenstein o El Moderno Prometeo</td>\n",
       "      <td>science fiction</td>\n",
       "      <td>Aprende de mí, sino por mis preceptos, al meno...</td>\n",
       "      <td>116</td>\n",
       "      <td>Aprende mí sino preceptos menos ejemplo peligr...</td>\n",
       "    </tr>\n",
       "    <tr>\n",
       "      <th>...</th>\n",
       "      <td>...</td>\n",
       "      <td>...</td>\n",
       "      <td>...</td>\n",
       "      <td>...</td>\n",
       "      <td>...</td>\n",
       "    </tr>\n",
       "    <tr>\n",
       "      <th>420</th>\n",
       "      <td>The Picture of Dorian Gray</td>\n",
       "      <td>mystery</td>\n",
       "      <td>“You will always be fond of me. I represent to...</td>\n",
       "      <td>101</td>\n",
       "      <td>You always fond me I represent sins never cour...</td>\n",
       "    </tr>\n",
       "    <tr>\n",
       "      <th>421</th>\n",
       "      <td>Das Parfum</td>\n",
       "      <td>historical</td>\n",
       "      <td>“He who ruled scent ruled the hearts of men.”</td>\n",
       "      <td>45</td>\n",
       "      <td>He ruled scent ruled hearts men</td>\n",
       "    </tr>\n",
       "    <tr>\n",
       "      <th>422</th>\n",
       "      <td>the brief wondrous life of oscar wao</td>\n",
       "      <td>generic fiction</td>\n",
       "      <td>But if these years have taught me anything it ...</td>\n",
       "      <td>111</td>\n",
       "      <td>But years taught anything this never run away ...</td>\n",
       "    </tr>\n",
       "    <tr>\n",
       "      <th>423</th>\n",
       "      <td>Sapiens</td>\n",
       "      <td>non fiction</td>\n",
       "      <td>Hace unos 14000 millones de años, materia, ene...</td>\n",
       "      <td>119</td>\n",
       "      <td>Hace 14000 millones años materia energía tiemp...</td>\n",
       "    </tr>\n",
       "    <tr>\n",
       "      <th>424</th>\n",
       "      <td>Perfume</td>\n",
       "      <td>mystery</td>\n",
       "      <td>“He who ruled scent ruled the hearts of men.”</td>\n",
       "      <td>45</td>\n",
       "      <td>He ruled scent ruled hearts men</td>\n",
       "    </tr>\n",
       "  </tbody>\n",
       "</table>\n",
       "<p>424 rows × 5 columns</p>\n",
       "</div>"
      ],
      "text/plain": [
       "                                    title            genre  \\\n",
       "0                     Nosotros en la luna          romance   \n",
       "1         El día que se perdio la cordura         thriller   \n",
       "2                          Dime quién soy       historical   \n",
       "3            Una corte de rosas y espinas          fantasy   \n",
       "4      Frankenstein o El Moderno Prometeo  science fiction   \n",
       "..                                    ...              ...   \n",
       "420            The Picture of Dorian Gray          mystery   \n",
       "421                            Das Parfum       historical   \n",
       "422  the brief wondrous life of oscar wao  generic fiction   \n",
       "423                               Sapiens      non fiction   \n",
       "424                               Perfume          mystery   \n",
       "\n",
       "                                                 quote  quote_length  \\\n",
       "0    Es imposible saber cuando conocerás a esa pers...           183   \n",
       "1    Todavía no me puedo creer lo que hice anoche, ...           281   \n",
       "2    El despacho de mi tía resultaba agobiante. En ...           226   \n",
       "3    Por las estrellas que escuchan y los sueños qu...            66   \n",
       "4    Aprende de mí, sino por mis preceptos, al meno...           116   \n",
       "..                                                 ...           ...   \n",
       "420  “You will always be fond of me. I represent to...           101   \n",
       "421      “He who ruled scent ruled the hearts of men.”            45   \n",
       "422  But if these years have taught me anything it ...           111   \n",
       "423  Hace unos 14000 millones de años, materia, ene...           119   \n",
       "424      “He who ruled scent ruled the hearts of men.”            45   \n",
       "\n",
       "                                            cleanwords  \n",
       "0    Es imposible saber conocerás persona pondrá go...  \n",
       "1    Todavía puedo creer hice anoche aunque fondo s...  \n",
       "2    El despacho tía resultaba agobiante En realida...  \n",
       "3         Por estrellas escuchan sueños hacen realidad  \n",
       "4    Aprende mí sino preceptos menos ejemplo peligr...  \n",
       "..                                                 ...  \n",
       "420  You always fond me I represent sins never cour...  \n",
       "421                    He ruled scent ruled hearts men  \n",
       "422  But years taught anything this never run away ...  \n",
       "423  Hace 14000 millones años materia energía tiemp...  \n",
       "424                    He ruled scent ruled hearts men  \n",
       "\n",
       "[424 rows x 5 columns]"
      ]
     },
     "execution_count": 49,
     "metadata": {},
     "output_type": "execute_result"
    }
   ],
   "source": [
    "textanalysis"
   ]
  },
  {
   "cell_type": "markdown",
   "id": "77616fef",
   "metadata": {
    "hidden": true
   },
   "source": [
    "##### Word frequency by genre "
   ]
  },
  {
   "cell_type": "code",
   "execution_count": 50,
   "id": "fb10fa90",
   "metadata": {
    "hidden": true
   },
   "outputs": [],
   "source": [
    "# fantasy \n",
    "fantasy=textanalysis.loc[textanalysis['genre']=='fantasy']"
   ]
  },
  {
   "cell_type": "code",
   "execution_count": 51,
   "id": "372d64f5",
   "metadata": {
    "hidden": true
   },
   "outputs": [
    {
     "name": "stdout",
     "output_type": "stream",
     "text": [
      "<class 'pandas.core.frame.DataFrame'>\n",
      "Int64Index: 62 entries, 3 to 416\n",
      "Data columns (total 5 columns):\n",
      " #   Column        Non-Null Count  Dtype \n",
      "---  ------        --------------  ----- \n",
      " 0   title         62 non-null     object\n",
      " 1   genre         62 non-null     object\n",
      " 2   quote         62 non-null     object\n",
      " 3   quote_length  62 non-null     int64 \n",
      " 4   cleanwords    62 non-null     object\n",
      "dtypes: int64(1), object(4)\n",
      "memory usage: 2.9+ KB\n"
     ]
    }
   ],
   "source": [
    "fantasy.info()"
   ]
  },
  {
   "cell_type": "code",
   "execution_count": 52,
   "id": "64857c51",
   "metadata": {
    "hidden": true
   },
   "outputs": [],
   "source": [
    "# split the words\n",
    "a = fantasy['cleanwords'].str.cat(sep=' ')\n",
    "# tokenise\n",
    "wordstokenise = nltk.tokenize.word_tokenize(a)\n",
    "# count words\n",
    "word_dist = nltk.FreqDist(wordstokenise)"
   ]
  },
  {
   "cell_type": "code",
   "execution_count": 53,
   "id": "4e3c579d",
   "metadata": {
    "hidden": true
   },
   "outputs": [
    {
     "data": {
      "text/plain": [
       "FreqDist({'No': 10, 'si': 10, 'El': 6, 'amor': 5, 'estrellas': 4, 'puede': 4, 'A': 4, 'tiempo': 4, 'La': 4, 'els': 4, ...})"
      ]
     },
     "execution_count": 53,
     "metadata": {},
     "output_type": "execute_result"
    }
   ],
   "source": [
    "word_dist"
   ]
  },
  {
   "cell_type": "code",
   "execution_count": 54,
   "id": "d5f1187f",
   "metadata": {
    "hidden": true
   },
   "outputs": [],
   "source": [
    "#create a dataframe \n",
    "fantasywords = pd.DataFrame(word_dist.most_common(15),columns=['Word', 'Frequency'])"
   ]
  },
  {
   "cell_type": "code",
   "execution_count": 55,
   "id": "07ac597b",
   "metadata": {
    "hidden": true
   },
   "outputs": [
    {
     "data": {
      "text/html": [
       "<div>\n",
       "<style scoped>\n",
       "    .dataframe tbody tr th:only-of-type {\n",
       "        vertical-align: middle;\n",
       "    }\n",
       "\n",
       "    .dataframe tbody tr th {\n",
       "        vertical-align: top;\n",
       "    }\n",
       "\n",
       "    .dataframe thead th {\n",
       "        text-align: right;\n",
       "    }\n",
       "</style>\n",
       "<table border=\"1\" class=\"dataframe\">\n",
       "  <thead>\n",
       "    <tr style=\"text-align: right;\">\n",
       "      <th></th>\n",
       "      <th>Word</th>\n",
       "      <th>Frequency</th>\n",
       "    </tr>\n",
       "  </thead>\n",
       "  <tbody>\n",
       "    <tr>\n",
       "      <th>0</th>\n",
       "      <td>No</td>\n",
       "      <td>10</td>\n",
       "    </tr>\n",
       "    <tr>\n",
       "      <th>1</th>\n",
       "      <td>si</td>\n",
       "      <td>10</td>\n",
       "    </tr>\n",
       "    <tr>\n",
       "      <th>2</th>\n",
       "      <td>El</td>\n",
       "      <td>6</td>\n",
       "    </tr>\n",
       "    <tr>\n",
       "      <th>3</th>\n",
       "      <td>amor</td>\n",
       "      <td>5</td>\n",
       "    </tr>\n",
       "    <tr>\n",
       "      <th>4</th>\n",
       "      <td>estrellas</td>\n",
       "      <td>4</td>\n",
       "    </tr>\n",
       "    <tr>\n",
       "      <th>5</th>\n",
       "      <td>puede</td>\n",
       "      <td>4</td>\n",
       "    </tr>\n",
       "    <tr>\n",
       "      <th>6</th>\n",
       "      <td>A</td>\n",
       "      <td>4</td>\n",
       "    </tr>\n",
       "    <tr>\n",
       "      <th>7</th>\n",
       "      <td>tiempo</td>\n",
       "      <td>4</td>\n",
       "    </tr>\n",
       "    <tr>\n",
       "      <th>8</th>\n",
       "      <td>La</td>\n",
       "      <td>4</td>\n",
       "    </tr>\n",
       "    <tr>\n",
       "      <th>9</th>\n",
       "      <td>els</td>\n",
       "      <td>4</td>\n",
       "    </tr>\n",
       "    <tr>\n",
       "      <th>10</th>\n",
       "      <td>forat</td>\n",
       "      <td>4</td>\n",
       "    </tr>\n",
       "    <tr>\n",
       "      <th>11</th>\n",
       "      <td>Por</td>\n",
       "      <td>3</td>\n",
       "    </tr>\n",
       "    <tr>\n",
       "      <th>12</th>\n",
       "      <td>escuchan</td>\n",
       "      <td>3</td>\n",
       "    </tr>\n",
       "    <tr>\n",
       "      <th>13</th>\n",
       "      <td>sueños</td>\n",
       "      <td>3</td>\n",
       "    </tr>\n",
       "    <tr>\n",
       "      <th>14</th>\n",
       "      <td>hacen</td>\n",
       "      <td>3</td>\n",
       "    </tr>\n",
       "  </tbody>\n",
       "</table>\n",
       "</div>"
      ],
      "text/plain": [
       "         Word  Frequency\n",
       "0          No         10\n",
       "1          si         10\n",
       "2          El          6\n",
       "3        amor          5\n",
       "4   estrellas          4\n",
       "5       puede          4\n",
       "6           A          4\n",
       "7      tiempo          4\n",
       "8          La          4\n",
       "9         els          4\n",
       "10      forat          4\n",
       "11        Por          3\n",
       "12   escuchan          3\n",
       "13     sueños          3\n",
       "14      hacen          3"
      ]
     },
     "execution_count": 55,
     "metadata": {},
     "output_type": "execute_result"
    }
   ],
   "source": [
    "fantasywords.head(15)"
   ]
  },
  {
   "cell_type": "code",
   "execution_count": 56,
   "id": "3f26769e",
   "metadata": {
    "hidden": true
   },
   "outputs": [],
   "source": [
    "# mystery \n",
    "mystery=textanalysis.loc[textanalysis['genre']=='mystery']"
   ]
  },
  {
   "cell_type": "code",
   "execution_count": 57,
   "id": "ee28b383",
   "metadata": {
    "hidden": true
   },
   "outputs": [],
   "source": [
    "# split the words\n",
    "b = mystery['cleanwords'].str.cat(sep=' ')\n",
    "# tokenise\n",
    "wordstokenise = nltk.tokenize.word_tokenize(b)\n",
    "# count words\n",
    "word_dist = nltk.FreqDist(wordstokenise)"
   ]
  },
  {
   "cell_type": "code",
   "execution_count": 58,
   "id": "c0aa97fc",
   "metadata": {
    "hidden": true
   },
   "outputs": [
    {
     "data": {
      "text/plain": [
       "FreqDist({'El': 4, 'No': 3, 'Ahora': 3, 'ventana': 3, 'coche': 3, 'hacía': 2, 'Las': 2, 'necesitamos': 2, 'noche': 2, 'Es': 2, ...})"
      ]
     },
     "execution_count": 58,
     "metadata": {},
     "output_type": "execute_result"
    }
   ],
   "source": [
    "word_dist"
   ]
  },
  {
   "cell_type": "code",
   "execution_count": 59,
   "id": "0d4090b6",
   "metadata": {
    "hidden": true
   },
   "outputs": [],
   "source": [
    "#create a dataframe \n",
    "misterywords = pd.DataFrame(word_dist.most_common(15),columns=['Word', 'Frequency'])"
   ]
  },
  {
   "cell_type": "code",
   "execution_count": 60,
   "id": "ad6f16c9",
   "metadata": {
    "hidden": true
   },
   "outputs": [
    {
     "data": {
      "text/html": [
       "<div>\n",
       "<style scoped>\n",
       "    .dataframe tbody tr th:only-of-type {\n",
       "        vertical-align: middle;\n",
       "    }\n",
       "\n",
       "    .dataframe tbody tr th {\n",
       "        vertical-align: top;\n",
       "    }\n",
       "\n",
       "    .dataframe thead th {\n",
       "        text-align: right;\n",
       "    }\n",
       "</style>\n",
       "<table border=\"1\" class=\"dataframe\">\n",
       "  <thead>\n",
       "    <tr style=\"text-align: right;\">\n",
       "      <th></th>\n",
       "      <th>Word</th>\n",
       "      <th>Frequency</th>\n",
       "    </tr>\n",
       "  </thead>\n",
       "  <tbody>\n",
       "    <tr>\n",
       "      <th>0</th>\n",
       "      <td>El</td>\n",
       "      <td>4</td>\n",
       "    </tr>\n",
       "    <tr>\n",
       "      <th>1</th>\n",
       "      <td>No</td>\n",
       "      <td>3</td>\n",
       "    </tr>\n",
       "    <tr>\n",
       "      <th>2</th>\n",
       "      <td>Ahora</td>\n",
       "      <td>3</td>\n",
       "    </tr>\n",
       "    <tr>\n",
       "      <th>3</th>\n",
       "      <td>ventana</td>\n",
       "      <td>3</td>\n",
       "    </tr>\n",
       "    <tr>\n",
       "      <th>4</th>\n",
       "      <td>coche</td>\n",
       "      <td>3</td>\n",
       "    </tr>\n",
       "    <tr>\n",
       "      <th>5</th>\n",
       "      <td>hacía</td>\n",
       "      <td>2</td>\n",
       "    </tr>\n",
       "    <tr>\n",
       "      <th>6</th>\n",
       "      <td>Las</td>\n",
       "      <td>2</td>\n",
       "    </tr>\n",
       "    <tr>\n",
       "      <th>7</th>\n",
       "      <td>necesitamos</td>\n",
       "      <td>2</td>\n",
       "    </tr>\n",
       "    <tr>\n",
       "      <th>8</th>\n",
       "      <td>noche</td>\n",
       "      <td>2</td>\n",
       "    </tr>\n",
       "    <tr>\n",
       "      <th>9</th>\n",
       "      <td>Es</td>\n",
       "      <td>2</td>\n",
       "    </tr>\n",
       "    <tr>\n",
       "      <th>10</th>\n",
       "      <td>ojos</td>\n",
       "      <td>2</td>\n",
       "    </tr>\n",
       "    <tr>\n",
       "      <th>11</th>\n",
       "      <td>miedo</td>\n",
       "      <td>2</td>\n",
       "    </tr>\n",
       "    <tr>\n",
       "      <th>12</th>\n",
       "      <td>si</td>\n",
       "      <td>2</td>\n",
       "    </tr>\n",
       "    <tr>\n",
       "      <th>13</th>\n",
       "      <td>valía</td>\n",
       "      <td>2</td>\n",
       "    </tr>\n",
       "    <tr>\n",
       "      <th>14</th>\n",
       "      <td>La</td>\n",
       "      <td>2</td>\n",
       "    </tr>\n",
       "  </tbody>\n",
       "</table>\n",
       "</div>"
      ],
      "text/plain": [
       "           Word  Frequency\n",
       "0            El          4\n",
       "1            No          3\n",
       "2         Ahora          3\n",
       "3       ventana          3\n",
       "4         coche          3\n",
       "5         hacía          2\n",
       "6           Las          2\n",
       "7   necesitamos          2\n",
       "8         noche          2\n",
       "9            Es          2\n",
       "10         ojos          2\n",
       "11        miedo          2\n",
       "12           si          2\n",
       "13        valía          2\n",
       "14           La          2"
      ]
     },
     "execution_count": 60,
     "metadata": {},
     "output_type": "execute_result"
    }
   ],
   "source": [
    "misterywords.head(15)"
   ]
  },
  {
   "cell_type": "code",
   "execution_count": 61,
   "id": "4211c6dd",
   "metadata": {
    "hidden": true
   },
   "outputs": [],
   "source": [
    "# thriller \n",
    "thriller=textanalysis.loc[textanalysis['genre']=='thriller']"
   ]
  },
  {
   "cell_type": "code",
   "execution_count": 62,
   "id": "8d021a74",
   "metadata": {
    "hidden": true
   },
   "outputs": [],
   "source": [
    "# split the words\n",
    "c = thriller['cleanwords'].str.cat(sep=' ')\n",
    "# tokenise\n",
    "wordstokenise = nltk.tokenize.word_tokenize(c)\n",
    "# count words\n",
    "word_dist = nltk.FreqDist(wordstokenise)"
   ]
  },
  {
   "cell_type": "code",
   "execution_count": 63,
   "id": "2a5293ad",
   "metadata": {
    "hidden": true
   },
   "outputs": [
    {
     "data": {
      "text/plain": [
       "FreqDist({'No': 6, 'Cuando': 5, 'El': 5, 'Piensa': 4, 'Miren': 4, 'sangre': 4, 'mal': 4, 'vez': 4, 'Es': 3, 'alguien': 3, ...})"
      ]
     },
     "execution_count": 63,
     "metadata": {},
     "output_type": "execute_result"
    }
   ],
   "source": [
    "word_dist"
   ]
  },
  {
   "cell_type": "code",
   "execution_count": 64,
   "id": "5feafe63",
   "metadata": {
    "hidden": true
   },
   "outputs": [],
   "source": [
    "#create a dataframe \n",
    "thrillerwords = pd.DataFrame(word_dist.most_common(15),columns=['Word', 'Frequency'])"
   ]
  },
  {
   "cell_type": "code",
   "execution_count": 65,
   "id": "70585942",
   "metadata": {
    "hidden": true
   },
   "outputs": [
    {
     "data": {
      "text/html": [
       "<div>\n",
       "<style scoped>\n",
       "    .dataframe tbody tr th:only-of-type {\n",
       "        vertical-align: middle;\n",
       "    }\n",
       "\n",
       "    .dataframe tbody tr th {\n",
       "        vertical-align: top;\n",
       "    }\n",
       "\n",
       "    .dataframe thead th {\n",
       "        text-align: right;\n",
       "    }\n",
       "</style>\n",
       "<table border=\"1\" class=\"dataframe\">\n",
       "  <thead>\n",
       "    <tr style=\"text-align: right;\">\n",
       "      <th></th>\n",
       "      <th>Word</th>\n",
       "      <th>Frequency</th>\n",
       "    </tr>\n",
       "  </thead>\n",
       "  <tbody>\n",
       "    <tr>\n",
       "      <th>0</th>\n",
       "      <td>No</td>\n",
       "      <td>6</td>\n",
       "    </tr>\n",
       "    <tr>\n",
       "      <th>1</th>\n",
       "      <td>Cuando</td>\n",
       "      <td>5</td>\n",
       "    </tr>\n",
       "    <tr>\n",
       "      <th>2</th>\n",
       "      <td>El</td>\n",
       "      <td>5</td>\n",
       "    </tr>\n",
       "    <tr>\n",
       "      <th>3</th>\n",
       "      <td>Piensa</td>\n",
       "      <td>4</td>\n",
       "    </tr>\n",
       "    <tr>\n",
       "      <th>4</th>\n",
       "      <td>Miren</td>\n",
       "      <td>4</td>\n",
       "    </tr>\n",
       "    <tr>\n",
       "      <th>5</th>\n",
       "      <td>sangre</td>\n",
       "      <td>4</td>\n",
       "    </tr>\n",
       "    <tr>\n",
       "      <th>6</th>\n",
       "      <td>mal</td>\n",
       "      <td>4</td>\n",
       "    </tr>\n",
       "    <tr>\n",
       "      <th>7</th>\n",
       "      <td>vez</td>\n",
       "      <td>4</td>\n",
       "    </tr>\n",
       "    <tr>\n",
       "      <th>8</th>\n",
       "      <td>Es</td>\n",
       "      <td>3</td>\n",
       "    </tr>\n",
       "    <tr>\n",
       "      <th>9</th>\n",
       "      <td>alguien</td>\n",
       "      <td>3</td>\n",
       "    </tr>\n",
       "    <tr>\n",
       "      <th>10</th>\n",
       "      <td>ayuda</td>\n",
       "      <td>3</td>\n",
       "    </tr>\n",
       "    <tr>\n",
       "      <th>11</th>\n",
       "      <td>fin</td>\n",
       "      <td>3</td>\n",
       "    </tr>\n",
       "    <tr>\n",
       "      <th>12</th>\n",
       "      <td>hace</td>\n",
       "      <td>3</td>\n",
       "    </tr>\n",
       "    <tr>\n",
       "      <th>13</th>\n",
       "      <td>siempre</td>\n",
       "      <td>3</td>\n",
       "    </tr>\n",
       "    <tr>\n",
       "      <th>14</th>\n",
       "      <td>puede</td>\n",
       "      <td>3</td>\n",
       "    </tr>\n",
       "  </tbody>\n",
       "</table>\n",
       "</div>"
      ],
      "text/plain": [
       "       Word  Frequency\n",
       "0        No          6\n",
       "1    Cuando          5\n",
       "2        El          5\n",
       "3    Piensa          4\n",
       "4     Miren          4\n",
       "5    sangre          4\n",
       "6       mal          4\n",
       "7       vez          4\n",
       "8        Es          3\n",
       "9   alguien          3\n",
       "10    ayuda          3\n",
       "11      fin          3\n",
       "12     hace          3\n",
       "13  siempre          3\n",
       "14    puede          3"
      ]
     },
     "execution_count": 65,
     "metadata": {},
     "output_type": "execute_result"
    }
   ],
   "source": [
    "thrillerwords.head(15)"
   ]
  },
  {
   "cell_type": "code",
   "execution_count": 66,
   "id": "21611a12",
   "metadata": {
    "hidden": true
   },
   "outputs": [],
   "source": [
    "# horror \n",
    "horror=textanalysis.loc[textanalysis['genre']=='horror']"
   ]
  },
  {
   "cell_type": "code",
   "execution_count": 67,
   "id": "eb8b0802",
   "metadata": {
    "hidden": true
   },
   "outputs": [],
   "source": [
    "# split the words\n",
    "d = horror['cleanwords'].str.cat(sep=' ')\n",
    "# tokenise\n",
    "wordstokenise = nltk.tokenize.word_tokenize(d)\n",
    "# count words\n",
    "word_dist = nltk.FreqDist(wordstokenise)"
   ]
  },
  {
   "cell_type": "code",
   "execution_count": 68,
   "id": "641b23fc",
   "metadata": {
    "hidden": true
   },
   "outputs": [
    {
     "data": {
      "text/plain": [
       "FreqDist({'El': 1, 'tiempo': 1, 'hacía': 1, 'deformar': 1, 'filo': 1, 'dolor': 1, 'lugar': 1, 'cortar': 1, 'desgarraba': 1, 'No': 1, ...})"
      ]
     },
     "execution_count": 68,
     "metadata": {},
     "output_type": "execute_result"
    }
   ],
   "source": [
    "word_dist"
   ]
  },
  {
   "cell_type": "code",
   "execution_count": 69,
   "id": "14143c29",
   "metadata": {
    "hidden": true
   },
   "outputs": [],
   "source": [
    "#create a dataframe \n",
    "horrorwords = pd.DataFrame(word_dist.most_common(15),columns=['Word', 'Frequency'])"
   ]
  },
  {
   "cell_type": "code",
   "execution_count": 70,
   "id": "ebae5b7e",
   "metadata": {
    "hidden": true
   },
   "outputs": [
    {
     "data": {
      "text/html": [
       "<div>\n",
       "<style scoped>\n",
       "    .dataframe tbody tr th:only-of-type {\n",
       "        vertical-align: middle;\n",
       "    }\n",
       "\n",
       "    .dataframe tbody tr th {\n",
       "        vertical-align: top;\n",
       "    }\n",
       "\n",
       "    .dataframe thead th {\n",
       "        text-align: right;\n",
       "    }\n",
       "</style>\n",
       "<table border=\"1\" class=\"dataframe\">\n",
       "  <thead>\n",
       "    <tr style=\"text-align: right;\">\n",
       "      <th></th>\n",
       "      <th>Word</th>\n",
       "      <th>Frequency</th>\n",
       "    </tr>\n",
       "  </thead>\n",
       "  <tbody>\n",
       "    <tr>\n",
       "      <th>0</th>\n",
       "      <td>El</td>\n",
       "      <td>1</td>\n",
       "    </tr>\n",
       "    <tr>\n",
       "      <th>1</th>\n",
       "      <td>tiempo</td>\n",
       "      <td>1</td>\n",
       "    </tr>\n",
       "    <tr>\n",
       "      <th>2</th>\n",
       "      <td>hacía</td>\n",
       "      <td>1</td>\n",
       "    </tr>\n",
       "    <tr>\n",
       "      <th>3</th>\n",
       "      <td>deformar</td>\n",
       "      <td>1</td>\n",
       "    </tr>\n",
       "    <tr>\n",
       "      <th>4</th>\n",
       "      <td>filo</td>\n",
       "      <td>1</td>\n",
       "    </tr>\n",
       "    <tr>\n",
       "      <th>5</th>\n",
       "      <td>dolor</td>\n",
       "      <td>1</td>\n",
       "    </tr>\n",
       "    <tr>\n",
       "      <th>6</th>\n",
       "      <td>lugar</td>\n",
       "      <td>1</td>\n",
       "    </tr>\n",
       "    <tr>\n",
       "      <th>7</th>\n",
       "      <td>cortar</td>\n",
       "      <td>1</td>\n",
       "    </tr>\n",
       "    <tr>\n",
       "      <th>8</th>\n",
       "      <td>desgarraba</td>\n",
       "      <td>1</td>\n",
       "    </tr>\n",
       "    <tr>\n",
       "      <th>9</th>\n",
       "      <td>No</td>\n",
       "      <td>1</td>\n",
       "    </tr>\n",
       "    <tr>\n",
       "      <th>10</th>\n",
       "      <td>niebla</td>\n",
       "      <td>1</td>\n",
       "    </tr>\n",
       "    <tr>\n",
       "      <th>11</th>\n",
       "      <td>oscuridad</td>\n",
       "      <td>1</td>\n",
       "    </tr>\n",
       "    <tr>\n",
       "      <th>12</th>\n",
       "      <td>Te</td>\n",
       "      <td>1</td>\n",
       "    </tr>\n",
       "    <tr>\n",
       "      <th>13</th>\n",
       "      <td>protegería</td>\n",
       "      <td>1</td>\n",
       "    </tr>\n",
       "    <tr>\n",
       "      <th>14</th>\n",
       "      <td>cualquier</td>\n",
       "      <td>1</td>\n",
       "    </tr>\n",
       "  </tbody>\n",
       "</table>\n",
       "</div>"
      ],
      "text/plain": [
       "          Word  Frequency\n",
       "0           El          1\n",
       "1       tiempo          1\n",
       "2        hacía          1\n",
       "3     deformar          1\n",
       "4         filo          1\n",
       "5        dolor          1\n",
       "6        lugar          1\n",
       "7       cortar          1\n",
       "8   desgarraba          1\n",
       "9           No          1\n",
       "10      niebla          1\n",
       "11   oscuridad          1\n",
       "12          Te          1\n",
       "13  protegería          1\n",
       "14   cualquier          1"
      ]
     },
     "execution_count": 70,
     "metadata": {},
     "output_type": "execute_result"
    }
   ],
   "source": [
    "horrorwords.head(15)"
   ]
  },
  {
   "cell_type": "code",
   "execution_count": 71,
   "id": "423ec92c",
   "metadata": {
    "hidden": true
   },
   "outputs": [],
   "source": [
    "# concat de mystery thriller and horror"
   ]
  },
  {
   "cell_type": "code",
   "execution_count": 72,
   "id": "52756654",
   "metadata": {
    "hidden": true
   },
   "outputs": [],
   "source": [
    "# romance \n",
    "romance=textanalysis.loc[textanalysis['genre']=='romance']"
   ]
  },
  {
   "cell_type": "code",
   "execution_count": 73,
   "id": "0db1db48",
   "metadata": {
    "hidden": true
   },
   "outputs": [],
   "source": [
    "# split the words\n",
    "e = romance['cleanwords'].str.cat(sep=' ')\n",
    "# tokenise\n",
    "wordstokenise = nltk.tokenize.word_tokenize(e)\n",
    "# count words\n",
    "word_dist = nltk.FreqDist(wordstokenise)"
   ]
  },
  {
   "cell_type": "code",
   "execution_count": 74,
   "id": "12ace021",
   "metadata": {
    "hidden": true
   },
   "outputs": [
    {
     "data": {
      "text/plain": [
       "FreqDist({'vida': 12, 'No': 11, 'tiempo': 10, 'El': 9, 'Es': 8, 'mundo': 8, 'A': 7, 'amor': 7, 'siempre': 7, 'puede': 7, ...})"
      ]
     },
     "execution_count": 74,
     "metadata": {},
     "output_type": "execute_result"
    }
   ],
   "source": [
    "word_dist"
   ]
  },
  {
   "cell_type": "code",
   "execution_count": 75,
   "id": "27c9baf6",
   "metadata": {
    "hidden": true
   },
   "outputs": [],
   "source": [
    "#create a dataframe \n",
    "romancewords = pd.DataFrame(word_dist.most_common(15),columns=['Word', 'Frequency'])"
   ]
  },
  {
   "cell_type": "code",
   "execution_count": 76,
   "id": "ed6ad3d0",
   "metadata": {
    "hidden": true
   },
   "outputs": [
    {
     "data": {
      "text/html": [
       "<div>\n",
       "<style scoped>\n",
       "    .dataframe tbody tr th:only-of-type {\n",
       "        vertical-align: middle;\n",
       "    }\n",
       "\n",
       "    .dataframe tbody tr th {\n",
       "        vertical-align: top;\n",
       "    }\n",
       "\n",
       "    .dataframe thead th {\n",
       "        text-align: right;\n",
       "    }\n",
       "</style>\n",
       "<table border=\"1\" class=\"dataframe\">\n",
       "  <thead>\n",
       "    <tr style=\"text-align: right;\">\n",
       "      <th></th>\n",
       "      <th>Word</th>\n",
       "      <th>Frequency</th>\n",
       "    </tr>\n",
       "  </thead>\n",
       "  <tbody>\n",
       "    <tr>\n",
       "      <th>0</th>\n",
       "      <td>vida</td>\n",
       "      <td>12</td>\n",
       "    </tr>\n",
       "    <tr>\n",
       "      <th>1</th>\n",
       "      <td>No</td>\n",
       "      <td>11</td>\n",
       "    </tr>\n",
       "    <tr>\n",
       "      <th>2</th>\n",
       "      <td>tiempo</td>\n",
       "      <td>10</td>\n",
       "    </tr>\n",
       "    <tr>\n",
       "      <th>3</th>\n",
       "      <td>El</td>\n",
       "      <td>9</td>\n",
       "    </tr>\n",
       "    <tr>\n",
       "      <th>4</th>\n",
       "      <td>Es</td>\n",
       "      <td>8</td>\n",
       "    </tr>\n",
       "    <tr>\n",
       "      <th>5</th>\n",
       "      <td>mundo</td>\n",
       "      <td>8</td>\n",
       "    </tr>\n",
       "    <tr>\n",
       "      <th>6</th>\n",
       "      <td>A</td>\n",
       "      <td>7</td>\n",
       "    </tr>\n",
       "    <tr>\n",
       "      <th>7</th>\n",
       "      <td>amor</td>\n",
       "      <td>7</td>\n",
       "    </tr>\n",
       "    <tr>\n",
       "      <th>8</th>\n",
       "      <td>siempre</td>\n",
       "      <td>7</td>\n",
       "    </tr>\n",
       "    <tr>\n",
       "      <th>9</th>\n",
       "      <td>puede</td>\n",
       "      <td>7</td>\n",
       "    </tr>\n",
       "    <tr>\n",
       "      <th>10</th>\n",
       "      <td>si</td>\n",
       "      <td>7</td>\n",
       "    </tr>\n",
       "    <tr>\n",
       "      <th>11</th>\n",
       "      <td>En</td>\n",
       "      <td>6</td>\n",
       "    </tr>\n",
       "    <tr>\n",
       "      <th>12</th>\n",
       "      <td>Me</td>\n",
       "      <td>6</td>\n",
       "    </tr>\n",
       "    <tr>\n",
       "      <th>13</th>\n",
       "      <td>ser</td>\n",
       "      <td>6</td>\n",
       "    </tr>\n",
       "    <tr>\n",
       "      <th>14</th>\n",
       "      <td>incluso</td>\n",
       "      <td>6</td>\n",
       "    </tr>\n",
       "  </tbody>\n",
       "</table>\n",
       "</div>"
      ],
      "text/plain": [
       "       Word  Frequency\n",
       "0      vida         12\n",
       "1        No         11\n",
       "2    tiempo         10\n",
       "3        El          9\n",
       "4        Es          8\n",
       "5     mundo          8\n",
       "6         A          7\n",
       "7      amor          7\n",
       "8   siempre          7\n",
       "9     puede          7\n",
       "10       si          7\n",
       "11       En          6\n",
       "12       Me          6\n",
       "13      ser          6\n",
       "14  incluso          6"
      ]
     },
     "execution_count": 76,
     "metadata": {},
     "output_type": "execute_result"
    }
   ],
   "source": [
    "romancewords.head(15)"
   ]
  },
  {
   "cell_type": "code",
   "execution_count": 77,
   "id": "2ffc152f",
   "metadata": {
    "hidden": true
   },
   "outputs": [],
   "source": [
    "# generic fiction \n",
    "generic_fiction=textanalysis.loc[textanalysis['genre']=='generic fiction']"
   ]
  },
  {
   "cell_type": "code",
   "execution_count": 78,
   "id": "818eb9b0",
   "metadata": {
    "hidden": true
   },
   "outputs": [],
   "source": [
    "# split the words\n",
    "g = generic_fiction['cleanwords'].str.cat(sep=' ')\n",
    "# tokenise\n",
    "wordstokenise = nltk.tokenize.word_tokenize(g)\n",
    "# count words\n",
    "word_dist = nltk.FreqDist(wordstokenise)"
   ]
  },
  {
   "cell_type": "code",
   "execution_count": 79,
   "id": "8e6953c7",
   "metadata": {
    "hidden": true
   },
   "outputs": [
    {
     "data": {
      "text/plain": [
       "FreqDist({'si': 18, 'La': 17, 'El': 12, 'años': 11, 'nunca': 10, 'No': 10, 'va': 10, 'día': 9, 'casa': 9, 'madre': 8, ...})"
      ]
     },
     "execution_count": 79,
     "metadata": {},
     "output_type": "execute_result"
    }
   ],
   "source": [
    "word_dist"
   ]
  },
  {
   "cell_type": "code",
   "execution_count": 80,
   "id": "524d6cba",
   "metadata": {
    "hidden": true
   },
   "outputs": [],
   "source": [
    "#create a dataframe \n",
    "genericfictionwords = pd.DataFrame(word_dist.most_common(15),columns=['Word', 'Frequency'])"
   ]
  },
  {
   "cell_type": "code",
   "execution_count": 81,
   "id": "75621c23",
   "metadata": {
    "hidden": true
   },
   "outputs": [
    {
     "data": {
      "text/html": [
       "<div>\n",
       "<style scoped>\n",
       "    .dataframe tbody tr th:only-of-type {\n",
       "        vertical-align: middle;\n",
       "    }\n",
       "\n",
       "    .dataframe tbody tr th {\n",
       "        vertical-align: top;\n",
       "    }\n",
       "\n",
       "    .dataframe thead th {\n",
       "        text-align: right;\n",
       "    }\n",
       "</style>\n",
       "<table border=\"1\" class=\"dataframe\">\n",
       "  <thead>\n",
       "    <tr style=\"text-align: right;\">\n",
       "      <th></th>\n",
       "      <th>Word</th>\n",
       "      <th>Frequency</th>\n",
       "    </tr>\n",
       "  </thead>\n",
       "  <tbody>\n",
       "    <tr>\n",
       "      <th>0</th>\n",
       "      <td>si</td>\n",
       "      <td>18</td>\n",
       "    </tr>\n",
       "    <tr>\n",
       "      <th>1</th>\n",
       "      <td>La</td>\n",
       "      <td>17</td>\n",
       "    </tr>\n",
       "    <tr>\n",
       "      <th>2</th>\n",
       "      <td>El</td>\n",
       "      <td>12</td>\n",
       "    </tr>\n",
       "    <tr>\n",
       "      <th>3</th>\n",
       "      <td>años</td>\n",
       "      <td>11</td>\n",
       "    </tr>\n",
       "    <tr>\n",
       "      <th>4</th>\n",
       "      <td>nunca</td>\n",
       "      <td>10</td>\n",
       "    </tr>\n",
       "    <tr>\n",
       "      <th>5</th>\n",
       "      <td>No</td>\n",
       "      <td>10</td>\n",
       "    </tr>\n",
       "    <tr>\n",
       "      <th>6</th>\n",
       "      <td>va</td>\n",
       "      <td>10</td>\n",
       "    </tr>\n",
       "    <tr>\n",
       "      <th>7</th>\n",
       "      <td>día</td>\n",
       "      <td>9</td>\n",
       "    </tr>\n",
       "    <tr>\n",
       "      <th>8</th>\n",
       "      <td>casa</td>\n",
       "      <td>9</td>\n",
       "    </tr>\n",
       "    <tr>\n",
       "      <th>9</th>\n",
       "      <td>madre</td>\n",
       "      <td>8</td>\n",
       "    </tr>\n",
       "    <tr>\n",
       "      <th>10</th>\n",
       "      <td>Me</td>\n",
       "      <td>8</td>\n",
       "    </tr>\n",
       "    <tr>\n",
       "      <th>11</th>\n",
       "      <td>cada</td>\n",
       "      <td>7</td>\n",
       "    </tr>\n",
       "    <tr>\n",
       "      <th>12</th>\n",
       "      <td>mundo</td>\n",
       "      <td>7</td>\n",
       "    </tr>\n",
       "    <tr>\n",
       "      <th>13</th>\n",
       "      <td>corazón</td>\n",
       "      <td>6</td>\n",
       "    </tr>\n",
       "    <tr>\n",
       "      <th>14</th>\n",
       "      <td>silencio</td>\n",
       "      <td>6</td>\n",
       "    </tr>\n",
       "  </tbody>\n",
       "</table>\n",
       "</div>"
      ],
      "text/plain": [
       "        Word  Frequency\n",
       "0         si         18\n",
       "1         La         17\n",
       "2         El         12\n",
       "3       años         11\n",
       "4      nunca         10\n",
       "5         No         10\n",
       "6         va         10\n",
       "7        día          9\n",
       "8       casa          9\n",
       "9      madre          8\n",
       "10        Me          8\n",
       "11      cada          7\n",
       "12     mundo          7\n",
       "13   corazón          6\n",
       "14  silencio          6"
      ]
     },
     "execution_count": 81,
     "metadata": {},
     "output_type": "execute_result"
    }
   ],
   "source": [
    "genericfictionwords.head(15)"
   ]
  },
  {
   "cell_type": "code",
   "execution_count": 82,
   "id": "499e10b7",
   "metadata": {
    "hidden": true
   },
   "outputs": [],
   "source": [
    "# non fiction \n",
    "non_fiction=textanalysis.loc[textanalysis['genre']=='non fiction']"
   ]
  },
  {
   "cell_type": "code",
   "execution_count": 83,
   "id": "25a97a8f",
   "metadata": {
    "hidden": true
   },
   "outputs": [],
   "source": [
    "# split the words\n",
    "f = non_fiction['cleanwords'].str.cat(sep=' ')\n",
    "# tokenise\n",
    "wordstokenise = nltk.tokenize.word_tokenize(f)\n",
    "# count words\n",
    "word_dist = nltk.FreqDist(wordstokenise)"
   ]
  },
  {
   "cell_type": "code",
   "execution_count": 84,
   "id": "0be751aa",
   "metadata": {
    "hidden": true
   },
   "outputs": [
    {
     "data": {
      "text/plain": [
       "FreqDist({'si': 4, 'solo': 4, 'En': 4, 'La': 3, 'años': 3, 'Si': 3, 'tiempo': 3, 'va': 3, 'recuerda': 2, 'pasado': 2, ...})"
      ]
     },
     "execution_count": 84,
     "metadata": {},
     "output_type": "execute_result"
    }
   ],
   "source": [
    "word_dist"
   ]
  },
  {
   "cell_type": "code",
   "execution_count": 85,
   "id": "3cf526c1",
   "metadata": {
    "hidden": true
   },
   "outputs": [],
   "source": [
    "#create a dataframe \n",
    "nonfictionwords = pd.DataFrame(word_dist.most_common(15),columns=['Word', 'Frequency'])"
   ]
  },
  {
   "cell_type": "code",
   "execution_count": 86,
   "id": "8bacebbd",
   "metadata": {
    "hidden": true
   },
   "outputs": [
    {
     "data": {
      "text/html": [
       "<div>\n",
       "<style scoped>\n",
       "    .dataframe tbody tr th:only-of-type {\n",
       "        vertical-align: middle;\n",
       "    }\n",
       "\n",
       "    .dataframe tbody tr th {\n",
       "        vertical-align: top;\n",
       "    }\n",
       "\n",
       "    .dataframe thead th {\n",
       "        text-align: right;\n",
       "    }\n",
       "</style>\n",
       "<table border=\"1\" class=\"dataframe\">\n",
       "  <thead>\n",
       "    <tr style=\"text-align: right;\">\n",
       "      <th></th>\n",
       "      <th>Word</th>\n",
       "      <th>Frequency</th>\n",
       "    </tr>\n",
       "  </thead>\n",
       "  <tbody>\n",
       "    <tr>\n",
       "      <th>0</th>\n",
       "      <td>si</td>\n",
       "      <td>4</td>\n",
       "    </tr>\n",
       "    <tr>\n",
       "      <th>1</th>\n",
       "      <td>solo</td>\n",
       "      <td>4</td>\n",
       "    </tr>\n",
       "    <tr>\n",
       "      <th>2</th>\n",
       "      <td>En</td>\n",
       "      <td>4</td>\n",
       "    </tr>\n",
       "    <tr>\n",
       "      <th>3</th>\n",
       "      <td>La</td>\n",
       "      <td>3</td>\n",
       "    </tr>\n",
       "    <tr>\n",
       "      <th>4</th>\n",
       "      <td>años</td>\n",
       "      <td>3</td>\n",
       "    </tr>\n",
       "    <tr>\n",
       "      <th>5</th>\n",
       "      <td>Si</td>\n",
       "      <td>3</td>\n",
       "    </tr>\n",
       "    <tr>\n",
       "      <th>6</th>\n",
       "      <td>tiempo</td>\n",
       "      <td>3</td>\n",
       "    </tr>\n",
       "    <tr>\n",
       "      <th>7</th>\n",
       "      <td>va</td>\n",
       "      <td>3</td>\n",
       "    </tr>\n",
       "    <tr>\n",
       "      <th>8</th>\n",
       "      <td>recuerda</td>\n",
       "      <td>2</td>\n",
       "    </tr>\n",
       "    <tr>\n",
       "      <th>9</th>\n",
       "      <td>pasado</td>\n",
       "      <td>2</td>\n",
       "    </tr>\n",
       "    <tr>\n",
       "      <th>10</th>\n",
       "      <td>género</td>\n",
       "      <td>2</td>\n",
       "    </tr>\n",
       "    <tr>\n",
       "      <th>11</th>\n",
       "      <td>menos</td>\n",
       "      <td>2</td>\n",
       "    </tr>\n",
       "    <tr>\n",
       "      <th>12</th>\n",
       "      <td>muerte</td>\n",
       "      <td>2</td>\n",
       "    </tr>\n",
       "    <tr>\n",
       "      <th>13</th>\n",
       "      <td>nadie</td>\n",
       "      <td>2</td>\n",
       "    </tr>\n",
       "    <tr>\n",
       "      <th>14</th>\n",
       "      <td>hacia</td>\n",
       "      <td>2</td>\n",
       "    </tr>\n",
       "  </tbody>\n",
       "</table>\n",
       "</div>"
      ],
      "text/plain": [
       "        Word  Frequency\n",
       "0         si          4\n",
       "1       solo          4\n",
       "2         En          4\n",
       "3         La          3\n",
       "4       años          3\n",
       "5         Si          3\n",
       "6     tiempo          3\n",
       "7         va          3\n",
       "8   recuerda          2\n",
       "9     pasado          2\n",
       "10    género          2\n",
       "11     menos          2\n",
       "12    muerte          2\n",
       "13     nadie          2\n",
       "14     hacia          2"
      ]
     },
     "execution_count": 86,
     "metadata": {},
     "output_type": "execute_result"
    }
   ],
   "source": [
    "nonfictionwords.head(15)"
   ]
  },
  {
   "cell_type": "code",
   "execution_count": 87,
   "id": "234f4943",
   "metadata": {
    "hidden": true
   },
   "outputs": [],
   "source": [
    "# historical\n",
    "historical=textanalysis.loc[textanalysis['genre']=='historical']"
   ]
  },
  {
   "cell_type": "code",
   "execution_count": 88,
   "id": "6f10fc31",
   "metadata": {
    "hidden": true
   },
   "outputs": [],
   "source": [
    "# split the words\n",
    "h = historical['cleanwords'].str.cat(sep=' ')\n",
    "# tokenise\n",
    "wordstokenise = nltk.tokenize.word_tokenize(h)\n",
    "# count words\n",
    "word_dist = nltk.FreqDist(wordstokenise)"
   ]
  },
  {
   "cell_type": "code",
   "execution_count": 89,
   "id": "945368fc",
   "metadata": {
    "hidden": true
   },
   "outputs": [
    {
     "data": {
      "text/plain": [
       "FreqDist({'El': 6, 'vida': 3, 'viviré': 3, 'ti': 3, 'pasado': 3, 'rostro': 3, 'padre': 3, 'En': 2, 'si': 2, 'holocausto': 2, ...})"
      ]
     },
     "execution_count": 89,
     "metadata": {},
     "output_type": "execute_result"
    }
   ],
   "source": [
    "word_dist"
   ]
  },
  {
   "cell_type": "code",
   "execution_count": 90,
   "id": "0f3c68f1",
   "metadata": {
    "hidden": true
   },
   "outputs": [],
   "source": [
    "#create a dataframe \n",
    "historicalwords = pd.DataFrame(word_dist.most_common(15),columns=['Word', 'Frequency'])"
   ]
  },
  {
   "cell_type": "code",
   "execution_count": 91,
   "id": "e049f876",
   "metadata": {
    "hidden": true
   },
   "outputs": [
    {
     "data": {
      "text/html": [
       "<div>\n",
       "<style scoped>\n",
       "    .dataframe tbody tr th:only-of-type {\n",
       "        vertical-align: middle;\n",
       "    }\n",
       "\n",
       "    .dataframe tbody tr th {\n",
       "        vertical-align: top;\n",
       "    }\n",
       "\n",
       "    .dataframe thead th {\n",
       "        text-align: right;\n",
       "    }\n",
       "</style>\n",
       "<table border=\"1\" class=\"dataframe\">\n",
       "  <thead>\n",
       "    <tr style=\"text-align: right;\">\n",
       "      <th></th>\n",
       "      <th>Word</th>\n",
       "      <th>Frequency</th>\n",
       "    </tr>\n",
       "  </thead>\n",
       "  <tbody>\n",
       "    <tr>\n",
       "      <th>0</th>\n",
       "      <td>El</td>\n",
       "      <td>6</td>\n",
       "    </tr>\n",
       "    <tr>\n",
       "      <th>1</th>\n",
       "      <td>vida</td>\n",
       "      <td>3</td>\n",
       "    </tr>\n",
       "    <tr>\n",
       "      <th>2</th>\n",
       "      <td>viviré</td>\n",
       "      <td>3</td>\n",
       "    </tr>\n",
       "    <tr>\n",
       "      <th>3</th>\n",
       "      <td>ti</td>\n",
       "      <td>3</td>\n",
       "    </tr>\n",
       "    <tr>\n",
       "      <th>4</th>\n",
       "      <td>pasado</td>\n",
       "      <td>3</td>\n",
       "    </tr>\n",
       "    <tr>\n",
       "      <th>5</th>\n",
       "      <td>rostro</td>\n",
       "      <td>3</td>\n",
       "    </tr>\n",
       "    <tr>\n",
       "      <th>6</th>\n",
       "      <td>padre</td>\n",
       "      <td>3</td>\n",
       "    </tr>\n",
       "    <tr>\n",
       "      <th>7</th>\n",
       "      <td>En</td>\n",
       "      <td>2</td>\n",
       "    </tr>\n",
       "    <tr>\n",
       "      <th>8</th>\n",
       "      <td>si</td>\n",
       "      <td>2</td>\n",
       "    </tr>\n",
       "    <tr>\n",
       "      <th>9</th>\n",
       "      <td>holocausto</td>\n",
       "      <td>2</td>\n",
       "    </tr>\n",
       "    <tr>\n",
       "      <th>10</th>\n",
       "      <td>gente</td>\n",
       "      <td>2</td>\n",
       "    </tr>\n",
       "    <tr>\n",
       "      <th>11</th>\n",
       "      <td>Los</td>\n",
       "      <td>2</td>\n",
       "    </tr>\n",
       "    <tr>\n",
       "      <th>12</th>\n",
       "      <td>tierra</td>\n",
       "      <td>2</td>\n",
       "    </tr>\n",
       "    <tr>\n",
       "      <th>13</th>\n",
       "      <td>Yo</td>\n",
       "      <td>2</td>\n",
       "    </tr>\n",
       "    <tr>\n",
       "      <th>14</th>\n",
       "      <td>No</td>\n",
       "      <td>2</td>\n",
       "    </tr>\n",
       "  </tbody>\n",
       "</table>\n",
       "</div>"
      ],
      "text/plain": [
       "          Word  Frequency\n",
       "0           El          6\n",
       "1         vida          3\n",
       "2       viviré          3\n",
       "3           ti          3\n",
       "4       pasado          3\n",
       "5       rostro          3\n",
       "6        padre          3\n",
       "7           En          2\n",
       "8           si          2\n",
       "9   holocausto          2\n",
       "10       gente          2\n",
       "11         Los          2\n",
       "12      tierra          2\n",
       "13          Yo          2\n",
       "14          No          2"
      ]
     },
     "execution_count": 91,
     "metadata": {},
     "output_type": "execute_result"
    }
   ],
   "source": [
    "historicalwords.head(15)"
   ]
  },
  {
   "cell_type": "code",
   "execution_count": 92,
   "id": "bb5211f3",
   "metadata": {
    "hidden": true
   },
   "outputs": [],
   "source": [
    "# poetry\n",
    "poetry=textanalysis.loc[textanalysis['genre']=='poetry']"
   ]
  },
  {
   "cell_type": "code",
   "execution_count": 93,
   "id": "1106fd24",
   "metadata": {
    "hidden": true
   },
   "outputs": [],
   "source": [
    "# split the words\n",
    "i = poetry['cleanwords'].str.cat(sep=' ')\n",
    "# tokenise\n",
    "wordstokenise = nltk.tokenize.word_tokenize(i)\n",
    "# count words\n",
    "word_dist = nltk.FreqDist(wordstokenise)"
   ]
  },
  {
   "cell_type": "code",
   "execution_count": 94,
   "id": "e8ebb8d3",
   "metadata": {
    "hidden": true
   },
   "outputs": [
    {
     "data": {
      "text/plain": [
       "FreqDist({'siempre': 3, 'madre': 3, 'No': 2, 'canciones': 2, 'igual': 2, 'pasa': 2, 'personas': 2, 'Y': 2, 'vida': 2, 'Necesito': 2, ...})"
      ]
     },
     "execution_count": 94,
     "metadata": {},
     "output_type": "execute_result"
    }
   ],
   "source": [
    "word_dist"
   ]
  },
  {
   "cell_type": "code",
   "execution_count": 95,
   "id": "6b02206c",
   "metadata": {
    "hidden": true
   },
   "outputs": [],
   "source": [
    "#create a dataframe \n",
    "poetrywords = pd.DataFrame(word_dist.most_common(15),columns=['Word', 'Frequency'])"
   ]
  },
  {
   "cell_type": "code",
   "execution_count": 96,
   "id": "2e5cdc81",
   "metadata": {
    "hidden": true
   },
   "outputs": [
    {
     "data": {
      "text/html": [
       "<div>\n",
       "<style scoped>\n",
       "    .dataframe tbody tr th:only-of-type {\n",
       "        vertical-align: middle;\n",
       "    }\n",
       "\n",
       "    .dataframe tbody tr th {\n",
       "        vertical-align: top;\n",
       "    }\n",
       "\n",
       "    .dataframe thead th {\n",
       "        text-align: right;\n",
       "    }\n",
       "</style>\n",
       "<table border=\"1\" class=\"dataframe\">\n",
       "  <thead>\n",
       "    <tr style=\"text-align: right;\">\n",
       "      <th></th>\n",
       "      <th>Word</th>\n",
       "      <th>Frequency</th>\n",
       "    </tr>\n",
       "  </thead>\n",
       "  <tbody>\n",
       "    <tr>\n",
       "      <th>0</th>\n",
       "      <td>siempre</td>\n",
       "      <td>3</td>\n",
       "    </tr>\n",
       "    <tr>\n",
       "      <th>1</th>\n",
       "      <td>madre</td>\n",
       "      <td>3</td>\n",
       "    </tr>\n",
       "    <tr>\n",
       "      <th>2</th>\n",
       "      <td>No</td>\n",
       "      <td>2</td>\n",
       "    </tr>\n",
       "    <tr>\n",
       "      <th>3</th>\n",
       "      <td>canciones</td>\n",
       "      <td>2</td>\n",
       "    </tr>\n",
       "    <tr>\n",
       "      <th>4</th>\n",
       "      <td>igual</td>\n",
       "      <td>2</td>\n",
       "    </tr>\n",
       "    <tr>\n",
       "      <th>5</th>\n",
       "      <td>pasa</td>\n",
       "      <td>2</td>\n",
       "    </tr>\n",
       "    <tr>\n",
       "      <th>6</th>\n",
       "      <td>personas</td>\n",
       "      <td>2</td>\n",
       "    </tr>\n",
       "    <tr>\n",
       "      <th>7</th>\n",
       "      <td>Y</td>\n",
       "      <td>2</td>\n",
       "    </tr>\n",
       "    <tr>\n",
       "      <th>8</th>\n",
       "      <td>vida</td>\n",
       "      <td>2</td>\n",
       "    </tr>\n",
       "    <tr>\n",
       "      <th>9</th>\n",
       "      <td>Necesito</td>\n",
       "      <td>2</td>\n",
       "    </tr>\n",
       "    <tr>\n",
       "      <th>10</th>\n",
       "      <td>mientras</td>\n",
       "      <td>2</td>\n",
       "    </tr>\n",
       "    <tr>\n",
       "      <th>11</th>\n",
       "      <td>primer</td>\n",
       "      <td>2</td>\n",
       "    </tr>\n",
       "    <tr>\n",
       "      <th>12</th>\n",
       "      <td>chico</td>\n",
       "      <td>2</td>\n",
       "    </tr>\n",
       "    <tr>\n",
       "      <th>13</th>\n",
       "      <td>cuatro</td>\n",
       "      <td>2</td>\n",
       "    </tr>\n",
       "    <tr>\n",
       "      <th>14</th>\n",
       "      <td>mañana</td>\n",
       "      <td>2</td>\n",
       "    </tr>\n",
       "  </tbody>\n",
       "</table>\n",
       "</div>"
      ],
      "text/plain": [
       "         Word  Frequency\n",
       "0     siempre          3\n",
       "1       madre          3\n",
       "2          No          2\n",
       "3   canciones          2\n",
       "4       igual          2\n",
       "5        pasa          2\n",
       "6    personas          2\n",
       "7           Y          2\n",
       "8        vida          2\n",
       "9    Necesito          2\n",
       "10   mientras          2\n",
       "11     primer          2\n",
       "12      chico          2\n",
       "13     cuatro          2\n",
       "14     mañana          2"
      ]
     },
     "execution_count": 96,
     "metadata": {},
     "output_type": "execute_result"
    }
   ],
   "source": [
    "poetrywords.head(15)"
   ]
  },
  {
   "cell_type": "markdown",
   "id": "6af4a358",
   "metadata": {
    "heading_collapsed": true,
    "hidden": true
   },
   "source": [
    "##### Length of the quotes by genre "
   ]
  },
  {
   "cell_type": "code",
   "execution_count": 97,
   "id": "4e2ae3e0",
   "metadata": {
    "hidden": true
   },
   "outputs": [],
   "source": [
    "# we can also look at the length of quotes per genre \n",
    "genre_lengths = textanalysis.groupby(['genre']).agg({'quote_length':'mean'}).sort_values(by='quote_length')"
   ]
  },
  {
   "cell_type": "code",
   "execution_count": 98,
   "id": "be06971e",
   "metadata": {
    "hidden": true
   },
   "outputs": [
    {
     "data": {
      "text/html": [
       "<div>\n",
       "<style scoped>\n",
       "    .dataframe tbody tr th:only-of-type {\n",
       "        vertical-align: middle;\n",
       "    }\n",
       "\n",
       "    .dataframe tbody tr th {\n",
       "        vertical-align: top;\n",
       "    }\n",
       "\n",
       "    .dataframe thead th {\n",
       "        text-align: right;\n",
       "    }\n",
       "</style>\n",
       "<table border=\"1\" class=\"dataframe\">\n",
       "  <thead>\n",
       "    <tr style=\"text-align: right;\">\n",
       "      <th></th>\n",
       "      <th>quote_length</th>\n",
       "    </tr>\n",
       "    <tr>\n",
       "      <th>genre</th>\n",
       "      <th></th>\n",
       "    </tr>\n",
       "  </thead>\n",
       "  <tbody>\n",
       "    <tr>\n",
       "      <th>horror</th>\n",
       "      <td>61.000000</td>\n",
       "    </tr>\n",
       "    <tr>\n",
       "      <th>theater</th>\n",
       "      <td>84.000000</td>\n",
       "    </tr>\n",
       "    <tr>\n",
       "      <th>mystery</th>\n",
       "      <td>122.466667</td>\n",
       "    </tr>\n",
       "    <tr>\n",
       "      <th>thriller</th>\n",
       "      <td>131.682927</td>\n",
       "    </tr>\n",
       "    <tr>\n",
       "      <th>romance</th>\n",
       "      <td>136.081081</td>\n",
       "    </tr>\n",
       "    <tr>\n",
       "      <th>dystopian</th>\n",
       "      <td>148.285714</td>\n",
       "    </tr>\n",
       "    <tr>\n",
       "      <th>science fiction</th>\n",
       "      <td>154.428571</td>\n",
       "    </tr>\n",
       "    <tr>\n",
       "      <th>historical</th>\n",
       "      <td>158.900000</td>\n",
       "    </tr>\n",
       "    <tr>\n",
       "      <th>fantasy</th>\n",
       "      <td>180.951613</td>\n",
       "    </tr>\n",
       "    <tr>\n",
       "      <th>non fiction</th>\n",
       "      <td>197.294118</td>\n",
       "    </tr>\n",
       "    <tr>\n",
       "      <th>generic fiction</th>\n",
       "      <td>220.504587</td>\n",
       "    </tr>\n",
       "    <tr>\n",
       "      <th>poetry</th>\n",
       "      <td>230.555556</td>\n",
       "    </tr>\n",
       "  </tbody>\n",
       "</table>\n",
       "</div>"
      ],
      "text/plain": [
       "                 quote_length\n",
       "genre                        \n",
       "horror              61.000000\n",
       "theater             84.000000\n",
       "mystery            122.466667\n",
       "thriller           131.682927\n",
       "romance            136.081081\n",
       "dystopian          148.285714\n",
       "science fiction    154.428571\n",
       "historical         158.900000\n",
       "fantasy            180.951613\n",
       "non fiction        197.294118\n",
       "generic fiction    220.504587\n",
       "poetry             230.555556"
      ]
     },
     "execution_count": 98,
     "metadata": {},
     "output_type": "execute_result"
    }
   ],
   "source": [
    "genre_lengths"
   ]
  },
  {
   "cell_type": "code",
   "execution_count": null,
   "id": "86933743",
   "metadata": {
    "hidden": true
   },
   "outputs": [],
   "source": []
  },
  {
   "cell_type": "markdown",
   "id": "c7382d20",
   "metadata": {},
   "source": [
    "### Shaping the model for the recommender "
   ]
  },
  {
   "cell_type": "markdown",
   "id": "4b51df55",
   "metadata": {},
   "source": [
    "##### Selecting columns for training the model "
   ]
  },
  {
   "cell_type": "code",
   "execution_count": 99,
   "id": "e5f259ea",
   "metadata": {},
   "outputs": [],
   "source": [
    "# SELECTED COLUMNS FOR THE MODEL (columns that have a limited number of answers)\n",
    "# genre, publication_date, pages, story_length, original_language, setting_time, character_number, character_gender, \n",
    "# character_age, pov, adaptation\n",
    "\n",
    "# OTHER SELECTED COLUMNS BUT NEED MORE ELABORATION (because they have too many answers right now, need to extract info)\n",
    "# subgenre, main_topics (review and feelings here?)\n",
    "\n",
    "\n",
    "# COLUMNS THAT NEED NLP FOR THE MODEL\n",
    "# theme, character_description, quote (review and feelings here?)"
   ]
  },
  {
   "cell_type": "code",
   "execution_count": 100,
   "id": "d6a7ab3b",
   "metadata": {},
   "outputs": [],
   "source": [
    "# NEXT STEPS\n",
    "# transform columns\n",
    "# one hot encoding\n",
    "# kmean, fit, predict, cluster \n",
    "\n",
    "\n",
    "# RECOMMENDER\n",
    "# 1st PART: user questions\n",
    "# 2nd PART: model, predict, cluster"
   ]
  },
  {
   "cell_type": "code",
   "execution_count": 159,
   "id": "2942ef74",
   "metadata": {},
   "outputs": [],
   "source": [
    "data_books = pd.read_excel(\"./data_books.xlsx\")"
   ]
  },
  {
   "cell_type": "markdown",
   "id": "44bc3be1",
   "metadata": {},
   "source": [
    "##### Transforming and encoding "
   ]
  },
  {
   "cell_type": "markdown",
   "id": "a9cd677d",
   "metadata": {},
   "source": [
    "Choose columns setting_time, publication_date and pages for transforming them into fewer answers."
   ]
  },
  {
   "cell_type": "code",
   "execution_count": 160,
   "id": "da133cd5",
   "metadata": {},
   "outputs": [],
   "source": [
    "# setting time\n",
    "def years(x):\n",
    "    if x == \"current time\":\n",
    "        return \"current time\"\n",
    "    elif x == \"ficticious time\":\n",
    "        return \"ficticious time\"\n",
    "    else:\n",
    "        return \"past\"\n",
    "    "
   ]
  },
  {
   "cell_type": "code",
   "execution_count": 161,
   "id": "f74cbc27",
   "metadata": {},
   "outputs": [],
   "source": [
    "data_books[\"time_clean\"] = data_books[\"setting_time\"].apply(lambda x: years(x))"
   ]
  },
  {
   "cell_type": "code",
   "execution_count": 162,
   "id": "a4cd5e46",
   "metadata": {},
   "outputs": [
    {
     "data": {
      "text/html": [
       "<div>\n",
       "<style scoped>\n",
       "    .dataframe tbody tr th:only-of-type {\n",
       "        vertical-align: middle;\n",
       "    }\n",
       "\n",
       "    .dataframe tbody tr th {\n",
       "        vertical-align: top;\n",
       "    }\n",
       "\n",
       "    .dataframe thead th {\n",
       "        text-align: right;\n",
       "    }\n",
       "</style>\n",
       "<table border=\"1\" class=\"dataframe\">\n",
       "  <thead>\n",
       "    <tr style=\"text-align: right;\">\n",
       "      <th></th>\n",
       "      <th>Unnamed: 0</th>\n",
       "      <th>title</th>\n",
       "      <th>author</th>\n",
       "      <th>publishing_house</th>\n",
       "      <th>genre</th>\n",
       "      <th>subgenre</th>\n",
       "      <th>publication_date</th>\n",
       "      <th>pages</th>\n",
       "      <th>edition</th>\n",
       "      <th>story_length</th>\n",
       "      <th>original_language</th>\n",
       "      <th>theme</th>\n",
       "      <th>main_topics</th>\n",
       "      <th>setting_time</th>\n",
       "      <th>setting_place</th>\n",
       "      <th>character_number</th>\n",
       "      <th>character_gender</th>\n",
       "      <th>character_age</th>\n",
       "      <th>character_description</th>\n",
       "      <th>pov</th>\n",
       "      <th>adaptation</th>\n",
       "      <th>review</th>\n",
       "      <th>feelings</th>\n",
       "      <th>quote</th>\n",
       "      <th>time_clean</th>\n",
       "    </tr>\n",
       "  </thead>\n",
       "  <tbody>\n",
       "    <tr>\n",
       "      <th>0</th>\n",
       "      <td>0</td>\n",
       "      <td>Nosotros en la luna</td>\n",
       "      <td>Alice kellen</td>\n",
       "      <td>Planeta</td>\n",
       "      <td>romance</td>\n",
       "      <td>new adult</td>\n",
       "      <td>2020</td>\n",
       "      <td>477</td>\n",
       "      <td>paperback, pocket</td>\n",
       "      <td>standalone</td>\n",
       "      <td>spanish</td>\n",
       "      <td>Una chica que acaba de romper con su novio de ...</td>\n",
       "      <td>friendship, love, goals/dreams, personal growt...</td>\n",
       "      <td>current time</td>\n",
       "      <td>paris, london, ibiza, australia, usa</td>\n",
       "      <td>1 - 3</td>\n",
       "      <td>female</td>\n",
       "      <td>18-30</td>\n",
       "      <td>Ginger empieza siendo una chica insegura, está...</td>\n",
       "      <td>1st multiple</td>\n",
       "      <td>no</td>\n",
       "      <td>i recommend, favourite one, easy to read, cohe...</td>\n",
       "      <td>reflexive, escape from reality, intense emotio...</td>\n",
       "      <td>Es imposible saber cuando conocerás a esa pers...</td>\n",
       "      <td>current time</td>\n",
       "    </tr>\n",
       "    <tr>\n",
       "      <th>1</th>\n",
       "      <td>1</td>\n",
       "      <td>El día que se perdio la cordura</td>\n",
       "      <td>Javier Castillo</td>\n",
       "      <td>Debolsillo</td>\n",
       "      <td>thriller</td>\n",
       "      <td>psychological</td>\n",
       "      <td>2017</td>\n",
       "      <td>456</td>\n",
       "      <td>paperback, pocket</td>\n",
       "      <td>series/saga</td>\n",
       "      <td>spanish</td>\n",
       "      <td>Amor, odio, extrañas prácticas, intriga y acci...</td>\n",
       "      <td>love</td>\n",
       "      <td>1892</td>\n",
       "      <td>uk</td>\n",
       "      <td>4 - 6</td>\n",
       "      <td>male</td>\n",
       "      <td>41-50</td>\n",
       "      <td>Una persona adulta</td>\n",
       "      <td>1st multiple</td>\n",
       "      <td>no</td>\n",
       "      <td>i recommend, favourite one</td>\n",
       "      <td>intense emotions, nervousness, empathy</td>\n",
       "      <td>Todavía no me puedo creer lo que hice anoche, ...</td>\n",
       "      <td>past</td>\n",
       "    </tr>\n",
       "    <tr>\n",
       "      <th>2</th>\n",
       "      <td>2</td>\n",
       "      <td>Dime quién soy</td>\n",
       "      <td>Julia Navarro</td>\n",
       "      <td>Plaza Janes</td>\n",
       "      <td>historical</td>\n",
       "      <td>NaN</td>\n",
       "      <td>2010</td>\n",
       "      <td>1097</td>\n",
       "      <td>paperback, pocket</td>\n",
       "      <td>standalone</td>\n",
       "      <td>spanish</td>\n",
       "      <td>La familia de Amelia Garayoa (bisabuela) quier...</td>\n",
       "      <td>family, love, revenge, pain/trauma, personal g...</td>\n",
       "      <td>1960</td>\n",
       "      <td>spain, paris, buenos aires, moscow, rome, lond...</td>\n",
       "      <td>1 - 3</td>\n",
       "      <td>female</td>\n",
       "      <td>18-30</td>\n",
       "      <td>Valiente pero a la vez insegura. Inmadura en m...</td>\n",
       "      <td>external narrator</td>\n",
       "      <td>yes</td>\n",
       "      <td>i recommend, favourite one, addictive, wonderf...</td>\n",
       "      <td>reflexive, intense emotions, overall good feel...</td>\n",
       "      <td>El despacho de mi tía resultaba agobiante. En ...</td>\n",
       "      <td>past</td>\n",
       "    </tr>\n",
       "  </tbody>\n",
       "</table>\n",
       "</div>"
      ],
      "text/plain": [
       "   Unnamed: 0                            title            author  \\\n",
       "0           0              Nosotros en la luna      Alice kellen   \n",
       "1           1  El día que se perdio la cordura  Javier Castillo    \n",
       "2           2                   Dime quién soy     Julia Navarro   \n",
       "\n",
       "  publishing_house       genre       subgenre  publication_date  pages  \\\n",
       "0          Planeta     romance      new adult              2020    477   \n",
       "1       Debolsillo    thriller  psychological              2017    456   \n",
       "2      Plaza Janes  historical            NaN              2010   1097   \n",
       "\n",
       "             edition story_length original_language  \\\n",
       "0  paperback, pocket   standalone           spanish   \n",
       "1  paperback, pocket  series/saga           spanish   \n",
       "2  paperback, pocket   standalone           spanish   \n",
       "\n",
       "                                               theme  \\\n",
       "0  Una chica que acaba de romper con su novio de ...   \n",
       "1  Amor, odio, extrañas prácticas, intriga y acci...   \n",
       "2  La familia de Amelia Garayoa (bisabuela) quier...   \n",
       "\n",
       "                                         main_topics  setting_time  \\\n",
       "0  friendship, love, goals/dreams, personal growt...  current time   \n",
       "1                                               love          1892   \n",
       "2  family, love, revenge, pain/trauma, personal g...          1960   \n",
       "\n",
       "                                       setting_place character_number  \\\n",
       "0               paris, london, ibiza, australia, usa            1 - 3   \n",
       "1                                                 uk            4 - 6   \n",
       "2  spain, paris, buenos aires, moscow, rome, lond...            1 - 3   \n",
       "\n",
       "  character_gender character_age  \\\n",
       "0           female         18-30   \n",
       "1             male         41-50   \n",
       "2           female         18-30   \n",
       "\n",
       "                               character_description                pov  \\\n",
       "0  Ginger empieza siendo una chica insegura, está...       1st multiple   \n",
       "1                                 Una persona adulta       1st multiple   \n",
       "2  Valiente pero a la vez insegura. Inmadura en m...  external narrator   \n",
       "\n",
       "  adaptation                                             review  \\\n",
       "0         no  i recommend, favourite one, easy to read, cohe...   \n",
       "1         no                         i recommend, favourite one   \n",
       "2        yes  i recommend, favourite one, addictive, wonderf...   \n",
       "\n",
       "                                            feelings  \\\n",
       "0  reflexive, escape from reality, intense emotio...   \n",
       "1             intense emotions, nervousness, empathy   \n",
       "2  reflexive, intense emotions, overall good feel...   \n",
       "\n",
       "                                               quote    time_clean  \n",
       "0  Es imposible saber cuando conocerás a esa pers...  current time  \n",
       "1  Todavía no me puedo creer lo que hice anoche, ...          past  \n",
       "2  El despacho de mi tía resultaba agobiante. En ...          past  "
      ]
     },
     "execution_count": 162,
     "metadata": {},
     "output_type": "execute_result"
    }
   ],
   "source": [
    "data_books.head(3)"
   ]
  },
  {
   "cell_type": "code",
   "execution_count": 163,
   "id": "85fa7509",
   "metadata": {},
   "outputs": [],
   "source": [
    "# publication date\n",
    "def pub_date(x):\n",
    "    if x in range(2019,2023):\n",
    "        return \"hot books\"\n",
    "    elif x in range(2000,2019):\n",
    "        return \"last years\"\n",
    "    elif x in range(1900,2000):\n",
    "        return \"past decades\"\n",
    "    else:\n",
    "        return \"past centuries\""
   ]
  },
  {
   "cell_type": "code",
   "execution_count": 164,
   "id": "47642d2a",
   "metadata": {},
   "outputs": [],
   "source": [
    "data_books['publication_date_clean'] = data_books[\"publication_date\"].apply(lambda x: pub_date(x))"
   ]
  },
  {
   "cell_type": "code",
   "execution_count": 165,
   "id": "4e2aa44b",
   "metadata": {
    "scrolled": true
   },
   "outputs": [
    {
     "data": {
      "text/html": [
       "<div>\n",
       "<style scoped>\n",
       "    .dataframe tbody tr th:only-of-type {\n",
       "        vertical-align: middle;\n",
       "    }\n",
       "\n",
       "    .dataframe tbody tr th {\n",
       "        vertical-align: top;\n",
       "    }\n",
       "\n",
       "    .dataframe thead th {\n",
       "        text-align: right;\n",
       "    }\n",
       "</style>\n",
       "<table border=\"1\" class=\"dataframe\">\n",
       "  <thead>\n",
       "    <tr style=\"text-align: right;\">\n",
       "      <th></th>\n",
       "      <th>Unnamed: 0</th>\n",
       "      <th>title</th>\n",
       "      <th>author</th>\n",
       "      <th>publishing_house</th>\n",
       "      <th>genre</th>\n",
       "      <th>subgenre</th>\n",
       "      <th>publication_date</th>\n",
       "      <th>pages</th>\n",
       "      <th>edition</th>\n",
       "      <th>story_length</th>\n",
       "      <th>original_language</th>\n",
       "      <th>theme</th>\n",
       "      <th>main_topics</th>\n",
       "      <th>setting_time</th>\n",
       "      <th>setting_place</th>\n",
       "      <th>character_number</th>\n",
       "      <th>character_gender</th>\n",
       "      <th>character_age</th>\n",
       "      <th>character_description</th>\n",
       "      <th>pov</th>\n",
       "      <th>adaptation</th>\n",
       "      <th>review</th>\n",
       "      <th>feelings</th>\n",
       "      <th>quote</th>\n",
       "      <th>time_clean</th>\n",
       "      <th>publication_date_clean</th>\n",
       "    </tr>\n",
       "  </thead>\n",
       "  <tbody>\n",
       "    <tr>\n",
       "      <th>0</th>\n",
       "      <td>0</td>\n",
       "      <td>Nosotros en la luna</td>\n",
       "      <td>Alice kellen</td>\n",
       "      <td>Planeta</td>\n",
       "      <td>romance</td>\n",
       "      <td>new adult</td>\n",
       "      <td>2020</td>\n",
       "      <td>477</td>\n",
       "      <td>paperback, pocket</td>\n",
       "      <td>standalone</td>\n",
       "      <td>spanish</td>\n",
       "      <td>Una chica que acaba de romper con su novio de ...</td>\n",
       "      <td>friendship, love, goals/dreams, personal growt...</td>\n",
       "      <td>current time</td>\n",
       "      <td>paris, london, ibiza, australia, usa</td>\n",
       "      <td>1 - 3</td>\n",
       "      <td>female</td>\n",
       "      <td>18-30</td>\n",
       "      <td>Ginger empieza siendo una chica insegura, está...</td>\n",
       "      <td>1st multiple</td>\n",
       "      <td>no</td>\n",
       "      <td>i recommend, favourite one, easy to read, cohe...</td>\n",
       "      <td>reflexive, escape from reality, intense emotio...</td>\n",
       "      <td>Es imposible saber cuando conocerás a esa pers...</td>\n",
       "      <td>current time</td>\n",
       "      <td>hot books</td>\n",
       "    </tr>\n",
       "    <tr>\n",
       "      <th>1</th>\n",
       "      <td>1</td>\n",
       "      <td>El día que se perdio la cordura</td>\n",
       "      <td>Javier Castillo</td>\n",
       "      <td>Debolsillo</td>\n",
       "      <td>thriller</td>\n",
       "      <td>psychological</td>\n",
       "      <td>2017</td>\n",
       "      <td>456</td>\n",
       "      <td>paperback, pocket</td>\n",
       "      <td>series/saga</td>\n",
       "      <td>spanish</td>\n",
       "      <td>Amor, odio, extrañas prácticas, intriga y acci...</td>\n",
       "      <td>love</td>\n",
       "      <td>1892</td>\n",
       "      <td>uk</td>\n",
       "      <td>4 - 6</td>\n",
       "      <td>male</td>\n",
       "      <td>41-50</td>\n",
       "      <td>Una persona adulta</td>\n",
       "      <td>1st multiple</td>\n",
       "      <td>no</td>\n",
       "      <td>i recommend, favourite one</td>\n",
       "      <td>intense emotions, nervousness, empathy</td>\n",
       "      <td>Todavía no me puedo creer lo que hice anoche, ...</td>\n",
       "      <td>past</td>\n",
       "      <td>last years</td>\n",
       "    </tr>\n",
       "    <tr>\n",
       "      <th>2</th>\n",
       "      <td>2</td>\n",
       "      <td>Dime quién soy</td>\n",
       "      <td>Julia Navarro</td>\n",
       "      <td>Plaza Janes</td>\n",
       "      <td>historical</td>\n",
       "      <td>NaN</td>\n",
       "      <td>2010</td>\n",
       "      <td>1097</td>\n",
       "      <td>paperback, pocket</td>\n",
       "      <td>standalone</td>\n",
       "      <td>spanish</td>\n",
       "      <td>La familia de Amelia Garayoa (bisabuela) quier...</td>\n",
       "      <td>family, love, revenge, pain/trauma, personal g...</td>\n",
       "      <td>1960</td>\n",
       "      <td>spain, paris, buenos aires, moscow, rome, lond...</td>\n",
       "      <td>1 - 3</td>\n",
       "      <td>female</td>\n",
       "      <td>18-30</td>\n",
       "      <td>Valiente pero a la vez insegura. Inmadura en m...</td>\n",
       "      <td>external narrator</td>\n",
       "      <td>yes</td>\n",
       "      <td>i recommend, favourite one, addictive, wonderf...</td>\n",
       "      <td>reflexive, intense emotions, overall good feel...</td>\n",
       "      <td>El despacho de mi tía resultaba agobiante. En ...</td>\n",
       "      <td>past</td>\n",
       "      <td>last years</td>\n",
       "    </tr>\n",
       "  </tbody>\n",
       "</table>\n",
       "</div>"
      ],
      "text/plain": [
       "   Unnamed: 0                            title            author  \\\n",
       "0           0              Nosotros en la luna      Alice kellen   \n",
       "1           1  El día que se perdio la cordura  Javier Castillo    \n",
       "2           2                   Dime quién soy     Julia Navarro   \n",
       "\n",
       "  publishing_house       genre       subgenre  publication_date  pages  \\\n",
       "0          Planeta     romance      new adult              2020    477   \n",
       "1       Debolsillo    thriller  psychological              2017    456   \n",
       "2      Plaza Janes  historical            NaN              2010   1097   \n",
       "\n",
       "             edition story_length original_language  \\\n",
       "0  paperback, pocket   standalone           spanish   \n",
       "1  paperback, pocket  series/saga           spanish   \n",
       "2  paperback, pocket   standalone           spanish   \n",
       "\n",
       "                                               theme  \\\n",
       "0  Una chica que acaba de romper con su novio de ...   \n",
       "1  Amor, odio, extrañas prácticas, intriga y acci...   \n",
       "2  La familia de Amelia Garayoa (bisabuela) quier...   \n",
       "\n",
       "                                         main_topics  setting_time  \\\n",
       "0  friendship, love, goals/dreams, personal growt...  current time   \n",
       "1                                               love          1892   \n",
       "2  family, love, revenge, pain/trauma, personal g...          1960   \n",
       "\n",
       "                                       setting_place character_number  \\\n",
       "0               paris, london, ibiza, australia, usa            1 - 3   \n",
       "1                                                 uk            4 - 6   \n",
       "2  spain, paris, buenos aires, moscow, rome, lond...            1 - 3   \n",
       "\n",
       "  character_gender character_age  \\\n",
       "0           female         18-30   \n",
       "1             male         41-50   \n",
       "2           female         18-30   \n",
       "\n",
       "                               character_description                pov  \\\n",
       "0  Ginger empieza siendo una chica insegura, está...       1st multiple   \n",
       "1                                 Una persona adulta       1st multiple   \n",
       "2  Valiente pero a la vez insegura. Inmadura en m...  external narrator   \n",
       "\n",
       "  adaptation                                             review  \\\n",
       "0         no  i recommend, favourite one, easy to read, cohe...   \n",
       "1         no                         i recommend, favourite one   \n",
       "2        yes  i recommend, favourite one, addictive, wonderf...   \n",
       "\n",
       "                                            feelings  \\\n",
       "0  reflexive, escape from reality, intense emotio...   \n",
       "1             intense emotions, nervousness, empathy   \n",
       "2  reflexive, intense emotions, overall good feel...   \n",
       "\n",
       "                                               quote    time_clean  \\\n",
       "0  Es imposible saber cuando conocerás a esa pers...  current time   \n",
       "1  Todavía no me puedo creer lo que hice anoche, ...          past   \n",
       "2  El despacho de mi tía resultaba agobiante. En ...          past   \n",
       "\n",
       "  publication_date_clean  \n",
       "0              hot books  \n",
       "1             last years  \n",
       "2             last years  "
      ]
     },
     "execution_count": 165,
     "metadata": {},
     "output_type": "execute_result"
    }
   ],
   "source": [
    "data_books.head(3)"
   ]
  },
  {
   "cell_type": "code",
   "execution_count": 166,
   "id": "a306b1b8",
   "metadata": {},
   "outputs": [],
   "source": [
    "# pages\n",
    "def set_pages(x):\n",
    "    if x in range(1,251):\n",
    "        return \"short\"\n",
    "    elif x in range(251,501):\n",
    "        return \"medium\"\n",
    "    else:\n",
    "        return \"long\""
   ]
  },
  {
   "cell_type": "code",
   "execution_count": 167,
   "id": "2c33cadc",
   "metadata": {},
   "outputs": [],
   "source": [
    "data_books['pages_clean'] = data_books[\"pages\"].apply(lambda x: set_pages(x))"
   ]
  },
  {
   "cell_type": "code",
   "execution_count": 168,
   "id": "d799abad",
   "metadata": {},
   "outputs": [
    {
     "data": {
      "text/html": [
       "<div>\n",
       "<style scoped>\n",
       "    .dataframe tbody tr th:only-of-type {\n",
       "        vertical-align: middle;\n",
       "    }\n",
       "\n",
       "    .dataframe tbody tr th {\n",
       "        vertical-align: top;\n",
       "    }\n",
       "\n",
       "    .dataframe thead th {\n",
       "        text-align: right;\n",
       "    }\n",
       "</style>\n",
       "<table border=\"1\" class=\"dataframe\">\n",
       "  <thead>\n",
       "    <tr style=\"text-align: right;\">\n",
       "      <th></th>\n",
       "      <th>Unnamed: 0</th>\n",
       "      <th>title</th>\n",
       "      <th>author</th>\n",
       "      <th>publishing_house</th>\n",
       "      <th>genre</th>\n",
       "      <th>subgenre</th>\n",
       "      <th>publication_date</th>\n",
       "      <th>pages</th>\n",
       "      <th>edition</th>\n",
       "      <th>story_length</th>\n",
       "      <th>original_language</th>\n",
       "      <th>theme</th>\n",
       "      <th>main_topics</th>\n",
       "      <th>setting_time</th>\n",
       "      <th>setting_place</th>\n",
       "      <th>character_number</th>\n",
       "      <th>character_gender</th>\n",
       "      <th>character_age</th>\n",
       "      <th>character_description</th>\n",
       "      <th>pov</th>\n",
       "      <th>adaptation</th>\n",
       "      <th>review</th>\n",
       "      <th>feelings</th>\n",
       "      <th>quote</th>\n",
       "      <th>time_clean</th>\n",
       "      <th>publication_date_clean</th>\n",
       "      <th>pages_clean</th>\n",
       "    </tr>\n",
       "  </thead>\n",
       "  <tbody>\n",
       "    <tr>\n",
       "      <th>0</th>\n",
       "      <td>0</td>\n",
       "      <td>Nosotros en la luna</td>\n",
       "      <td>Alice kellen</td>\n",
       "      <td>Planeta</td>\n",
       "      <td>romance</td>\n",
       "      <td>new adult</td>\n",
       "      <td>2020</td>\n",
       "      <td>477</td>\n",
       "      <td>paperback, pocket</td>\n",
       "      <td>standalone</td>\n",
       "      <td>spanish</td>\n",
       "      <td>Una chica que acaba de romper con su novio de ...</td>\n",
       "      <td>friendship, love, goals/dreams, personal growt...</td>\n",
       "      <td>current time</td>\n",
       "      <td>paris, london, ibiza, australia, usa</td>\n",
       "      <td>1 - 3</td>\n",
       "      <td>female</td>\n",
       "      <td>18-30</td>\n",
       "      <td>Ginger empieza siendo una chica insegura, está...</td>\n",
       "      <td>1st multiple</td>\n",
       "      <td>no</td>\n",
       "      <td>i recommend, favourite one, easy to read, cohe...</td>\n",
       "      <td>reflexive, escape from reality, intense emotio...</td>\n",
       "      <td>Es imposible saber cuando conocerás a esa pers...</td>\n",
       "      <td>current time</td>\n",
       "      <td>hot books</td>\n",
       "      <td>medium</td>\n",
       "    </tr>\n",
       "    <tr>\n",
       "      <th>1</th>\n",
       "      <td>1</td>\n",
       "      <td>El día que se perdio la cordura</td>\n",
       "      <td>Javier Castillo</td>\n",
       "      <td>Debolsillo</td>\n",
       "      <td>thriller</td>\n",
       "      <td>psychological</td>\n",
       "      <td>2017</td>\n",
       "      <td>456</td>\n",
       "      <td>paperback, pocket</td>\n",
       "      <td>series/saga</td>\n",
       "      <td>spanish</td>\n",
       "      <td>Amor, odio, extrañas prácticas, intriga y acci...</td>\n",
       "      <td>love</td>\n",
       "      <td>1892</td>\n",
       "      <td>uk</td>\n",
       "      <td>4 - 6</td>\n",
       "      <td>male</td>\n",
       "      <td>41-50</td>\n",
       "      <td>Una persona adulta</td>\n",
       "      <td>1st multiple</td>\n",
       "      <td>no</td>\n",
       "      <td>i recommend, favourite one</td>\n",
       "      <td>intense emotions, nervousness, empathy</td>\n",
       "      <td>Todavía no me puedo creer lo que hice anoche, ...</td>\n",
       "      <td>past</td>\n",
       "      <td>last years</td>\n",
       "      <td>medium</td>\n",
       "    </tr>\n",
       "    <tr>\n",
       "      <th>2</th>\n",
       "      <td>2</td>\n",
       "      <td>Dime quién soy</td>\n",
       "      <td>Julia Navarro</td>\n",
       "      <td>Plaza Janes</td>\n",
       "      <td>historical</td>\n",
       "      <td>NaN</td>\n",
       "      <td>2010</td>\n",
       "      <td>1097</td>\n",
       "      <td>paperback, pocket</td>\n",
       "      <td>standalone</td>\n",
       "      <td>spanish</td>\n",
       "      <td>La familia de Amelia Garayoa (bisabuela) quier...</td>\n",
       "      <td>family, love, revenge, pain/trauma, personal g...</td>\n",
       "      <td>1960</td>\n",
       "      <td>spain, paris, buenos aires, moscow, rome, lond...</td>\n",
       "      <td>1 - 3</td>\n",
       "      <td>female</td>\n",
       "      <td>18-30</td>\n",
       "      <td>Valiente pero a la vez insegura. Inmadura en m...</td>\n",
       "      <td>external narrator</td>\n",
       "      <td>yes</td>\n",
       "      <td>i recommend, favourite one, addictive, wonderf...</td>\n",
       "      <td>reflexive, intense emotions, overall good feel...</td>\n",
       "      <td>El despacho de mi tía resultaba agobiante. En ...</td>\n",
       "      <td>past</td>\n",
       "      <td>last years</td>\n",
       "      <td>long</td>\n",
       "    </tr>\n",
       "  </tbody>\n",
       "</table>\n",
       "</div>"
      ],
      "text/plain": [
       "   Unnamed: 0                            title            author  \\\n",
       "0           0              Nosotros en la luna      Alice kellen   \n",
       "1           1  El día que se perdio la cordura  Javier Castillo    \n",
       "2           2                   Dime quién soy     Julia Navarro   \n",
       "\n",
       "  publishing_house       genre       subgenre  publication_date  pages  \\\n",
       "0          Planeta     romance      new adult              2020    477   \n",
       "1       Debolsillo    thriller  psychological              2017    456   \n",
       "2      Plaza Janes  historical            NaN              2010   1097   \n",
       "\n",
       "             edition story_length original_language  \\\n",
       "0  paperback, pocket   standalone           spanish   \n",
       "1  paperback, pocket  series/saga           spanish   \n",
       "2  paperback, pocket   standalone           spanish   \n",
       "\n",
       "                                               theme  \\\n",
       "0  Una chica que acaba de romper con su novio de ...   \n",
       "1  Amor, odio, extrañas prácticas, intriga y acci...   \n",
       "2  La familia de Amelia Garayoa (bisabuela) quier...   \n",
       "\n",
       "                                         main_topics  setting_time  \\\n",
       "0  friendship, love, goals/dreams, personal growt...  current time   \n",
       "1                                               love          1892   \n",
       "2  family, love, revenge, pain/trauma, personal g...          1960   \n",
       "\n",
       "                                       setting_place character_number  \\\n",
       "0               paris, london, ibiza, australia, usa            1 - 3   \n",
       "1                                                 uk            4 - 6   \n",
       "2  spain, paris, buenos aires, moscow, rome, lond...            1 - 3   \n",
       "\n",
       "  character_gender character_age  \\\n",
       "0           female         18-30   \n",
       "1             male         41-50   \n",
       "2           female         18-30   \n",
       "\n",
       "                               character_description                pov  \\\n",
       "0  Ginger empieza siendo una chica insegura, está...       1st multiple   \n",
       "1                                 Una persona adulta       1st multiple   \n",
       "2  Valiente pero a la vez insegura. Inmadura en m...  external narrator   \n",
       "\n",
       "  adaptation                                             review  \\\n",
       "0         no  i recommend, favourite one, easy to read, cohe...   \n",
       "1         no                         i recommend, favourite one   \n",
       "2        yes  i recommend, favourite one, addictive, wonderf...   \n",
       "\n",
       "                                            feelings  \\\n",
       "0  reflexive, escape from reality, intense emotio...   \n",
       "1             intense emotions, nervousness, empathy   \n",
       "2  reflexive, intense emotions, overall good feel...   \n",
       "\n",
       "                                               quote    time_clean  \\\n",
       "0  Es imposible saber cuando conocerás a esa pers...  current time   \n",
       "1  Todavía no me puedo creer lo que hice anoche, ...          past   \n",
       "2  El despacho de mi tía resultaba agobiante. En ...          past   \n",
       "\n",
       "  publication_date_clean pages_clean  \n",
       "0              hot books      medium  \n",
       "1             last years      medium  \n",
       "2             last years        long  "
      ]
     },
     "execution_count": 168,
     "metadata": {},
     "output_type": "execute_result"
    }
   ],
   "source": [
    "data_books.head(3)"
   ]
  },
  {
   "cell_type": "markdown",
   "id": "f73bcbff",
   "metadata": {},
   "source": [
    "##### OneHotEncoding for columns selected "
   ]
  },
  {
   "cell_type": "code",
   "execution_count": 169,
   "id": "c4efc216",
   "metadata": {},
   "outputs": [],
   "source": [
    "# deleting \"pages_clean\" from the X \n",
    "# because an error raises related to this column in the final code but can not find why"
   ]
  },
  {
   "cell_type": "code",
   "execution_count": 170,
   "id": "b2504531",
   "metadata": {},
   "outputs": [],
   "source": [
    "X = data_books[[\"genre\", \"publication_date_clean\",\"time_clean\", \"story_length\", \"original_language\", \"character_number\", \"character_gender\", \"character_age\", \"pov\", \"adaptation\"]]"
   ]
  },
  {
   "cell_type": "code",
   "execution_count": 171,
   "id": "f908a3ee",
   "metadata": {},
   "outputs": [
    {
     "data": {
      "text/html": [
       "<div>\n",
       "<style scoped>\n",
       "    .dataframe tbody tr th:only-of-type {\n",
       "        vertical-align: middle;\n",
       "    }\n",
       "\n",
       "    .dataframe tbody tr th {\n",
       "        vertical-align: top;\n",
       "    }\n",
       "\n",
       "    .dataframe thead th {\n",
       "        text-align: right;\n",
       "    }\n",
       "</style>\n",
       "<table border=\"1\" class=\"dataframe\">\n",
       "  <thead>\n",
       "    <tr style=\"text-align: right;\">\n",
       "      <th></th>\n",
       "      <th>genre</th>\n",
       "      <th>publication_date_clean</th>\n",
       "      <th>time_clean</th>\n",
       "      <th>story_length</th>\n",
       "      <th>original_language</th>\n",
       "      <th>character_number</th>\n",
       "      <th>character_gender</th>\n",
       "      <th>character_age</th>\n",
       "      <th>pov</th>\n",
       "      <th>adaptation</th>\n",
       "    </tr>\n",
       "  </thead>\n",
       "  <tbody>\n",
       "    <tr>\n",
       "      <th>0</th>\n",
       "      <td>romance</td>\n",
       "      <td>hot books</td>\n",
       "      <td>current time</td>\n",
       "      <td>standalone</td>\n",
       "      <td>spanish</td>\n",
       "      <td>1 - 3</td>\n",
       "      <td>female</td>\n",
       "      <td>18-30</td>\n",
       "      <td>1st multiple</td>\n",
       "      <td>no</td>\n",
       "    </tr>\n",
       "    <tr>\n",
       "      <th>1</th>\n",
       "      <td>thriller</td>\n",
       "      <td>last years</td>\n",
       "      <td>past</td>\n",
       "      <td>series/saga</td>\n",
       "      <td>spanish</td>\n",
       "      <td>4 - 6</td>\n",
       "      <td>male</td>\n",
       "      <td>41-50</td>\n",
       "      <td>1st multiple</td>\n",
       "      <td>no</td>\n",
       "    </tr>\n",
       "  </tbody>\n",
       "</table>\n",
       "</div>"
      ],
      "text/plain": [
       "      genre publication_date_clean    time_clean story_length  \\\n",
       "0   romance              hot books  current time   standalone   \n",
       "1  thriller             last years          past  series/saga   \n",
       "\n",
       "  original_language character_number character_gender character_age  \\\n",
       "0           spanish            1 - 3           female         18-30   \n",
       "1           spanish            4 - 6             male         41-50   \n",
       "\n",
       "            pov adaptation  \n",
       "0  1st multiple         no  \n",
       "1  1st multiple         no  "
      ]
     },
     "execution_count": 171,
     "metadata": {},
     "output_type": "execute_result"
    }
   ],
   "source": [
    "X.head(2)"
   ]
  },
  {
   "cell_type": "code",
   "execution_count": 172,
   "id": "358717cd",
   "metadata": {},
   "outputs": [],
   "source": [
    "enc = OneHotEncoder()"
   ]
  },
  {
   "cell_type": "code",
   "execution_count": 173,
   "id": "66b7f0c4",
   "metadata": {},
   "outputs": [
    {
     "data": {
      "text/plain": [
       "OneHotEncoder()"
      ]
     },
     "execution_count": 173,
     "metadata": {},
     "output_type": "execute_result"
    }
   ],
   "source": [
    "enc.fit(X)"
   ]
  },
  {
   "cell_type": "code",
   "execution_count": 174,
   "id": "79e79f0f",
   "metadata": {},
   "outputs": [],
   "source": [
    "X_encoded = enc.transform(X).toarray()"
   ]
  },
  {
   "cell_type": "code",
   "execution_count": 175,
   "id": "9e8ffcc7",
   "metadata": {},
   "outputs": [
    {
     "data": {
      "text/plain": [
       "array(['x0_dystopian', 'x0_fantasy', 'x0_generic fiction',\n",
       "       'x0_historical', 'x0_horror', 'x0_mystery', 'x0_non fiction',\n",
       "       'x0_poetry', 'x0_romance', 'x0_science fiction', 'x0_theater',\n",
       "       'x0_thriller', 'x1_hot books', 'x1_last years',\n",
       "       'x1_past centuries', 'x1_past decades', 'x2_current time',\n",
       "       'x2_ficticious time', 'x2_past', 'x3_series/saga', 'x3_standalone',\n",
       "       'x4_catalan', 'x4_chinese', 'x4_danish', 'x4_english',\n",
       "       'x4_finnish', 'x4_french', 'x4_german', 'x4_italian ',\n",
       "       'x4_japanese', 'x4_norwegian', 'x4_occitan', 'x4_polish',\n",
       "       'x4_romanian', 'x4_russian', 'x4_spanish', 'x4_swedish', 'x5_+6',\n",
       "       'x5_1 - 3', 'x5_4 - 6', 'x6_female', 'x6_male', 'x6_non-binary',\n",
       "       'x6_non-defined', 'x7_+60', 'x7_0-10', 'x7_11-17', 'x7_18-30',\n",
       "       'x7_31-40', 'x7_41-50', 'x7_51-60', 'x7_immortal',\n",
       "       'x8_1st multiple', 'x8_1st unique', 'x8_external narrator',\n",
       "       \"x8_i don't know\", 'x9_no', 'x9_yes'], dtype=object)"
      ]
     },
     "execution_count": 175,
     "metadata": {},
     "output_type": "execute_result"
    }
   ],
   "source": [
    "enc.get_feature_names()"
   ]
  },
  {
   "cell_type": "code",
   "execution_count": 176,
   "id": "e4b30029",
   "metadata": {},
   "outputs": [],
   "source": [
    "df_encoded = pd.DataFrame(X_encoded, columns = enc.get_feature_names())"
   ]
  },
  {
   "cell_type": "code",
   "execution_count": 177,
   "id": "2c82ba71",
   "metadata": {},
   "outputs": [
    {
     "data": {
      "text/html": [
       "<div>\n",
       "<style scoped>\n",
       "    .dataframe tbody tr th:only-of-type {\n",
       "        vertical-align: middle;\n",
       "    }\n",
       "\n",
       "    .dataframe tbody tr th {\n",
       "        vertical-align: top;\n",
       "    }\n",
       "\n",
       "    .dataframe thead th {\n",
       "        text-align: right;\n",
       "    }\n",
       "</style>\n",
       "<table border=\"1\" class=\"dataframe\">\n",
       "  <thead>\n",
       "    <tr style=\"text-align: right;\">\n",
       "      <th></th>\n",
       "      <th>x0_dystopian</th>\n",
       "      <th>x0_fantasy</th>\n",
       "      <th>x0_generic fiction</th>\n",
       "      <th>x0_historical</th>\n",
       "      <th>x0_horror</th>\n",
       "      <th>x0_mystery</th>\n",
       "      <th>x0_non fiction</th>\n",
       "      <th>x0_poetry</th>\n",
       "      <th>x0_romance</th>\n",
       "      <th>x0_science fiction</th>\n",
       "      <th>x0_theater</th>\n",
       "      <th>x0_thriller</th>\n",
       "      <th>x1_hot books</th>\n",
       "      <th>x1_last years</th>\n",
       "      <th>x1_past centuries</th>\n",
       "      <th>x1_past decades</th>\n",
       "      <th>x2_current time</th>\n",
       "      <th>x2_ficticious time</th>\n",
       "      <th>x2_past</th>\n",
       "      <th>x3_series/saga</th>\n",
       "      <th>x3_standalone</th>\n",
       "      <th>x4_catalan</th>\n",
       "      <th>x4_chinese</th>\n",
       "      <th>x4_danish</th>\n",
       "      <th>x4_english</th>\n",
       "      <th>x4_finnish</th>\n",
       "      <th>x4_french</th>\n",
       "      <th>x4_german</th>\n",
       "      <th>x4_italian</th>\n",
       "      <th>x4_japanese</th>\n",
       "      <th>x4_norwegian</th>\n",
       "      <th>x4_occitan</th>\n",
       "      <th>x4_polish</th>\n",
       "      <th>x4_romanian</th>\n",
       "      <th>x4_russian</th>\n",
       "      <th>x4_spanish</th>\n",
       "      <th>x4_swedish</th>\n",
       "      <th>x5_+6</th>\n",
       "      <th>x5_1 - 3</th>\n",
       "      <th>x5_4 - 6</th>\n",
       "      <th>x6_female</th>\n",
       "      <th>x6_male</th>\n",
       "      <th>x6_non-binary</th>\n",
       "      <th>x6_non-defined</th>\n",
       "      <th>x7_+60</th>\n",
       "      <th>x7_0-10</th>\n",
       "      <th>x7_11-17</th>\n",
       "      <th>x7_18-30</th>\n",
       "      <th>x7_31-40</th>\n",
       "      <th>x7_41-50</th>\n",
       "      <th>x7_51-60</th>\n",
       "      <th>x7_immortal</th>\n",
       "      <th>x8_1st multiple</th>\n",
       "      <th>x8_1st unique</th>\n",
       "      <th>x8_external narrator</th>\n",
       "      <th>x8_i don't know</th>\n",
       "      <th>x9_no</th>\n",
       "      <th>x9_yes</th>\n",
       "    </tr>\n",
       "  </thead>\n",
       "  <tbody>\n",
       "    <tr>\n",
       "      <th>0</th>\n",
       "      <td>0.0</td>\n",
       "      <td>0.0</td>\n",
       "      <td>0.0</td>\n",
       "      <td>0.0</td>\n",
       "      <td>0.0</td>\n",
       "      <td>0.0</td>\n",
       "      <td>0.0</td>\n",
       "      <td>0.0</td>\n",
       "      <td>1.0</td>\n",
       "      <td>0.0</td>\n",
       "      <td>0.0</td>\n",
       "      <td>0.0</td>\n",
       "      <td>1.0</td>\n",
       "      <td>0.0</td>\n",
       "      <td>0.0</td>\n",
       "      <td>0.0</td>\n",
       "      <td>1.0</td>\n",
       "      <td>0.0</td>\n",
       "      <td>0.0</td>\n",
       "      <td>0.0</td>\n",
       "      <td>1.0</td>\n",
       "      <td>0.0</td>\n",
       "      <td>0.0</td>\n",
       "      <td>0.0</td>\n",
       "      <td>0.0</td>\n",
       "      <td>0.0</td>\n",
       "      <td>0.0</td>\n",
       "      <td>0.0</td>\n",
       "      <td>0.0</td>\n",
       "      <td>0.0</td>\n",
       "      <td>0.0</td>\n",
       "      <td>0.0</td>\n",
       "      <td>0.0</td>\n",
       "      <td>0.0</td>\n",
       "      <td>0.0</td>\n",
       "      <td>1.0</td>\n",
       "      <td>0.0</td>\n",
       "      <td>0.0</td>\n",
       "      <td>1.0</td>\n",
       "      <td>0.0</td>\n",
       "      <td>1.0</td>\n",
       "      <td>0.0</td>\n",
       "      <td>0.0</td>\n",
       "      <td>0.0</td>\n",
       "      <td>0.0</td>\n",
       "      <td>0.0</td>\n",
       "      <td>0.0</td>\n",
       "      <td>1.0</td>\n",
       "      <td>0.0</td>\n",
       "      <td>0.0</td>\n",
       "      <td>0.0</td>\n",
       "      <td>0.0</td>\n",
       "      <td>1.0</td>\n",
       "      <td>0.0</td>\n",
       "      <td>0.0</td>\n",
       "      <td>0.0</td>\n",
       "      <td>1.0</td>\n",
       "      <td>0.0</td>\n",
       "    </tr>\n",
       "    <tr>\n",
       "      <th>1</th>\n",
       "      <td>0.0</td>\n",
       "      <td>0.0</td>\n",
       "      <td>0.0</td>\n",
       "      <td>0.0</td>\n",
       "      <td>0.0</td>\n",
       "      <td>0.0</td>\n",
       "      <td>0.0</td>\n",
       "      <td>0.0</td>\n",
       "      <td>0.0</td>\n",
       "      <td>0.0</td>\n",
       "      <td>0.0</td>\n",
       "      <td>1.0</td>\n",
       "      <td>0.0</td>\n",
       "      <td>1.0</td>\n",
       "      <td>0.0</td>\n",
       "      <td>0.0</td>\n",
       "      <td>0.0</td>\n",
       "      <td>0.0</td>\n",
       "      <td>1.0</td>\n",
       "      <td>1.0</td>\n",
       "      <td>0.0</td>\n",
       "      <td>0.0</td>\n",
       "      <td>0.0</td>\n",
       "      <td>0.0</td>\n",
       "      <td>0.0</td>\n",
       "      <td>0.0</td>\n",
       "      <td>0.0</td>\n",
       "      <td>0.0</td>\n",
       "      <td>0.0</td>\n",
       "      <td>0.0</td>\n",
       "      <td>0.0</td>\n",
       "      <td>0.0</td>\n",
       "      <td>0.0</td>\n",
       "      <td>0.0</td>\n",
       "      <td>0.0</td>\n",
       "      <td>1.0</td>\n",
       "      <td>0.0</td>\n",
       "      <td>0.0</td>\n",
       "      <td>0.0</td>\n",
       "      <td>1.0</td>\n",
       "      <td>0.0</td>\n",
       "      <td>1.0</td>\n",
       "      <td>0.0</td>\n",
       "      <td>0.0</td>\n",
       "      <td>0.0</td>\n",
       "      <td>0.0</td>\n",
       "      <td>0.0</td>\n",
       "      <td>0.0</td>\n",
       "      <td>0.0</td>\n",
       "      <td>1.0</td>\n",
       "      <td>0.0</td>\n",
       "      <td>0.0</td>\n",
       "      <td>1.0</td>\n",
       "      <td>0.0</td>\n",
       "      <td>0.0</td>\n",
       "      <td>0.0</td>\n",
       "      <td>1.0</td>\n",
       "      <td>0.0</td>\n",
       "    </tr>\n",
       "    <tr>\n",
       "      <th>2</th>\n",
       "      <td>0.0</td>\n",
       "      <td>0.0</td>\n",
       "      <td>0.0</td>\n",
       "      <td>1.0</td>\n",
       "      <td>0.0</td>\n",
       "      <td>0.0</td>\n",
       "      <td>0.0</td>\n",
       "      <td>0.0</td>\n",
       "      <td>0.0</td>\n",
       "      <td>0.0</td>\n",
       "      <td>0.0</td>\n",
       "      <td>0.0</td>\n",
       "      <td>0.0</td>\n",
       "      <td>1.0</td>\n",
       "      <td>0.0</td>\n",
       "      <td>0.0</td>\n",
       "      <td>0.0</td>\n",
       "      <td>0.0</td>\n",
       "      <td>1.0</td>\n",
       "      <td>0.0</td>\n",
       "      <td>1.0</td>\n",
       "      <td>0.0</td>\n",
       "      <td>0.0</td>\n",
       "      <td>0.0</td>\n",
       "      <td>0.0</td>\n",
       "      <td>0.0</td>\n",
       "      <td>0.0</td>\n",
       "      <td>0.0</td>\n",
       "      <td>0.0</td>\n",
       "      <td>0.0</td>\n",
       "      <td>0.0</td>\n",
       "      <td>0.0</td>\n",
       "      <td>0.0</td>\n",
       "      <td>0.0</td>\n",
       "      <td>0.0</td>\n",
       "      <td>1.0</td>\n",
       "      <td>0.0</td>\n",
       "      <td>0.0</td>\n",
       "      <td>1.0</td>\n",
       "      <td>0.0</td>\n",
       "      <td>1.0</td>\n",
       "      <td>0.0</td>\n",
       "      <td>0.0</td>\n",
       "      <td>0.0</td>\n",
       "      <td>0.0</td>\n",
       "      <td>0.0</td>\n",
       "      <td>0.0</td>\n",
       "      <td>1.0</td>\n",
       "      <td>0.0</td>\n",
       "      <td>0.0</td>\n",
       "      <td>0.0</td>\n",
       "      <td>0.0</td>\n",
       "      <td>0.0</td>\n",
       "      <td>0.0</td>\n",
       "      <td>1.0</td>\n",
       "      <td>0.0</td>\n",
       "      <td>0.0</td>\n",
       "      <td>1.0</td>\n",
       "    </tr>\n",
       "  </tbody>\n",
       "</table>\n",
       "</div>"
      ],
      "text/plain": [
       "   x0_dystopian  x0_fantasy  x0_generic fiction  x0_historical  x0_horror  \\\n",
       "0           0.0         0.0                 0.0            0.0        0.0   \n",
       "1           0.0         0.0                 0.0            0.0        0.0   \n",
       "2           0.0         0.0                 0.0            1.0        0.0   \n",
       "\n",
       "   x0_mystery  x0_non fiction  x0_poetry  x0_romance  x0_science fiction  \\\n",
       "0         0.0             0.0        0.0         1.0                 0.0   \n",
       "1         0.0             0.0        0.0         0.0                 0.0   \n",
       "2         0.0             0.0        0.0         0.0                 0.0   \n",
       "\n",
       "   x0_theater  x0_thriller  x1_hot books  x1_last years  x1_past centuries  \\\n",
       "0         0.0          0.0           1.0            0.0                0.0   \n",
       "1         0.0          1.0           0.0            1.0                0.0   \n",
       "2         0.0          0.0           0.0            1.0                0.0   \n",
       "\n",
       "   x1_past decades  x2_current time  x2_ficticious time  x2_past  \\\n",
       "0              0.0              1.0                 0.0      0.0   \n",
       "1              0.0              0.0                 0.0      1.0   \n",
       "2              0.0              0.0                 0.0      1.0   \n",
       "\n",
       "   x3_series/saga  x3_standalone  x4_catalan  x4_chinese  x4_danish  \\\n",
       "0             0.0            1.0         0.0         0.0        0.0   \n",
       "1             1.0            0.0         0.0         0.0        0.0   \n",
       "2             0.0            1.0         0.0         0.0        0.0   \n",
       "\n",
       "   x4_english  x4_finnish  x4_french  x4_german  x4_italian   x4_japanese  \\\n",
       "0         0.0         0.0        0.0        0.0          0.0          0.0   \n",
       "1         0.0         0.0        0.0        0.0          0.0          0.0   \n",
       "2         0.0         0.0        0.0        0.0          0.0          0.0   \n",
       "\n",
       "   x4_norwegian  x4_occitan  x4_polish  x4_romanian  x4_russian  x4_spanish  \\\n",
       "0           0.0         0.0        0.0          0.0         0.0         1.0   \n",
       "1           0.0         0.0        0.0          0.0         0.0         1.0   \n",
       "2           0.0         0.0        0.0          0.0         0.0         1.0   \n",
       "\n",
       "   x4_swedish  x5_+6  x5_1 - 3  x5_4 - 6  x6_female  x6_male  x6_non-binary  \\\n",
       "0         0.0    0.0       1.0       0.0        1.0      0.0            0.0   \n",
       "1         0.0    0.0       0.0       1.0        0.0      1.0            0.0   \n",
       "2         0.0    0.0       1.0       0.0        1.0      0.0            0.0   \n",
       "\n",
       "   x6_non-defined  x7_+60  x7_0-10  x7_11-17  x7_18-30  x7_31-40  x7_41-50  \\\n",
       "0             0.0     0.0      0.0       0.0       1.0       0.0       0.0   \n",
       "1             0.0     0.0      0.0       0.0       0.0       0.0       1.0   \n",
       "2             0.0     0.0      0.0       0.0       1.0       0.0       0.0   \n",
       "\n",
       "   x7_51-60  x7_immortal  x8_1st multiple  x8_1st unique  \\\n",
       "0       0.0          0.0              1.0            0.0   \n",
       "1       0.0          0.0              1.0            0.0   \n",
       "2       0.0          0.0              0.0            0.0   \n",
       "\n",
       "   x8_external narrator  x8_i don't know  x9_no  x9_yes  \n",
       "0                   0.0              0.0    1.0     0.0  \n",
       "1                   0.0              0.0    1.0     0.0  \n",
       "2                   1.0              0.0    0.0     1.0  "
      ]
     },
     "execution_count": 177,
     "metadata": {},
     "output_type": "execute_result"
    }
   ],
   "source": [
    "df_encoded.head(3)"
   ]
  },
  {
   "cell_type": "code",
   "execution_count": 178,
   "id": "aa7cc505",
   "metadata": {},
   "outputs": [
    {
     "data": {
      "text/plain": [
       "(425, 58)"
      ]
     },
     "execution_count": 178,
     "metadata": {},
     "output_type": "execute_result"
    }
   ],
   "source": [
    "df_encoded.shape"
   ]
  },
  {
   "cell_type": "code",
   "execution_count": 179,
   "id": "4d351f75",
   "metadata": {},
   "outputs": [],
   "source": [
    "data_v1=pd.concat([data_books[\"title\"], df_encoded], axis=1) #, ignore_index=True)"
   ]
  },
  {
   "cell_type": "code",
   "execution_count": 180,
   "id": "529822de",
   "metadata": {},
   "outputs": [
    {
     "data": {
      "text/html": [
       "<div>\n",
       "<style scoped>\n",
       "    .dataframe tbody tr th:only-of-type {\n",
       "        vertical-align: middle;\n",
       "    }\n",
       "\n",
       "    .dataframe tbody tr th {\n",
       "        vertical-align: top;\n",
       "    }\n",
       "\n",
       "    .dataframe thead th {\n",
       "        text-align: right;\n",
       "    }\n",
       "</style>\n",
       "<table border=\"1\" class=\"dataframe\">\n",
       "  <thead>\n",
       "    <tr style=\"text-align: right;\">\n",
       "      <th></th>\n",
       "      <th>title</th>\n",
       "      <th>x0_dystopian</th>\n",
       "      <th>x0_fantasy</th>\n",
       "      <th>x0_generic fiction</th>\n",
       "      <th>x0_historical</th>\n",
       "      <th>x0_horror</th>\n",
       "      <th>x0_mystery</th>\n",
       "      <th>x0_non fiction</th>\n",
       "      <th>x0_poetry</th>\n",
       "      <th>x0_romance</th>\n",
       "      <th>x0_science fiction</th>\n",
       "      <th>x0_theater</th>\n",
       "      <th>x0_thriller</th>\n",
       "      <th>x1_hot books</th>\n",
       "      <th>x1_last years</th>\n",
       "      <th>x1_past centuries</th>\n",
       "      <th>x1_past decades</th>\n",
       "      <th>x2_current time</th>\n",
       "      <th>x2_ficticious time</th>\n",
       "      <th>x2_past</th>\n",
       "      <th>x3_series/saga</th>\n",
       "      <th>x3_standalone</th>\n",
       "      <th>x4_catalan</th>\n",
       "      <th>x4_chinese</th>\n",
       "      <th>x4_danish</th>\n",
       "      <th>x4_english</th>\n",
       "      <th>x4_finnish</th>\n",
       "      <th>x4_french</th>\n",
       "      <th>x4_german</th>\n",
       "      <th>x4_italian</th>\n",
       "      <th>x4_japanese</th>\n",
       "      <th>x4_norwegian</th>\n",
       "      <th>x4_occitan</th>\n",
       "      <th>x4_polish</th>\n",
       "      <th>x4_romanian</th>\n",
       "      <th>x4_russian</th>\n",
       "      <th>x4_spanish</th>\n",
       "      <th>x4_swedish</th>\n",
       "      <th>x5_+6</th>\n",
       "      <th>x5_1 - 3</th>\n",
       "      <th>x5_4 - 6</th>\n",
       "      <th>x6_female</th>\n",
       "      <th>x6_male</th>\n",
       "      <th>x6_non-binary</th>\n",
       "      <th>x6_non-defined</th>\n",
       "      <th>x7_+60</th>\n",
       "      <th>x7_0-10</th>\n",
       "      <th>x7_11-17</th>\n",
       "      <th>x7_18-30</th>\n",
       "      <th>x7_31-40</th>\n",
       "      <th>x7_41-50</th>\n",
       "      <th>x7_51-60</th>\n",
       "      <th>x7_immortal</th>\n",
       "      <th>x8_1st multiple</th>\n",
       "      <th>x8_1st unique</th>\n",
       "      <th>x8_external narrator</th>\n",
       "      <th>x8_i don't know</th>\n",
       "      <th>x9_no</th>\n",
       "      <th>x9_yes</th>\n",
       "    </tr>\n",
       "  </thead>\n",
       "  <tbody>\n",
       "    <tr>\n",
       "      <th>0</th>\n",
       "      <td>Nosotros en la luna</td>\n",
       "      <td>0.0</td>\n",
       "      <td>0.0</td>\n",
       "      <td>0.0</td>\n",
       "      <td>0.0</td>\n",
       "      <td>0.0</td>\n",
       "      <td>0.0</td>\n",
       "      <td>0.0</td>\n",
       "      <td>0.0</td>\n",
       "      <td>1.0</td>\n",
       "      <td>0.0</td>\n",
       "      <td>0.0</td>\n",
       "      <td>0.0</td>\n",
       "      <td>1.0</td>\n",
       "      <td>0.0</td>\n",
       "      <td>0.0</td>\n",
       "      <td>0.0</td>\n",
       "      <td>1.0</td>\n",
       "      <td>0.0</td>\n",
       "      <td>0.0</td>\n",
       "      <td>0.0</td>\n",
       "      <td>1.0</td>\n",
       "      <td>0.0</td>\n",
       "      <td>0.0</td>\n",
       "      <td>0.0</td>\n",
       "      <td>0.0</td>\n",
       "      <td>0.0</td>\n",
       "      <td>0.0</td>\n",
       "      <td>0.0</td>\n",
       "      <td>0.0</td>\n",
       "      <td>0.0</td>\n",
       "      <td>0.0</td>\n",
       "      <td>0.0</td>\n",
       "      <td>0.0</td>\n",
       "      <td>0.0</td>\n",
       "      <td>0.0</td>\n",
       "      <td>1.0</td>\n",
       "      <td>0.0</td>\n",
       "      <td>0.0</td>\n",
       "      <td>1.0</td>\n",
       "      <td>0.0</td>\n",
       "      <td>1.0</td>\n",
       "      <td>0.0</td>\n",
       "      <td>0.0</td>\n",
       "      <td>0.0</td>\n",
       "      <td>0.0</td>\n",
       "      <td>0.0</td>\n",
       "      <td>0.0</td>\n",
       "      <td>1.0</td>\n",
       "      <td>0.0</td>\n",
       "      <td>0.0</td>\n",
       "      <td>0.0</td>\n",
       "      <td>0.0</td>\n",
       "      <td>1.0</td>\n",
       "      <td>0.0</td>\n",
       "      <td>0.0</td>\n",
       "      <td>0.0</td>\n",
       "      <td>1.0</td>\n",
       "      <td>0.0</td>\n",
       "    </tr>\n",
       "    <tr>\n",
       "      <th>1</th>\n",
       "      <td>El día que se perdio la cordura</td>\n",
       "      <td>0.0</td>\n",
       "      <td>0.0</td>\n",
       "      <td>0.0</td>\n",
       "      <td>0.0</td>\n",
       "      <td>0.0</td>\n",
       "      <td>0.0</td>\n",
       "      <td>0.0</td>\n",
       "      <td>0.0</td>\n",
       "      <td>0.0</td>\n",
       "      <td>0.0</td>\n",
       "      <td>0.0</td>\n",
       "      <td>1.0</td>\n",
       "      <td>0.0</td>\n",
       "      <td>1.0</td>\n",
       "      <td>0.0</td>\n",
       "      <td>0.0</td>\n",
       "      <td>0.0</td>\n",
       "      <td>0.0</td>\n",
       "      <td>1.0</td>\n",
       "      <td>1.0</td>\n",
       "      <td>0.0</td>\n",
       "      <td>0.0</td>\n",
       "      <td>0.0</td>\n",
       "      <td>0.0</td>\n",
       "      <td>0.0</td>\n",
       "      <td>0.0</td>\n",
       "      <td>0.0</td>\n",
       "      <td>0.0</td>\n",
       "      <td>0.0</td>\n",
       "      <td>0.0</td>\n",
       "      <td>0.0</td>\n",
       "      <td>0.0</td>\n",
       "      <td>0.0</td>\n",
       "      <td>0.0</td>\n",
       "      <td>0.0</td>\n",
       "      <td>1.0</td>\n",
       "      <td>0.0</td>\n",
       "      <td>0.0</td>\n",
       "      <td>0.0</td>\n",
       "      <td>1.0</td>\n",
       "      <td>0.0</td>\n",
       "      <td>1.0</td>\n",
       "      <td>0.0</td>\n",
       "      <td>0.0</td>\n",
       "      <td>0.0</td>\n",
       "      <td>0.0</td>\n",
       "      <td>0.0</td>\n",
       "      <td>0.0</td>\n",
       "      <td>0.0</td>\n",
       "      <td>1.0</td>\n",
       "      <td>0.0</td>\n",
       "      <td>0.0</td>\n",
       "      <td>1.0</td>\n",
       "      <td>0.0</td>\n",
       "      <td>0.0</td>\n",
       "      <td>0.0</td>\n",
       "      <td>1.0</td>\n",
       "      <td>0.0</td>\n",
       "    </tr>\n",
       "    <tr>\n",
       "      <th>2</th>\n",
       "      <td>Dime quién soy</td>\n",
       "      <td>0.0</td>\n",
       "      <td>0.0</td>\n",
       "      <td>0.0</td>\n",
       "      <td>1.0</td>\n",
       "      <td>0.0</td>\n",
       "      <td>0.0</td>\n",
       "      <td>0.0</td>\n",
       "      <td>0.0</td>\n",
       "      <td>0.0</td>\n",
       "      <td>0.0</td>\n",
       "      <td>0.0</td>\n",
       "      <td>0.0</td>\n",
       "      <td>0.0</td>\n",
       "      <td>1.0</td>\n",
       "      <td>0.0</td>\n",
       "      <td>0.0</td>\n",
       "      <td>0.0</td>\n",
       "      <td>0.0</td>\n",
       "      <td>1.0</td>\n",
       "      <td>0.0</td>\n",
       "      <td>1.0</td>\n",
       "      <td>0.0</td>\n",
       "      <td>0.0</td>\n",
       "      <td>0.0</td>\n",
       "      <td>0.0</td>\n",
       "      <td>0.0</td>\n",
       "      <td>0.0</td>\n",
       "      <td>0.0</td>\n",
       "      <td>0.0</td>\n",
       "      <td>0.0</td>\n",
       "      <td>0.0</td>\n",
       "      <td>0.0</td>\n",
       "      <td>0.0</td>\n",
       "      <td>0.0</td>\n",
       "      <td>0.0</td>\n",
       "      <td>1.0</td>\n",
       "      <td>0.0</td>\n",
       "      <td>0.0</td>\n",
       "      <td>1.0</td>\n",
       "      <td>0.0</td>\n",
       "      <td>1.0</td>\n",
       "      <td>0.0</td>\n",
       "      <td>0.0</td>\n",
       "      <td>0.0</td>\n",
       "      <td>0.0</td>\n",
       "      <td>0.0</td>\n",
       "      <td>0.0</td>\n",
       "      <td>1.0</td>\n",
       "      <td>0.0</td>\n",
       "      <td>0.0</td>\n",
       "      <td>0.0</td>\n",
       "      <td>0.0</td>\n",
       "      <td>0.0</td>\n",
       "      <td>0.0</td>\n",
       "      <td>1.0</td>\n",
       "      <td>0.0</td>\n",
       "      <td>0.0</td>\n",
       "      <td>1.0</td>\n",
       "    </tr>\n",
       "  </tbody>\n",
       "</table>\n",
       "</div>"
      ],
      "text/plain": [
       "                             title  x0_dystopian  x0_fantasy  \\\n",
       "0              Nosotros en la luna           0.0         0.0   \n",
       "1  El día que se perdio la cordura           0.0         0.0   \n",
       "2                   Dime quién soy           0.0         0.0   \n",
       "\n",
       "   x0_generic fiction  x0_historical  x0_horror  x0_mystery  x0_non fiction  \\\n",
       "0                 0.0            0.0        0.0         0.0             0.0   \n",
       "1                 0.0            0.0        0.0         0.0             0.0   \n",
       "2                 0.0            1.0        0.0         0.0             0.0   \n",
       "\n",
       "   x0_poetry  x0_romance  x0_science fiction  x0_theater  x0_thriller  \\\n",
       "0        0.0         1.0                 0.0         0.0          0.0   \n",
       "1        0.0         0.0                 0.0         0.0          1.0   \n",
       "2        0.0         0.0                 0.0         0.0          0.0   \n",
       "\n",
       "   x1_hot books  x1_last years  x1_past centuries  x1_past decades  \\\n",
       "0           1.0            0.0                0.0              0.0   \n",
       "1           0.0            1.0                0.0              0.0   \n",
       "2           0.0            1.0                0.0              0.0   \n",
       "\n",
       "   x2_current time  x2_ficticious time  x2_past  x3_series/saga  \\\n",
       "0              1.0                 0.0      0.0             0.0   \n",
       "1              0.0                 0.0      1.0             1.0   \n",
       "2              0.0                 0.0      1.0             0.0   \n",
       "\n",
       "   x3_standalone  x4_catalan  x4_chinese  x4_danish  x4_english  x4_finnish  \\\n",
       "0            1.0         0.0         0.0        0.0         0.0         0.0   \n",
       "1            0.0         0.0         0.0        0.0         0.0         0.0   \n",
       "2            1.0         0.0         0.0        0.0         0.0         0.0   \n",
       "\n",
       "   x4_french  x4_german  x4_italian   x4_japanese  x4_norwegian  x4_occitan  \\\n",
       "0        0.0        0.0          0.0          0.0           0.0         0.0   \n",
       "1        0.0        0.0          0.0          0.0           0.0         0.0   \n",
       "2        0.0        0.0          0.0          0.0           0.0         0.0   \n",
       "\n",
       "   x4_polish  x4_romanian  x4_russian  x4_spanish  x4_swedish  x5_+6  \\\n",
       "0        0.0          0.0         0.0         1.0         0.0    0.0   \n",
       "1        0.0          0.0         0.0         1.0         0.0    0.0   \n",
       "2        0.0          0.0         0.0         1.0         0.0    0.0   \n",
       "\n",
       "   x5_1 - 3  x5_4 - 6  x6_female  x6_male  x6_non-binary  x6_non-defined  \\\n",
       "0       1.0       0.0        1.0      0.0            0.0             0.0   \n",
       "1       0.0       1.0        0.0      1.0            0.0             0.0   \n",
       "2       1.0       0.0        1.0      0.0            0.0             0.0   \n",
       "\n",
       "   x7_+60  x7_0-10  x7_11-17  x7_18-30  x7_31-40  x7_41-50  x7_51-60  \\\n",
       "0     0.0      0.0       0.0       1.0       0.0       0.0       0.0   \n",
       "1     0.0      0.0       0.0       0.0       0.0       1.0       0.0   \n",
       "2     0.0      0.0       0.0       1.0       0.0       0.0       0.0   \n",
       "\n",
       "   x7_immortal  x8_1st multiple  x8_1st unique  x8_external narrator  \\\n",
       "0          0.0              1.0            0.0                   0.0   \n",
       "1          0.0              1.0            0.0                   0.0   \n",
       "2          0.0              0.0            0.0                   1.0   \n",
       "\n",
       "   x8_i don't know  x9_no  x9_yes  \n",
       "0              0.0    1.0     0.0  \n",
       "1              0.0    1.0     0.0  \n",
       "2              0.0    0.0     1.0  "
      ]
     },
     "execution_count": 180,
     "metadata": {},
     "output_type": "execute_result"
    }
   ],
   "source": [
    "data_v1.head(3)"
   ]
  },
  {
   "cell_type": "markdown",
   "id": "328495e1",
   "metadata": {},
   "source": [
    "##### Kmeans and clustering "
   ]
  },
  {
   "cell_type": "code",
   "execution_count": 181,
   "id": "51291c19",
   "metadata": {},
   "outputs": [
    {
     "data": {
      "text/plain": [
       "KMeans(n_clusters=12, random_state=40)"
      ]
     },
     "execution_count": 181,
     "metadata": {},
     "output_type": "execute_result"
    }
   ],
   "source": [
    "#defining the model, fitting \n",
    "\n",
    "kmeans = KMeans(n_clusters=12, random_state=40)\n",
    "kmeans.fit(X_encoded)"
   ]
  },
  {
   "cell_type": "code",
   "execution_count": 182,
   "id": "44c3c61e",
   "metadata": {
    "scrolled": true
   },
   "outputs": [
    {
     "data": {
      "text/html": [
       "<div>\n",
       "<style scoped>\n",
       "    .dataframe tbody tr th:only-of-type {\n",
       "        vertical-align: middle;\n",
       "    }\n",
       "\n",
       "    .dataframe tbody tr th {\n",
       "        vertical-align: top;\n",
       "    }\n",
       "\n",
       "    .dataframe thead th {\n",
       "        text-align: right;\n",
       "    }\n",
       "</style>\n",
       "<table border=\"1\" class=\"dataframe\">\n",
       "  <thead>\n",
       "    <tr style=\"text-align: right;\">\n",
       "      <th></th>\n",
       "      <th>genre</th>\n",
       "      <th>publication_date_clean</th>\n",
       "      <th>time_clean</th>\n",
       "      <th>story_length</th>\n",
       "      <th>original_language</th>\n",
       "      <th>character_number</th>\n",
       "      <th>character_gender</th>\n",
       "      <th>character_age</th>\n",
       "      <th>pov</th>\n",
       "      <th>adaptation</th>\n",
       "      <th>cluster</th>\n",
       "    </tr>\n",
       "  </thead>\n",
       "  <tbody>\n",
       "    <tr>\n",
       "      <th>0</th>\n",
       "      <td>romance</td>\n",
       "      <td>hot books</td>\n",
       "      <td>current time</td>\n",
       "      <td>standalone</td>\n",
       "      <td>spanish</td>\n",
       "      <td>1 - 3</td>\n",
       "      <td>female</td>\n",
       "      <td>18-30</td>\n",
       "      <td>1st multiple</td>\n",
       "      <td>no</td>\n",
       "      <td>0</td>\n",
       "    </tr>\n",
       "    <tr>\n",
       "      <th>1</th>\n",
       "      <td>thriller</td>\n",
       "      <td>last years</td>\n",
       "      <td>past</td>\n",
       "      <td>series/saga</td>\n",
       "      <td>spanish</td>\n",
       "      <td>4 - 6</td>\n",
       "      <td>male</td>\n",
       "      <td>41-50</td>\n",
       "      <td>1st multiple</td>\n",
       "      <td>no</td>\n",
       "      <td>5</td>\n",
       "    </tr>\n",
       "    <tr>\n",
       "      <th>2</th>\n",
       "      <td>historical</td>\n",
       "      <td>last years</td>\n",
       "      <td>past</td>\n",
       "      <td>standalone</td>\n",
       "      <td>spanish</td>\n",
       "      <td>1 - 3</td>\n",
       "      <td>female</td>\n",
       "      <td>18-30</td>\n",
       "      <td>external narrator</td>\n",
       "      <td>yes</td>\n",
       "      <td>1</td>\n",
       "    </tr>\n",
       "    <tr>\n",
       "      <th>3</th>\n",
       "      <td>fantasy</td>\n",
       "      <td>last years</td>\n",
       "      <td>ficticious time</td>\n",
       "      <td>series/saga</td>\n",
       "      <td>english</td>\n",
       "      <td>4 - 6</td>\n",
       "      <td>female</td>\n",
       "      <td>18-30</td>\n",
       "      <td>1st unique</td>\n",
       "      <td>no</td>\n",
       "      <td>2</td>\n",
       "    </tr>\n",
       "    <tr>\n",
       "      <th>4</th>\n",
       "      <td>science fiction</td>\n",
       "      <td>past centuries</td>\n",
       "      <td>past</td>\n",
       "      <td>standalone</td>\n",
       "      <td>english</td>\n",
       "      <td>1 - 3</td>\n",
       "      <td>male</td>\n",
       "      <td>18-30</td>\n",
       "      <td>1st multiple</td>\n",
       "      <td>yes</td>\n",
       "      <td>6</td>\n",
       "    </tr>\n",
       "  </tbody>\n",
       "</table>\n",
       "</div>"
      ],
      "text/plain": [
       "             genre publication_date_clean       time_clean story_length  \\\n",
       "0          romance              hot books     current time   standalone   \n",
       "1         thriller             last years             past  series/saga   \n",
       "2       historical             last years             past   standalone   \n",
       "3          fantasy             last years  ficticious time  series/saga   \n",
       "4  science fiction         past centuries             past   standalone   \n",
       "\n",
       "  original_language character_number character_gender character_age  \\\n",
       "0           spanish            1 - 3           female         18-30   \n",
       "1           spanish            4 - 6             male         41-50   \n",
       "2           spanish            1 - 3           female         18-30   \n",
       "3           english            4 - 6           female         18-30   \n",
       "4           english            1 - 3             male         18-30   \n",
       "\n",
       "                 pov adaptation  cluster  \n",
       "0       1st multiple         no        0  \n",
       "1       1st multiple         no        5  \n",
       "2  external narrator        yes        1  \n",
       "3         1st unique         no        2  \n",
       "4       1st multiple        yes        6  "
      ]
     },
     "execution_count": 182,
     "metadata": {},
     "output_type": "execute_result"
    }
   ],
   "source": [
    "#look at the cluster centres\n",
    "\n",
    "kmeans.cluster_centers_\n",
    "\n",
    "# Predicting / assigning the clusters:\n",
    "\n",
    "clusters=kmeans.predict(X_encoded)\n",
    "\n",
    "# Check the size of the clusters\n",
    "\n",
    "pd.Series(clusters).value_counts().sort_index()\n",
    "\n",
    "# Explore the cluster assignment by placing it in the original dataset\n",
    "\n",
    "X_cluster=pd.DataFrame(X)\n",
    "X_cluster[\"cluster\"]=clusters\n",
    "X_cluster.head(5)"
   ]
  },
  {
   "cell_type": "markdown",
   "id": "a1f3b994",
   "metadata": {
    "heading_collapsed": true
   },
   "source": [
    "##### optimizing"
   ]
  },
  {
   "cell_type": "code",
   "execution_count": 133,
   "id": "dc5bef6a",
   "metadata": {
    "hidden": true
   },
   "outputs": [
    {
     "data": {
      "text/plain": [
       "1504.797949158164"
      ]
     },
     "execution_count": 133,
     "metadata": {},
     "output_type": "execute_result"
    }
   ],
   "source": [
    "kmeans.inertia_"
   ]
  },
  {
   "cell_type": "code",
   "execution_count": 134,
   "id": "a4cc8dab",
   "metadata": {
    "hidden": true
   },
   "outputs": [],
   "source": [
    "K = range(2,30)"
   ]
  },
  {
   "cell_type": "code",
   "execution_count": 135,
   "id": "b3c7dd8e",
   "metadata": {
    "hidden": true
   },
   "outputs": [],
   "source": [
    "inertia = []\n",
    "\n",
    "for k in K:\n",
    "    kmeans=KMeans(n_clusters=k, random_state=40)\n",
    "    kmeans.fit(X_encoded)\n",
    "    inertia.append(kmeans.inertia_)"
   ]
  },
  {
   "cell_type": "code",
   "execution_count": 136,
   "id": "4ba79e41",
   "metadata": {
    "hidden": true,
    "scrolled": true
   },
   "outputs": [
    {
     "data": {
      "text/plain": [
       "Text(0.5, 1.0, 'Elbow Method showing the optimal k')"
      ]
     },
     "execution_count": 136,
     "metadata": {},
     "output_type": "execute_result"
    },
    {
     "data": {
      "image/png": "[encoded data removed]",
      "text/plain": [
       "<Figure size 1152x576 with 1 Axes>"
      ]
     },
     "metadata": {
      "needs_background": "light"
     },
     "output_type": "display_data"
    }
   ],
   "source": [
    "plt.figure(figsize=(16,8))\n",
    "plt.plot(K, inertia, 'bx-')\n",
    "plt.xlabel('k')\n",
    "plt.ylabel('inertia')\n",
    "plt.xticks(np.arange(min(K), max(K)+1, 1.0))\n",
    "plt.title('Elbow Method showing the optimal k')"
   ]
  },
  {
   "cell_type": "code",
   "execution_count": 137,
   "id": "c734a53f",
   "metadata": {
    "hidden": true
   },
   "outputs": [],
   "source": [
    "from sklearn.metrics import silhouette_score\n",
    "\n",
    "K = range(7, 30)\n",
    "\n",
    "silhouettes = []\n",
    "\n",
    "for k in K: \n",
    "    kmeans=KMeans(n_clusters=k, random_state=40)\n",
    "    kmeans.fit(X_encoded)\n",
    "    silhouettes.append(silhouette_score(X_encoded, kmeans.predict(X_encoded)))"
   ]
  },
  {
   "cell_type": "code",
   "execution_count": 138,
   "id": "f76d7b03",
   "metadata": {
    "hidden": true
   },
   "outputs": [
    {
     "data": {
      "text/plain": [
       "Text(0, 0.5, 'silhouette score')"
      ]
     },
     "execution_count": 138,
     "metadata": {},
     "output_type": "execute_result"
    },
    {
     "data": {
      "image/png": "[encoded data removed]",
      "text/plain": [
       "<Figure size 1152x576 with 1 Axes>"
      ]
     },
     "metadata": {
      "needs_background": "light"
     },
     "output_type": "display_data"
    }
   ],
   "source": [
    "plt.figure(figsize=(16,8))\n",
    "plt.plot(K, silhouettes, 'bo-')\n",
    "plt.xlabel('k (number of clusters)')\n",
    "plt.xticks(np.arange(min(K), max(K)+1, 1.0))\n",
    "plt.ylabel('silhouette score')"
   ]
  },
  {
   "cell_type": "markdown",
   "id": "d9b6f698",
   "metadata": {},
   "source": [
    "##### Visualising clusters "
   ]
  },
  {
   "cell_type": "code",
   "execution_count": 139,
   "id": "19ea586b",
   "metadata": {
    "scrolled": false
   },
   "outputs": [
    {
     "data": {
      "text/plain": [
       "0     59\n",
       "10    57\n",
       "2     48\n",
       "3     41\n",
       "11    40\n",
       "1     38\n",
       "4     32\n",
       "5     28\n",
       "7     27\n",
       "6     23\n",
       "8     18\n",
       "9     14\n",
       "Name: cluster, dtype: int64"
      ]
     },
     "execution_count": 139,
     "metadata": {},
     "output_type": "execute_result"
    }
   ],
   "source": [
    "X_cluster['cluster'].value_counts()"
   ]
  },
  {
   "cell_type": "code",
   "execution_count": 140,
   "id": "81691f09",
   "metadata": {
    "scrolled": false
   },
   "outputs": [
    {
     "data": {
      "text/html": [
       "<div>\n",
       "<style scoped>\n",
       "    .dataframe tbody tr th:only-of-type {\n",
       "        vertical-align: middle;\n",
       "    }\n",
       "\n",
       "    .dataframe tbody tr th {\n",
       "        vertical-align: top;\n",
       "    }\n",
       "\n",
       "    .dataframe thead th {\n",
       "        text-align: right;\n",
       "    }\n",
       "</style>\n",
       "<table border=\"1\" class=\"dataframe\">\n",
       "  <thead>\n",
       "    <tr style=\"text-align: right;\">\n",
       "      <th></th>\n",
       "      <th>genre</th>\n",
       "      <th>publication_date_clean</th>\n",
       "      <th>time_clean</th>\n",
       "      <th>story_length</th>\n",
       "      <th>original_language</th>\n",
       "      <th>character_number</th>\n",
       "      <th>character_gender</th>\n",
       "      <th>character_age</th>\n",
       "      <th>pov</th>\n",
       "      <th>adaptation</th>\n",
       "      <th>cluster</th>\n",
       "    </tr>\n",
       "  </thead>\n",
       "  <tbody>\n",
       "    <tr>\n",
       "      <th>2</th>\n",
       "      <td>historical</td>\n",
       "      <td>last years</td>\n",
       "      <td>past</td>\n",
       "      <td>standalone</td>\n",
       "      <td>spanish</td>\n",
       "      <td>1 - 3</td>\n",
       "      <td>female</td>\n",
       "      <td>18-30</td>\n",
       "      <td>external narrator</td>\n",
       "      <td>yes</td>\n",
       "      <td>1</td>\n",
       "    </tr>\n",
       "    <tr>\n",
       "      <th>10</th>\n",
       "      <td>horror</td>\n",
       "      <td>last years</td>\n",
       "      <td>past</td>\n",
       "      <td>standalone</td>\n",
       "      <td>english</td>\n",
       "      <td>1 - 3</td>\n",
       "      <td>female</td>\n",
       "      <td>31-40</td>\n",
       "      <td>external narrator</td>\n",
       "      <td>yes</td>\n",
       "      <td>1</td>\n",
       "    </tr>\n",
       "    <tr>\n",
       "      <th>17</th>\n",
       "      <td>generic fiction</td>\n",
       "      <td>last years</td>\n",
       "      <td>past</td>\n",
       "      <td>standalone</td>\n",
       "      <td>english</td>\n",
       "      <td>1 - 3</td>\n",
       "      <td>female</td>\n",
       "      <td>51-60</td>\n",
       "      <td>1st unique</td>\n",
       "      <td>no</td>\n",
       "      <td>1</td>\n",
       "    </tr>\n",
       "  </tbody>\n",
       "</table>\n",
       "</div>"
      ],
      "text/plain": [
       "              genre publication_date_clean time_clean story_length  \\\n",
       "2        historical             last years       past   standalone   \n",
       "10           horror             last years       past   standalone   \n",
       "17  generic fiction             last years       past   standalone   \n",
       "\n",
       "   original_language character_number character_gender character_age  \\\n",
       "2            spanish            1 - 3           female         18-30   \n",
       "10           english            1 - 3           female         31-40   \n",
       "17           english            1 - 3           female         51-60   \n",
       "\n",
       "                  pov adaptation  cluster  \n",
       "2   external narrator        yes        1  \n",
       "10  external narrator        yes        1  \n",
       "17         1st unique         no        1  "
      ]
     },
     "execution_count": 140,
     "metadata": {},
     "output_type": "execute_result"
    }
   ],
   "source": [
    "X_cluster[X_cluster['cluster'] == 1].head(3)"
   ]
  },
  {
   "cell_type": "code",
   "execution_count": 183,
   "id": "85de2b9d",
   "metadata": {},
   "outputs": [],
   "source": [
    "data_clusters=pd.concat([data_books['title'], data_books['author'], X_cluster], axis=1)"
   ]
  },
  {
   "cell_type": "code",
   "execution_count": 184,
   "id": "588d3ac4",
   "metadata": {},
   "outputs": [
    {
     "data": {
      "text/html": [
       "<div>\n",
       "<style scoped>\n",
       "    .dataframe tbody tr th:only-of-type {\n",
       "        vertical-align: middle;\n",
       "    }\n",
       "\n",
       "    .dataframe tbody tr th {\n",
       "        vertical-align: top;\n",
       "    }\n",
       "\n",
       "    .dataframe thead th {\n",
       "        text-align: right;\n",
       "    }\n",
       "</style>\n",
       "<table border=\"1\" class=\"dataframe\">\n",
       "  <thead>\n",
       "    <tr style=\"text-align: right;\">\n",
       "      <th></th>\n",
       "      <th>title</th>\n",
       "      <th>author</th>\n",
       "      <th>genre</th>\n",
       "      <th>publication_date_clean</th>\n",
       "      <th>time_clean</th>\n",
       "      <th>story_length</th>\n",
       "      <th>original_language</th>\n",
       "      <th>character_number</th>\n",
       "      <th>character_gender</th>\n",
       "      <th>character_age</th>\n",
       "      <th>pov</th>\n",
       "      <th>adaptation</th>\n",
       "      <th>cluster</th>\n",
       "    </tr>\n",
       "  </thead>\n",
       "  <tbody>\n",
       "    <tr>\n",
       "      <th>0</th>\n",
       "      <td>Nosotros en la luna</td>\n",
       "      <td>Alice kellen</td>\n",
       "      <td>romance</td>\n",
       "      <td>hot books</td>\n",
       "      <td>current time</td>\n",
       "      <td>standalone</td>\n",
       "      <td>spanish</td>\n",
       "      <td>1 - 3</td>\n",
       "      <td>female</td>\n",
       "      <td>18-30</td>\n",
       "      <td>1st multiple</td>\n",
       "      <td>no</td>\n",
       "      <td>0</td>\n",
       "    </tr>\n",
       "    <tr>\n",
       "      <th>1</th>\n",
       "      <td>El día que se perdio la cordura</td>\n",
       "      <td>Javier Castillo</td>\n",
       "      <td>thriller</td>\n",
       "      <td>last years</td>\n",
       "      <td>past</td>\n",
       "      <td>series/saga</td>\n",
       "      <td>spanish</td>\n",
       "      <td>4 - 6</td>\n",
       "      <td>male</td>\n",
       "      <td>41-50</td>\n",
       "      <td>1st multiple</td>\n",
       "      <td>no</td>\n",
       "      <td>5</td>\n",
       "    </tr>\n",
       "    <tr>\n",
       "      <th>2</th>\n",
       "      <td>Dime quién soy</td>\n",
       "      <td>Julia Navarro</td>\n",
       "      <td>historical</td>\n",
       "      <td>last years</td>\n",
       "      <td>past</td>\n",
       "      <td>standalone</td>\n",
       "      <td>spanish</td>\n",
       "      <td>1 - 3</td>\n",
       "      <td>female</td>\n",
       "      <td>18-30</td>\n",
       "      <td>external narrator</td>\n",
       "      <td>yes</td>\n",
       "      <td>1</td>\n",
       "    </tr>\n",
       "  </tbody>\n",
       "</table>\n",
       "</div>"
      ],
      "text/plain": [
       "                             title            author       genre  \\\n",
       "0              Nosotros en la luna      Alice kellen     romance   \n",
       "1  El día que se perdio la cordura  Javier Castillo     thriller   \n",
       "2                   Dime quién soy     Julia Navarro  historical   \n",
       "\n",
       "  publication_date_clean    time_clean story_length original_language  \\\n",
       "0              hot books  current time   standalone           spanish   \n",
       "1             last years          past  series/saga           spanish   \n",
       "2             last years          past   standalone           spanish   \n",
       "\n",
       "  character_number character_gender character_age                pov  \\\n",
       "0            1 - 3           female         18-30       1st multiple   \n",
       "1            4 - 6             male         41-50       1st multiple   \n",
       "2            1 - 3           female         18-30  external narrator   \n",
       "\n",
       "  adaptation  cluster  \n",
       "0         no        0  \n",
       "1         no        5  \n",
       "2        yes        1  "
      ]
     },
     "execution_count": 184,
     "metadata": {},
     "output_type": "execute_result"
    }
   ],
   "source": [
    "data_clusters.head(3)"
   ]
  },
  {
   "cell_type": "code",
   "execution_count": 143,
   "id": "eba96677",
   "metadata": {},
   "outputs": [],
   "source": [
    "# would get labels for that clusters using\n",
    "\n",
    "# data_labels = kmeans.labels_"
   ]
  },
  {
   "cell_type": "markdown",
   "id": "66c30b01",
   "metadata": {},
   "source": [
    "### Recommender "
   ]
  },
  {
   "cell_type": "code",
   "execution_count": 189,
   "id": "c6d064a5",
   "metadata": {},
   "outputs": [],
   "source": [
    "def book_recommender():\n",
    "    u_genre=input('What genre do you like? Choose one: non fiction, generic fiction, dystopian, fantasy, science fiction, historical, horror, mystery, thriller, romance, poetry: ')\n",
    "    u_pubdate=input('How recently published do you like to read books? Choose between: hot books, last years, past decades, past centuries: ')\n",
    "    u_settime=input('When do you prefer the story to take place? Choose one: current time, past, ficticious time: ')\n",
    "    #u_length=input('How long do you want the book to be? Choose one: short, medium, long: ')\n",
    "    u_storytype=input('What do you enjoy more, standalone books or series/saga books?: ')\n",
    "    u_language=input('Which original language do you read more often? Choose one: english, spanish, catalan, chinese, danish, finnish, french, german, italian, japanese, norwegian, occitan, polish, romanian, russian, swedish: ')\n",
    "    u_character=input('How many characters do you like a book to have? Choose between: 1 - 3, 4 - 6, +6: ')\n",
    "    u_gender=input('Which gender do you prefer the main character to be? Choose one: female, male, non-binary, non-defined: ')\n",
    "    u_age=input('How old do you like the main character to be? Choose between: 0-10, 11-17, 18-30, 31-40, 41-50, 51-60, +60, immortal: ')\n",
    "    u_pov=input('Who do you like to tell the story? Choose one: external narrator, 1st unique, 1st multiple: ')\n",
    "    u_adaptation=input('Do you like books with a film/tv adaptation? yes or no: ')\n",
    "                \n",
    "    u_df = pd.DataFrame({'genre' : u_genre,\n",
    "                         'publication_date' : u_pubdate,\n",
    "                         'time_clean' : u_settime,\n",
    "                         #'pages_clean' : u_length,\n",
    "                         'story_length' : u_storytype,\n",
    "                         'original_language' : u_language,\n",
    "                         'character_number' : u_character,\n",
    "                         'character_gender' : u_gender,\n",
    "                         'character_age' : u_age,\n",
    "                         'pov' : u_pov,\n",
    "                         'adaptation' : u_adaptation}, index=[0])\n",
    "            \n",
    "    user_encoded=enc.transform(u_df).toarray()\n",
    "    user_cluster=kmeans.predict(user_encoded)\n",
    "    recommendation=data_clusters[data_clusters['cluster'] == user_cluster[0]].sample(n=1)['title'].values[0]\n",
    "    author=data_clusters[data_clusters['title']==recommendation]['author'].values[0]\n",
    "    \n",
    "    print(\"\\n\")\n",
    "    print(\"\\n\")\n",
    "    print(\"--------------------------\")\n",
    "    print('Here is the recommendation for you! ' + recommendation + ' by ' + author )\n",
    "    #if check == 'no':\n",
    "     #   print('Hope you enjoy it!')\n",
    "    #else:\n",
    "        #(second round?)"
   ]
  },
  {
   "cell_type": "code",
   "execution_count": null,
   "id": "6f3be6f2",
   "metadata": {},
   "outputs": [],
   "source": []
  },
  {
   "cell_type": "code",
   "execution_count": null,
   "id": "2e4f4aff",
   "metadata": {},
   "outputs": [],
   "source": []
  },
  {
   "cell_type": "code",
   "execution_count": null,
   "id": "89e50ead",
   "metadata": {},
   "outputs": [],
   "source": []
  },
  {
   "cell_type": "code",
   "execution_count": null,
   "id": "64273767",
   "metadata": {},
   "outputs": [],
   "source": []
  },
  {
   "cell_type": "code",
   "execution_count": null,
   "id": "dc7e3b29",
   "metadata": {},
   "outputs": [],
   "source": []
  },
  {
   "cell_type": "code",
   "execution_count": null,
   "id": "77fbb079",
   "metadata": {},
   "outputs": [],
   "source": []
  },
  {
   "cell_type": "code",
   "execution_count": null,
   "id": "53896be3",
   "metadata": {},
   "outputs": [],
   "source": []
  },
  {
   "cell_type": "code",
   "execution_count": null,
   "id": "55de1081",
   "metadata": {},
   "outputs": [],
   "source": []
  },
  {
   "cell_type": "code",
   "execution_count": null,
   "id": "1a26c5d6",
   "metadata": {},
   "outputs": [],
   "source": []
  },
  {
   "cell_type": "code",
   "execution_count": null,
   "id": "80cf081b",
   "metadata": {},
   "outputs": [],
   "source": []
  },
  {
   "cell_type": "code",
   "execution_count": null,
   "id": "331799e5",
   "metadata": {},
   "outputs": [],
   "source": []
  },
  {
   "cell_type": "code",
   "execution_count": null,
   "id": "b2f9ebfa",
   "metadata": {},
   "outputs": [],
   "source": []
  },
  {
   "cell_type": "code",
   "execution_count": null,
   "id": "17143fd4",
   "metadata": {},
   "outputs": [],
   "source": []
  },
  {
   "cell_type": "code",
   "execution_count": null,
   "id": "194cab70",
   "metadata": {},
   "outputs": [],
   "source": []
  },
  {
   "cell_type": "code",
   "execution_count": null,
   "id": "6e4c5d0e",
   "metadata": {},
   "outputs": [],
   "source": []
  },
  {
   "cell_type": "code",
   "execution_count": null,
   "id": "7e39e88d",
   "metadata": {},
   "outputs": [],
   "source": []
  },
  {
   "cell_type": "code",
   "execution_count": null,
   "id": "8303bf2f",
   "metadata": {},
   "outputs": [],
   "source": []
  },
  {
   "cell_type": "code",
   "execution_count": null,
   "id": "e1c4e686",
   "metadata": {},
   "outputs": [],
   "source": []
  },
  {
   "cell_type": "code",
   "execution_count": null,
   "id": "dd1f922f",
   "metadata": {},
   "outputs": [],
   "source": []
  },
  {
   "cell_type": "code",
   "execution_count": null,
   "id": "75db339f",
   "metadata": {},
   "outputs": [],
   "source": []
  },
  {
   "cell_type": "code",
   "execution_count": null,
   "id": "c0654538",
   "metadata": {},
   "outputs": [],
   "source": []
  },
  {
   "cell_type": "code",
   "execution_count": null,
   "id": "cd75d986",
   "metadata": {},
   "outputs": [],
   "source": []
  },
  {
   "cell_type": "code",
   "execution_count": null,
   "id": "e747639c",
   "metadata": {},
   "outputs": [],
   "source": []
  },
  {
   "cell_type": "code",
   "execution_count": null,
   "id": "9ddfbd12",
   "metadata": {},
   "outputs": [],
   "source": []
  },
  {
   "cell_type": "code",
   "execution_count": null,
   "id": "880f425a",
   "metadata": {},
   "outputs": [],
   "source": []
  },
  {
   "cell_type": "code",
   "execution_count": null,
   "id": "3156ef5a",
   "metadata": {},
   "outputs": [],
   "source": []
  },
  {
   "cell_type": "code",
   "execution_count": 190,
   "id": "97c2b0af",
   "metadata": {
    "scrolled": true
   },
   "outputs": [
    {
     "name": "stdout",
     "output_type": "stream",
     "text": [
      "What genre do you like? Choose one: non fiction, generic fiction, dystopian, fantasy, science fiction, historical, horror, mystery, thriller, romance, poetry: fantasy\n",
      "How recently published do you like to read books? Choose between: hot books, last years, past decades, past centuries: last years\n",
      "When do you prefer the story to take place? Choose one: current time, past, ficticious time: ficticious time\n",
      "What do you enjoy more, standalone books or series/saga books?: series/saga\n",
      "Which original language do you read more often? Choose one: english, spanish, catalan, chinese, danish, finnish, french, german, italian, japanese, norwegian, occitan, polish, romanian, russian, swedish: english\n",
      "How many characters do you like a book to have? Choose between: 1 - 3, 4 - 6, +6: 4 - 6\n",
      "Which gender do you prefer the main character to be? Choose one: female, male, non-binary, non-defined: male\n",
      "How old do you like the main character to be? Choose between: 0-10, 11-17, 18-30, 31-40, 41-50, 51-60, +60, immortal: 31-40\n",
      "Who do you like to tell the story? Choose one: external narrator, 1st unique, 1st multiple: external narrator\n",
      "Do you like books with a film/tv adaptation? yes or no: yes\n",
      "\n",
      "\n",
      "\n",
      "\n",
      "--------------------------\n",
      "Here is the recommendation for you! el señor de los anillos las dos torres by j r r tolkien\n"
     ]
    }
   ],
   "source": [
    "book_recommender()"
   ]
  },
  {
   "cell_type": "code",
   "execution_count": null,
   "id": "4d717ac8",
   "metadata": {},
   "outputs": [],
   "source": []
  },
  {
   "cell_type": "code",
   "execution_count": null,
   "id": "17f991fe",
   "metadata": {},
   "outputs": [],
   "source": []
  },
  {
   "cell_type": "code",
   "execution_count": null,
   "id": "8196f360",
   "metadata": {},
   "outputs": [],
   "source": []
  },
  {
   "cell_type": "code",
   "execution_count": null,
   "id": "9422e336",
   "metadata": {},
   "outputs": [],
   "source": []
  },
  {
   "cell_type": "code",
   "execution_count": null,
   "id": "63f9f356",
   "metadata": {},
   "outputs": [],
   "source": []
  },
  {
   "cell_type": "code",
   "execution_count": null,
   "id": "118c733e",
   "metadata": {},
   "outputs": [],
   "source": []
  },
  {
   "cell_type": "code",
   "execution_count": null,
   "id": "53edd8d4",
   "metadata": {},
   "outputs": [],
   "source": []
  },
  {
   "cell_type": "code",
   "execution_count": null,
   "id": "20aa3773",
   "metadata": {},
   "outputs": [],
   "source": []
  },
  {
   "cell_type": "code",
   "execution_count": null,
   "id": "7b606e1e",
   "metadata": {},
   "outputs": [],
   "source": []
  },
  {
   "cell_type": "code",
   "execution_count": null,
   "id": "51fbff59",
   "metadata": {},
   "outputs": [],
   "source": []
  },
  {
   "cell_type": "code",
   "execution_count": null,
   "id": "dc9e72ff",
   "metadata": {},
   "outputs": [],
   "source": []
  },
  {
   "cell_type": "code",
   "execution_count": null,
   "id": "14611455",
   "metadata": {},
   "outputs": [],
   "source": []
  },
  {
   "cell_type": "code",
   "execution_count": null,
   "id": "c9697f2a",
   "metadata": {},
   "outputs": [],
   "source": []
  },
  {
   "cell_type": "code",
   "execution_count": null,
   "id": "ce7280e8",
   "metadata": {},
   "outputs": [],
   "source": []
  },
  {
   "cell_type": "code",
   "execution_count": null,
   "id": "b4f5ca6c",
   "metadata": {},
   "outputs": [],
   "source": []
  },
  {
   "cell_type": "code",
   "execution_count": null,
   "id": "d01e19fb",
   "metadata": {},
   "outputs": [],
   "source": []
  },
  {
   "cell_type": "code",
   "execution_count": null,
   "id": "735a7384",
   "metadata": {},
   "outputs": [],
   "source": []
  },
  {
   "cell_type": "code",
   "execution_count": null,
   "id": "f22f9aa2",
   "metadata": {},
   "outputs": [],
   "source": []
  },
  {
   "cell_type": "code",
   "execution_count": null,
   "id": "d894fe19",
   "metadata": {},
   "outputs": [],
   "source": []
  },
  {
   "cell_type": "code",
   "execution_count": null,
   "id": "5a9c2030",
   "metadata": {},
   "outputs": [],
   "source": []
  },
  {
   "cell_type": "code",
   "execution_count": null,
   "id": "17a8779b",
   "metadata": {},
   "outputs": [],
   "source": []
  },
  {
   "cell_type": "code",
   "execution_count": null,
   "id": "53b65542",
   "metadata": {},
   "outputs": [],
   "source": []
  },
  {
   "cell_type": "code",
   "execution_count": null,
   "id": "daf60c3b",
   "metadata": {},
   "outputs": [],
   "source": []
  },
  {
   "cell_type": "code",
   "execution_count": null,
   "id": "9acebfab",
   "metadata": {},
   "outputs": [],
   "source": []
  },
  {
   "cell_type": "code",
   "execution_count": null,
   "id": "2fe768fb",
   "metadata": {},
   "outputs": [],
   "source": []
  },
  {
   "cell_type": "markdown",
   "id": "bff0c70d",
   "metadata": {},
   "source": [
    "##### Appendix  "
   ]
  },
  {
   "cell_type": "markdown",
   "id": "a742bf9e",
   "metadata": {},
   "source": [
    "Here is the original dataset with clusters aggregate."
   ]
  },
  {
   "cell_type": "code",
   "execution_count": 197,
   "id": "886d8935",
   "metadata": {},
   "outputs": [],
   "source": [
    "books_clusters=pd.concat([data_books, X_cluster['cluster']], axis=1)"
   ]
  },
  {
   "cell_type": "code",
   "execution_count": 201,
   "id": "923343d9",
   "metadata": {},
   "outputs": [],
   "source": [
    "books_clusters=books_clusters.drop(['Unnamed: 0'], axis=1)"
   ]
  },
  {
   "cell_type": "code",
   "execution_count": 202,
   "id": "315fe87a",
   "metadata": {},
   "outputs": [
    {
     "data": {
      "text/html": [
       "<div>\n",
       "<style scoped>\n",
       "    .dataframe tbody tr th:only-of-type {\n",
       "        vertical-align: middle;\n",
       "    }\n",
       "\n",
       "    .dataframe tbody tr th {\n",
       "        vertical-align: top;\n",
       "    }\n",
       "\n",
       "    .dataframe thead th {\n",
       "        text-align: right;\n",
       "    }\n",
       "</style>\n",
       "<table border=\"1\" class=\"dataframe\">\n",
       "  <thead>\n",
       "    <tr style=\"text-align: right;\">\n",
       "      <th></th>\n",
       "      <th>title</th>\n",
       "      <th>author</th>\n",
       "      <th>publishing_house</th>\n",
       "      <th>genre</th>\n",
       "      <th>subgenre</th>\n",
       "      <th>publication_date</th>\n",
       "      <th>pages</th>\n",
       "      <th>edition</th>\n",
       "      <th>story_length</th>\n",
       "      <th>original_language</th>\n",
       "      <th>theme</th>\n",
       "      <th>main_topics</th>\n",
       "      <th>setting_time</th>\n",
       "      <th>setting_place</th>\n",
       "      <th>character_number</th>\n",
       "      <th>character_gender</th>\n",
       "      <th>character_age</th>\n",
       "      <th>character_description</th>\n",
       "      <th>pov</th>\n",
       "      <th>adaptation</th>\n",
       "      <th>review</th>\n",
       "      <th>feelings</th>\n",
       "      <th>quote</th>\n",
       "      <th>time_clean</th>\n",
       "      <th>publication_date_clean</th>\n",
       "      <th>pages_clean</th>\n",
       "      <th>cluster</th>\n",
       "    </tr>\n",
       "  </thead>\n",
       "  <tbody>\n",
       "    <tr>\n",
       "      <th>0</th>\n",
       "      <td>Nosotros en la luna</td>\n",
       "      <td>Alice kellen</td>\n",
       "      <td>Planeta</td>\n",
       "      <td>romance</td>\n",
       "      <td>new adult</td>\n",
       "      <td>2020</td>\n",
       "      <td>477</td>\n",
       "      <td>paperback, pocket</td>\n",
       "      <td>standalone</td>\n",
       "      <td>spanish</td>\n",
       "      <td>Una chica que acaba de romper con su novio de ...</td>\n",
       "      <td>friendship, love, goals/dreams, personal growt...</td>\n",
       "      <td>current time</td>\n",
       "      <td>paris, london, ibiza, australia, usa</td>\n",
       "      <td>1 - 3</td>\n",
       "      <td>female</td>\n",
       "      <td>18-30</td>\n",
       "      <td>Ginger empieza siendo una chica insegura, está...</td>\n",
       "      <td>1st multiple</td>\n",
       "      <td>no</td>\n",
       "      <td>i recommend, favourite one, easy to read, cohe...</td>\n",
       "      <td>reflexive, escape from reality, intense emotio...</td>\n",
       "      <td>Es imposible saber cuando conocerás a esa pers...</td>\n",
       "      <td>current time</td>\n",
       "      <td>hot books</td>\n",
       "      <td>medium</td>\n",
       "      <td>0</td>\n",
       "    </tr>\n",
       "    <tr>\n",
       "      <th>1</th>\n",
       "      <td>El día que se perdio la cordura</td>\n",
       "      <td>Javier Castillo</td>\n",
       "      <td>Debolsillo</td>\n",
       "      <td>thriller</td>\n",
       "      <td>psychological</td>\n",
       "      <td>2017</td>\n",
       "      <td>456</td>\n",
       "      <td>paperback, pocket</td>\n",
       "      <td>series/saga</td>\n",
       "      <td>spanish</td>\n",
       "      <td>Amor, odio, extrañas prácticas, intriga y acci...</td>\n",
       "      <td>love</td>\n",
       "      <td>1892</td>\n",
       "      <td>uk</td>\n",
       "      <td>4 - 6</td>\n",
       "      <td>male</td>\n",
       "      <td>41-50</td>\n",
       "      <td>Una persona adulta</td>\n",
       "      <td>1st multiple</td>\n",
       "      <td>no</td>\n",
       "      <td>i recommend, favourite one</td>\n",
       "      <td>intense emotions, nervousness, empathy</td>\n",
       "      <td>Todavía no me puedo creer lo que hice anoche, ...</td>\n",
       "      <td>past</td>\n",
       "      <td>last years</td>\n",
       "      <td>medium</td>\n",
       "      <td>5</td>\n",
       "    </tr>\n",
       "    <tr>\n",
       "      <th>2</th>\n",
       "      <td>Dime quién soy</td>\n",
       "      <td>Julia Navarro</td>\n",
       "      <td>Plaza Janes</td>\n",
       "      <td>historical</td>\n",
       "      <td>NaN</td>\n",
       "      <td>2010</td>\n",
       "      <td>1097</td>\n",
       "      <td>paperback, pocket</td>\n",
       "      <td>standalone</td>\n",
       "      <td>spanish</td>\n",
       "      <td>La familia de Amelia Garayoa (bisabuela) quier...</td>\n",
       "      <td>family, love, revenge, pain/trauma, personal g...</td>\n",
       "      <td>1960</td>\n",
       "      <td>spain, paris, buenos aires, moscow, rome, lond...</td>\n",
       "      <td>1 - 3</td>\n",
       "      <td>female</td>\n",
       "      <td>18-30</td>\n",
       "      <td>Valiente pero a la vez insegura. Inmadura en m...</td>\n",
       "      <td>external narrator</td>\n",
       "      <td>yes</td>\n",
       "      <td>i recommend, favourite one, addictive, wonderf...</td>\n",
       "      <td>reflexive, intense emotions, overall good feel...</td>\n",
       "      <td>El despacho de mi tía resultaba agobiante. En ...</td>\n",
       "      <td>past</td>\n",
       "      <td>last years</td>\n",
       "      <td>long</td>\n",
       "      <td>1</td>\n",
       "    </tr>\n",
       "    <tr>\n",
       "      <th>3</th>\n",
       "      <td>Una corte de rosas y espinas</td>\n",
       "      <td>Sarah J Maas</td>\n",
       "      <td>Planeta</td>\n",
       "      <td>fantasy</td>\n",
       "      <td>romance</td>\n",
       "      <td>2016</td>\n",
       "      <td>463</td>\n",
       "      <td>paperback</td>\n",
       "      <td>series/saga</td>\n",
       "      <td>english</td>\n",
       "      <td>Una chica humana que vive en un mundo donde se...</td>\n",
       "      <td>family, friendship, love, feminism</td>\n",
       "      <td>ficticious time</td>\n",
       "      <td>ficticious world</td>\n",
       "      <td>4 - 6</td>\n",
       "      <td>female</td>\n",
       "      <td>18-30</td>\n",
       "      <td>Fuerte pero con cierta vulnerabilidad</td>\n",
       "      <td>1st unique</td>\n",
       "      <td>no</td>\n",
       "      <td>favourite one</td>\n",
       "      <td>intense emotions, love</td>\n",
       "      <td>Por las estrellas que escuchan y los sueños qu...</td>\n",
       "      <td>ficticious time</td>\n",
       "      <td>last years</td>\n",
       "      <td>medium</td>\n",
       "      <td>2</td>\n",
       "    </tr>\n",
       "    <tr>\n",
       "      <th>4</th>\n",
       "      <td>Frankenstein o El Moderno Prometeo</td>\n",
       "      <td>Mary Shelley</td>\n",
       "      <td>Edimat</td>\n",
       "      <td>science fiction</td>\n",
       "      <td>classic, gothic, victorian</td>\n",
       "      <td>1818</td>\n",
       "      <td>250</td>\n",
       "      <td>hardback</td>\n",
       "      <td>standalone</td>\n",
       "      <td>english</td>\n",
       "      <td>Un científico descubre cómo darle vida a una c...</td>\n",
       "      <td>goals/dreams, good and evil forces , nature, g...</td>\n",
       "      <td>1700</td>\n",
       "      <td>geneva, london, germany</td>\n",
       "      <td>1 - 3</td>\n",
       "      <td>male</td>\n",
       "      <td>18-30</td>\n",
       "      <td>Hombre joven de la clase aristocrática de Gine...</td>\n",
       "      <td>1st multiple</td>\n",
       "      <td>yes</td>\n",
       "      <td>i recommend, favourite one, wonderful characte...</td>\n",
       "      <td>fun/laughing, reflexive, empathy, sadness, ten...</td>\n",
       "      <td>Aprende de mí, sino por mis preceptos, al meno...</td>\n",
       "      <td>past</td>\n",
       "      <td>past centuries</td>\n",
       "      <td>short</td>\n",
       "      <td>6</td>\n",
       "    </tr>\n",
       "  </tbody>\n",
       "</table>\n",
       "</div>"
      ],
      "text/plain": [
       "                                title            author publishing_house  \\\n",
       "0                 Nosotros en la luna      Alice kellen          Planeta   \n",
       "1     El día que se perdio la cordura  Javier Castillo        Debolsillo   \n",
       "2                      Dime quién soy     Julia Navarro      Plaza Janes   \n",
       "3        Una corte de rosas y espinas      Sarah J Maas          Planeta   \n",
       "4  Frankenstein o El Moderno Prometeo      Mary Shelley           Edimat   \n",
       "\n",
       "             genre                    subgenre  publication_date  pages  \\\n",
       "0          romance                   new adult              2020    477   \n",
       "1         thriller               psychological              2017    456   \n",
       "2       historical                         NaN              2010   1097   \n",
       "3          fantasy                     romance              2016    463   \n",
       "4  science fiction  classic, gothic, victorian              1818    250   \n",
       "\n",
       "             edition story_length original_language  \\\n",
       "0  paperback, pocket   standalone           spanish   \n",
       "1  paperback, pocket  series/saga           spanish   \n",
       "2  paperback, pocket   standalone           spanish   \n",
       "3          paperback  series/saga           english   \n",
       "4           hardback   standalone           english   \n",
       "\n",
       "                                               theme  \\\n",
       "0  Una chica que acaba de romper con su novio de ...   \n",
       "1  Amor, odio, extrañas prácticas, intriga y acci...   \n",
       "2  La familia de Amelia Garayoa (bisabuela) quier...   \n",
       "3  Una chica humana que vive en un mundo donde se...   \n",
       "4  Un científico descubre cómo darle vida a una c...   \n",
       "\n",
       "                                         main_topics     setting_time  \\\n",
       "0  friendship, love, goals/dreams, personal growt...     current time   \n",
       "1                                               love             1892   \n",
       "2  family, love, revenge, pain/trauma, personal g...             1960   \n",
       "3                 family, friendship, love, feminism  ficticious time   \n",
       "4  goals/dreams, good and evil forces , nature, g...             1700   \n",
       "\n",
       "                                       setting_place character_number  \\\n",
       "0               paris, london, ibiza, australia, usa            1 - 3   \n",
       "1                                                 uk            4 - 6   \n",
       "2  spain, paris, buenos aires, moscow, rome, lond...            1 - 3   \n",
       "3                                   ficticious world            4 - 6   \n",
       "4                            geneva, london, germany            1 - 3   \n",
       "\n",
       "  character_gender character_age  \\\n",
       "0           female         18-30   \n",
       "1             male         41-50   \n",
       "2           female         18-30   \n",
       "3           female         18-30   \n",
       "4             male         18-30   \n",
       "\n",
       "                               character_description                pov  \\\n",
       "0  Ginger empieza siendo una chica insegura, está...       1st multiple   \n",
       "1                                 Una persona adulta       1st multiple   \n",
       "2  Valiente pero a la vez insegura. Inmadura en m...  external narrator   \n",
       "3             Fuerte pero con cierta vulnerabilidad          1st unique   \n",
       "4  Hombre joven de la clase aristocrática de Gine...       1st multiple   \n",
       "\n",
       "  adaptation                                             review  \\\n",
       "0         no  i recommend, favourite one, easy to read, cohe...   \n",
       "1         no                         i recommend, favourite one   \n",
       "2        yes  i recommend, favourite one, addictive, wonderf...   \n",
       "3         no                                      favourite one   \n",
       "4        yes  i recommend, favourite one, wonderful characte...   \n",
       "\n",
       "                                            feelings  \\\n",
       "0  reflexive, escape from reality, intense emotio...   \n",
       "1             intense emotions, nervousness, empathy   \n",
       "2  reflexive, intense emotions, overall good feel...   \n",
       "3                             intense emotions, love   \n",
       "4  fun/laughing, reflexive, empathy, sadness, ten...   \n",
       "\n",
       "                                               quote       time_clean  \\\n",
       "0  Es imposible saber cuando conocerás a esa pers...     current time   \n",
       "1  Todavía no me puedo creer lo que hice anoche, ...             past   \n",
       "2  El despacho de mi tía resultaba agobiante. En ...             past   \n",
       "3  Por las estrellas que escuchan y los sueños qu...  ficticious time   \n",
       "4  Aprende de mí, sino por mis preceptos, al meno...             past   \n",
       "\n",
       "  publication_date_clean pages_clean  cluster  \n",
       "0              hot books      medium        0  \n",
       "1             last years      medium        5  \n",
       "2             last years        long        1  \n",
       "3             last years      medium        2  \n",
       "4         past centuries       short        6  "
      ]
     },
     "execution_count": 202,
     "metadata": {},
     "output_type": "execute_result"
    }
   ],
   "source": [
    "books_clusters.head(5)"
   ]
  },
  {
   "cell_type": "code",
   "execution_count": 203,
   "id": "ba27465b",
   "metadata": {},
   "outputs": [
    {
     "data": {
      "text/plain": [
       "(425, 27)"
      ]
     },
     "execution_count": 203,
     "metadata": {},
     "output_type": "execute_result"
    }
   ],
   "source": [
    "books_clusters.shape"
   ]
  },
  {
   "cell_type": "code",
   "execution_count": 204,
   "id": "4152a331",
   "metadata": {},
   "outputs": [],
   "source": [
    "books_clusters.to_excel('books_clusters12.xlsx', index=False)"
   ]
  }
 ],
 "metadata": {
  "kernelspec": {
   "display_name": "Python 3",
   "language": "python",
   "name": "python3"
  },
  "language_info": {
   "codemirror_mode": {
    "name": "ipython",
    "version": 3
   },
   "file_extension": ".py",
   "mimetype": "text/x-python",
   "name": "python",
   "nbconvert_exporter": "python",
   "pygments_lexer": "ipython3",
   "version": "3.8.8"
  },
  "toc": {
   "base_numbering": 1,
   "nav_menu": {},
   "number_sections": true,
   "sideBar": true,
   "skip_h1_title": false,
   "title_cell": "Table of Contents",
   "title_sidebar": "Contents",
   "toc_cell": false,
   "toc_position": {},
   "toc_section_display": true,
   "toc_window_display": false
  }
 },
 "nbformat": 4,
 "nbformat_minor": 5
}
